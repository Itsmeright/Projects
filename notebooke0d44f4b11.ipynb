{
 "cells": [
  {
   "cell_type": "markdown",
   "id": "fa29bf45",
   "metadata": {
    "papermill": {
     "duration": 0.010596,
     "end_time": "2022-08-25T12:46:29.815084",
     "exception": false,
     "start_time": "2022-08-25T12:46:29.804488",
     "status": "completed"
    },
    "tags": []
   },
   "source": [
    "# CLUSTERING OF MUSIC GENRES"
   ]
  },
  {
   "cell_type": "markdown",
   "id": "18d38802",
   "metadata": {
    "papermill": {
     "duration": 0.00904,
     "end_time": "2022-08-25T12:46:29.834237",
     "exception": false,
     "start_time": "2022-08-25T12:46:29.825197",
     "status": "completed"
    },
    "tags": []
   },
   "source": [
    "# Group Members\n",
    "This project was done with collaboration with the following people\n",
    "<ol>\n",
    "<li>FARAYOLA GRACE (ME)</li>\n",
    "<li>BABATUNDE OLAITAN</li>\n",
    "<li>ELUDINI INIOLUWA</li>\n",
    "<li>UGWUONAH IRENE</li>\n",
    "</ol>"
   ]
  },
  {
   "cell_type": "markdown",
   "id": "e1170f73",
   "metadata": {
    "papermill": {
     "duration": 0.00904,
     "end_time": "2022-08-25T12:46:29.853079",
     "exception": false,
     "start_time": "2022-08-25T12:46:29.844039",
     "status": "completed"
    },
    "tags": []
   },
   "source": [
    "## Introduction"
   ]
  },
  {
   "cell_type": "markdown",
   "id": "0f9a2db3",
   "metadata": {
    "papermill": {
     "duration": 0.009188,
     "end_time": "2022-08-25T12:46:29.872214",
     "exception": false,
     "start_time": "2022-08-25T12:46:29.863026",
     "status": "completed"
    },
    "tags": []
   },
   "source": [
    "Music is sound that has been organized by using rhythm, melody or harmony. \n",
    "Every person has a different taste in music. People prefer styles of music that are consistent with their personalities. Music recommendation on streaming apps depends on the information of the kind of songs a person listens to daily, as well as the similarities in the music files so as to recommend similar music to the person.\n",
    "That is where the cluster analysis of music genres comes in. A dataset of popular songs on Spotify, which contains artists and music names with all audio characteristics including Beats Per Minute (BPM), Energy, Danceability, Loudness(dB), Liveness, Valence, Length(Duration), Acousticness, Speechiness and  Popularity of each music was extracted. The goal is to group music genres based on similarities in their audio characteristics."
   ]
  },
  {
   "cell_type": "markdown",
   "id": "a0a7c6de",
   "metadata": {
    "papermill": {
     "duration": 0.010073,
     "end_time": "2022-08-25T12:46:29.891825",
     "exception": false,
     "start_time": "2022-08-25T12:46:29.881752",
     "status": "completed"
    },
    "tags": []
   },
   "source": [
    "Spotify is a proprietary Swedish audio streaming and media services provider founded on 23 April 2006 by Daniel Ek and Martin Lorentzon. It is one of the largest music streaming service providers, with over 422 million monthly active users, including 182 million paying subscribers, as of March 2022.\n",
    "Spotify offers digital copyright restricted recorded music and podcasts, including more than 82 million songs, from record labels and media companies. \n",
    "Spotify is currently available in 180+ countries, as of October 2021. Users can  browse or search for music based on artist, album, genre, playlist, or record label, and can create, edit, and share playlists. \n",
    " "
   ]
  },
  {
   "cell_type": "markdown",
   "id": "73be26f7",
   "metadata": {
    "papermill": {
     "duration": 0.009007,
     "end_time": "2022-08-25T12:46:29.910189",
     "exception": false,
     "start_time": "2022-08-25T12:46:29.901182",
     "status": "completed"
    },
    "tags": []
   },
   "source": [
    "### Summary"
   ]
  },
  {
   "cell_type": "markdown",
   "id": "c25fc003",
   "metadata": {
    "papermill": {
     "duration": 0.008972,
     "end_time": "2022-08-25T12:46:29.928665",
     "exception": false,
     "start_time": "2022-08-25T12:46:29.919693",
     "status": "completed"
    },
    "tags": []
   },
   "source": [
    "This dataset contains audio statistics of the top tracks on Spotify. The data contains columns each describing the track and the music qualities. The tracks are songs from 1959 to 2019 of some notable and famous artists. The audio features from the tracks were extracted through Spotify API. The dataset consists of these features:\n",
    "Index: ID\n",
    "Title: Name of the track\n",
    "Artist: Name of the Artist\n",
    "Top Genre: Genre of the track\n",
    "Year: Release year of the track\\\n",
    "Beats Per Minute (BPM): The tempo of the song\n",
    "Energy: The energy of the song\n",
    "Danceability\n",
    "Loudness (dB)\n",
    "Liveness\n",
    "Valence\n",
    "Length (Duration)\n",
    "Acousticness\n",
    "Popularity"
   ]
  },
  {
   "cell_type": "markdown",
   "id": "f3528f5f",
   "metadata": {
    "papermill": {
     "duration": 0.009028,
     "end_time": "2022-08-25T12:46:29.947402",
     "exception": false,
     "start_time": "2022-08-25T12:46:29.938374",
     "status": "completed"
    },
    "tags": []
   },
   "source": [
    "Instrumentalness: This value represents the amount of vocals in the song.\n",
    "Acousticness: This value describes how acoustic a song is. \n",
    "Liveness: This value describes the probability that the song was recorded with a live audience. \n",
    "Speechiness: Speechiness detects the presence of spoken words in a track”. \n",
    "Energy: Energy represents a perceptual measure of intensity and activity. Typically, energetic tracks feel fast, loud, and noisy.\n",
    "Danceability: Danceability describes how suitable a track is for dancing based on a combination of musical elements including tempo, rhythm stability, beat strength, and overall regularity. \n",
    "Valence: It describes the musical positiveness conveyed by a track. Tracks with high valence sound more positive (e.g. happy, cheerful, euphoric), while tracks with low valence sound more negative (e.g. sad, depressed, angry)”."
   ]
  },
  {
   "cell_type": "markdown",
   "id": "8ba3987f",
   "metadata": {
    "papermill": {
     "duration": 0.009272,
     "end_time": "2022-08-25T12:46:29.965963",
     "exception": false,
     "start_time": "2022-08-25T12:46:29.956691",
     "status": "completed"
    },
    "tags": []
   },
   "source": [
    "Importing and reading data."
   ]
  },
  {
   "cell_type": "code",
   "execution_count": 1,
   "id": "1694a3a8",
   "metadata": {
    "execution": {
     "iopub.execute_input": "2022-08-25T12:46:29.987232Z",
     "iopub.status.busy": "2022-08-25T12:46:29.986797Z",
     "iopub.status.idle": "2022-08-25T12:46:31.093920Z",
     "shell.execute_reply": "2022-08-25T12:46:31.092642Z"
    },
    "papermill": {
     "duration": 1.121452,
     "end_time": "2022-08-25T12:46:31.097027",
     "exception": false,
     "start_time": "2022-08-25T12:46:29.975575",
     "status": "completed"
    },
    "tags": []
   },
   "outputs": [
    {
     "data": {
      "text/html": [
       "<div>\n",
       "<style scoped>\n",
       "    .dataframe tbody tr th:only-of-type {\n",
       "        vertical-align: middle;\n",
       "    }\n",
       "\n",
       "    .dataframe tbody tr th {\n",
       "        vertical-align: top;\n",
       "    }\n",
       "\n",
       "    .dataframe thead th {\n",
       "        text-align: right;\n",
       "    }\n",
       "</style>\n",
       "<table border=\"1\" class=\"dataframe\">\n",
       "  <thead>\n",
       "    <tr style=\"text-align: right;\">\n",
       "      <th></th>\n",
       "      <th>Index</th>\n",
       "      <th>Title</th>\n",
       "      <th>Artist</th>\n",
       "      <th>Top Genre</th>\n",
       "      <th>Year</th>\n",
       "      <th>Beats Per Minute (BPM)</th>\n",
       "      <th>Energy</th>\n",
       "      <th>Danceability</th>\n",
       "      <th>Loudness (dB)</th>\n",
       "      <th>Liveness</th>\n",
       "      <th>Valence</th>\n",
       "      <th>Length (Duration)</th>\n",
       "      <th>Acousticness</th>\n",
       "      <th>Speechiness</th>\n",
       "      <th>Popularity</th>\n",
       "    </tr>\n",
       "  </thead>\n",
       "  <tbody>\n",
       "    <tr>\n",
       "      <th>0</th>\n",
       "      <td>1</td>\n",
       "      <td>Sunrise</td>\n",
       "      <td>Norah Jones</td>\n",
       "      <td>adult standards</td>\n",
       "      <td>2004</td>\n",
       "      <td>157</td>\n",
       "      <td>30</td>\n",
       "      <td>53</td>\n",
       "      <td>-14</td>\n",
       "      <td>11</td>\n",
       "      <td>68</td>\n",
       "      <td>201</td>\n",
       "      <td>94</td>\n",
       "      <td>3</td>\n",
       "      <td>71</td>\n",
       "    </tr>\n",
       "    <tr>\n",
       "      <th>1</th>\n",
       "      <td>2</td>\n",
       "      <td>Black Night</td>\n",
       "      <td>Deep Purple</td>\n",
       "      <td>album rock</td>\n",
       "      <td>2000</td>\n",
       "      <td>135</td>\n",
       "      <td>79</td>\n",
       "      <td>50</td>\n",
       "      <td>-11</td>\n",
       "      <td>17</td>\n",
       "      <td>81</td>\n",
       "      <td>207</td>\n",
       "      <td>17</td>\n",
       "      <td>7</td>\n",
       "      <td>39</td>\n",
       "    </tr>\n",
       "    <tr>\n",
       "      <th>2</th>\n",
       "      <td>3</td>\n",
       "      <td>Clint Eastwood</td>\n",
       "      <td>Gorillaz</td>\n",
       "      <td>alternative hip hop</td>\n",
       "      <td>2001</td>\n",
       "      <td>168</td>\n",
       "      <td>69</td>\n",
       "      <td>66</td>\n",
       "      <td>-9</td>\n",
       "      <td>7</td>\n",
       "      <td>52</td>\n",
       "      <td>341</td>\n",
       "      <td>2</td>\n",
       "      <td>17</td>\n",
       "      <td>69</td>\n",
       "    </tr>\n",
       "    <tr>\n",
       "      <th>3</th>\n",
       "      <td>4</td>\n",
       "      <td>The Pretender</td>\n",
       "      <td>Foo Fighters</td>\n",
       "      <td>alternative metal</td>\n",
       "      <td>2007</td>\n",
       "      <td>173</td>\n",
       "      <td>96</td>\n",
       "      <td>43</td>\n",
       "      <td>-4</td>\n",
       "      <td>3</td>\n",
       "      <td>37</td>\n",
       "      <td>269</td>\n",
       "      <td>0</td>\n",
       "      <td>4</td>\n",
       "      <td>76</td>\n",
       "    </tr>\n",
       "    <tr>\n",
       "      <th>4</th>\n",
       "      <td>5</td>\n",
       "      <td>Waitin' On A Sunny Day</td>\n",
       "      <td>Bruce Springsteen</td>\n",
       "      <td>classic rock</td>\n",
       "      <td>2002</td>\n",
       "      <td>106</td>\n",
       "      <td>82</td>\n",
       "      <td>58</td>\n",
       "      <td>-5</td>\n",
       "      <td>10</td>\n",
       "      <td>87</td>\n",
       "      <td>256</td>\n",
       "      <td>1</td>\n",
       "      <td>3</td>\n",
       "      <td>59</td>\n",
       "    </tr>\n",
       "  </tbody>\n",
       "</table>\n",
       "</div>"
      ],
      "text/plain": [
       "   Index                   Title             Artist            Top Genre  \\\n",
       "0      1                 Sunrise        Norah Jones      adult standards   \n",
       "1      2             Black Night        Deep Purple           album rock   \n",
       "2      3          Clint Eastwood           Gorillaz  alternative hip hop   \n",
       "3      4           The Pretender       Foo Fighters    alternative metal   \n",
       "4      5  Waitin' On A Sunny Day  Bruce Springsteen         classic rock   \n",
       "\n",
       "   Year  Beats Per Minute (BPM)  Energy  Danceability  Loudness (dB)  \\\n",
       "0  2004                     157      30            53            -14   \n",
       "1  2000                     135      79            50            -11   \n",
       "2  2001                     168      69            66             -9   \n",
       "3  2007                     173      96            43             -4   \n",
       "4  2002                     106      82            58             -5   \n",
       "\n",
       "   Liveness  Valence Length (Duration)  Acousticness  Speechiness  Popularity  \n",
       "0        11       68               201            94            3          71  \n",
       "1        17       81               207            17            7          39  \n",
       "2         7       52               341             2           17          69  \n",
       "3         3       37               269             0            4          76  \n",
       "4        10       87               256             1            3          59  "
      ]
     },
     "execution_count": 1,
     "metadata": {},
     "output_type": "execute_result"
    }
   ],
   "source": [
    "import pandas as pd\n",
    "import numpy as np\n",
    "import seaborn as sns\n",
    "import matplotlib.pyplot as plt\n",
    "spotify_data = pd.read_csv(\"../input/spotify-top-2000s-mega-dataset/Spotify-2000.csv\")\n",
    "spotify_data.head()"
   ]
  },
  {
   "cell_type": "code",
   "execution_count": 2,
   "id": "dc99019d",
   "metadata": {
    "execution": {
     "iopub.execute_input": "2022-08-25T12:46:31.119006Z",
     "iopub.status.busy": "2022-08-25T12:46:31.118117Z",
     "iopub.status.idle": "2022-08-25T12:46:31.125685Z",
     "shell.execute_reply": "2022-08-25T12:46:31.124673Z"
    },
    "papermill": {
     "duration": 0.021007,
     "end_time": "2022-08-25T12:46:31.127796",
     "exception": false,
     "start_time": "2022-08-25T12:46:31.106789",
     "status": "completed"
    },
    "tags": []
   },
   "outputs": [
    {
     "data": {
      "text/plain": [
       "(1994, 15)"
      ]
     },
     "execution_count": 2,
     "metadata": {},
     "output_type": "execute_result"
    }
   ],
   "source": [
    "spotify_data.shape #the numbers of data rows and columns"
   ]
  },
  {
   "cell_type": "code",
   "execution_count": 3,
   "id": "189b4ae6",
   "metadata": {
    "execution": {
     "iopub.execute_input": "2022-08-25T12:46:31.150269Z",
     "iopub.status.busy": "2022-08-25T12:46:31.149319Z",
     "iopub.status.idle": "2022-08-25T12:46:31.175109Z",
     "shell.execute_reply": "2022-08-25T12:46:31.174022Z"
    },
    "papermill": {
     "duration": 0.04083,
     "end_time": "2022-08-25T12:46:31.178528",
     "exception": false,
     "start_time": "2022-08-25T12:46:31.137698",
     "status": "completed"
    },
    "tags": []
   },
   "outputs": [
    {
     "name": "stdout",
     "output_type": "stream",
     "text": [
      "<class 'pandas.core.frame.DataFrame'>\n",
      "RangeIndex: 1994 entries, 0 to 1993\n",
      "Data columns (total 15 columns):\n",
      " #   Column                  Non-Null Count  Dtype \n",
      "---  ------                  --------------  ----- \n",
      " 0   Index                   1994 non-null   int64 \n",
      " 1   Title                   1994 non-null   object\n",
      " 2   Artist                  1994 non-null   object\n",
      " 3   Top Genre               1994 non-null   object\n",
      " 4   Year                    1994 non-null   int64 \n",
      " 5   Beats Per Minute (BPM)  1994 non-null   int64 \n",
      " 6   Energy                  1994 non-null   int64 \n",
      " 7   Danceability            1994 non-null   int64 \n",
      " 8   Loudness (dB)           1994 non-null   int64 \n",
      " 9   Liveness                1994 non-null   int64 \n",
      " 10  Valence                 1994 non-null   int64 \n",
      " 11  Length (Duration)       1994 non-null   object\n",
      " 12  Acousticness            1994 non-null   int64 \n",
      " 13  Speechiness             1994 non-null   int64 \n",
      " 14  Popularity              1994 non-null   int64 \n",
      "dtypes: int64(11), object(4)\n",
      "memory usage: 233.8+ KB\n"
     ]
    }
   ],
   "source": [
    "spotify_data.info() #the information of the data :The column names,  count of null values and their data types."
   ]
  },
  {
   "cell_type": "markdown",
   "id": "ae4d36ae",
   "metadata": {
    "papermill": {
     "duration": 0.014437,
     "end_time": "2022-08-25T12:46:31.205588",
     "exception": false,
     "start_time": "2022-08-25T12:46:31.191151",
     "status": "completed"
    },
    "tags": []
   },
   "source": [
    "### Data Cleaning"
   ]
  },
  {
   "cell_type": "code",
   "execution_count": 4,
   "id": "fafcba06",
   "metadata": {
    "execution": {
     "iopub.execute_input": "2022-08-25T12:46:31.239930Z",
     "iopub.status.busy": "2022-08-25T12:46:31.238975Z",
     "iopub.status.idle": "2022-08-25T12:46:31.251949Z",
     "shell.execute_reply": "2022-08-25T12:46:31.249984Z"
    },
    "papermill": {
     "duration": 0.029384,
     "end_time": "2022-08-25T12:46:31.255089",
     "exception": false,
     "start_time": "2022-08-25T12:46:31.225705",
     "status": "completed"
    },
    "tags": []
   },
   "outputs": [
    {
     "data": {
      "text/plain": [
       "Index                     0\n",
       "Title                     0\n",
       "Artist                    0\n",
       "Top Genre                 0\n",
       "Year                      0\n",
       "Beats Per Minute (BPM)    0\n",
       "Energy                    0\n",
       "Danceability              0\n",
       "Loudness (dB)             0\n",
       "Liveness                  0\n",
       "Valence                   0\n",
       "Length (Duration)         0\n",
       "Acousticness              0\n",
       "Speechiness               0\n",
       "Popularity                0\n",
       "dtype: int64"
      ]
     },
     "execution_count": 4,
     "metadata": {},
     "output_type": "execute_result"
    }
   ],
   "source": [
    "spotify_data.isnull().sum() #The sum of null values in each column."
   ]
  },
  {
   "cell_type": "code",
   "execution_count": 5,
   "id": "990060d8",
   "metadata": {
    "execution": {
     "iopub.execute_input": "2022-08-25T12:46:31.282389Z",
     "iopub.status.busy": "2022-08-25T12:46:31.281415Z",
     "iopub.status.idle": "2022-08-25T12:46:31.316305Z",
     "shell.execute_reply": "2022-08-25T12:46:31.314461Z"
    },
    "papermill": {
     "duration": 0.050164,
     "end_time": "2022-08-25T12:46:31.318981",
     "exception": false,
     "start_time": "2022-08-25T12:46:31.268817",
     "status": "completed"
    },
    "tags": []
   },
   "outputs": [
    {
     "name": "stdout",
     "output_type": "stream",
     "text": [
      "0       False\n",
      "1       False\n",
      "2       False\n",
      "3       False\n",
      "4       False\n",
      "        ...  \n",
      "1989    False\n",
      "1990    False\n",
      "1991    False\n",
      "1992    False\n",
      "1993    False\n",
      "Length: 1994, dtype: bool\n"
     ]
    },
    {
     "data": {
      "text/html": [
       "<div>\n",
       "<style scoped>\n",
       "    .dataframe tbody tr th:only-of-type {\n",
       "        vertical-align: middle;\n",
       "    }\n",
       "\n",
       "    .dataframe tbody tr th {\n",
       "        vertical-align: top;\n",
       "    }\n",
       "\n",
       "    .dataframe thead th {\n",
       "        text-align: right;\n",
       "    }\n",
       "</style>\n",
       "<table border=\"1\" class=\"dataframe\">\n",
       "  <thead>\n",
       "    <tr style=\"text-align: right;\">\n",
       "      <th></th>\n",
       "      <th>Index</th>\n",
       "      <th>Title</th>\n",
       "      <th>Artist</th>\n",
       "      <th>Top Genre</th>\n",
       "      <th>Year</th>\n",
       "      <th>Beats Per Minute (BPM)</th>\n",
       "      <th>Energy</th>\n",
       "      <th>Danceability</th>\n",
       "      <th>Loudness (dB)</th>\n",
       "      <th>Liveness</th>\n",
       "      <th>Valence</th>\n",
       "      <th>Length (Duration)</th>\n",
       "      <th>Acousticness</th>\n",
       "      <th>Speechiness</th>\n",
       "      <th>Popularity</th>\n",
       "    </tr>\n",
       "  </thead>\n",
       "  <tbody>\n",
       "    <tr>\n",
       "      <th>0</th>\n",
       "      <td>1</td>\n",
       "      <td>Sunrise</td>\n",
       "      <td>Norah Jones</td>\n",
       "      <td>adult standards</td>\n",
       "      <td>2004</td>\n",
       "      <td>157</td>\n",
       "      <td>30</td>\n",
       "      <td>53</td>\n",
       "      <td>-14</td>\n",
       "      <td>11</td>\n",
       "      <td>68</td>\n",
       "      <td>201</td>\n",
       "      <td>94</td>\n",
       "      <td>3</td>\n",
       "      <td>71</td>\n",
       "    </tr>\n",
       "    <tr>\n",
       "      <th>1</th>\n",
       "      <td>2</td>\n",
       "      <td>Black Night</td>\n",
       "      <td>Deep Purple</td>\n",
       "      <td>album rock</td>\n",
       "      <td>2000</td>\n",
       "      <td>135</td>\n",
       "      <td>79</td>\n",
       "      <td>50</td>\n",
       "      <td>-11</td>\n",
       "      <td>17</td>\n",
       "      <td>81</td>\n",
       "      <td>207</td>\n",
       "      <td>17</td>\n",
       "      <td>7</td>\n",
       "      <td>39</td>\n",
       "    </tr>\n",
       "    <tr>\n",
       "      <th>2</th>\n",
       "      <td>3</td>\n",
       "      <td>Clint Eastwood</td>\n",
       "      <td>Gorillaz</td>\n",
       "      <td>alternative hip hop</td>\n",
       "      <td>2001</td>\n",
       "      <td>168</td>\n",
       "      <td>69</td>\n",
       "      <td>66</td>\n",
       "      <td>-9</td>\n",
       "      <td>7</td>\n",
       "      <td>52</td>\n",
       "      <td>341</td>\n",
       "      <td>2</td>\n",
       "      <td>17</td>\n",
       "      <td>69</td>\n",
       "    </tr>\n",
       "    <tr>\n",
       "      <th>3</th>\n",
       "      <td>4</td>\n",
       "      <td>The Pretender</td>\n",
       "      <td>Foo Fighters</td>\n",
       "      <td>alternative metal</td>\n",
       "      <td>2007</td>\n",
       "      <td>173</td>\n",
       "      <td>96</td>\n",
       "      <td>43</td>\n",
       "      <td>-4</td>\n",
       "      <td>3</td>\n",
       "      <td>37</td>\n",
       "      <td>269</td>\n",
       "      <td>0</td>\n",
       "      <td>4</td>\n",
       "      <td>76</td>\n",
       "    </tr>\n",
       "    <tr>\n",
       "      <th>4</th>\n",
       "      <td>5</td>\n",
       "      <td>Waitin' On A Sunny Day</td>\n",
       "      <td>Bruce Springsteen</td>\n",
       "      <td>classic rock</td>\n",
       "      <td>2002</td>\n",
       "      <td>106</td>\n",
       "      <td>82</td>\n",
       "      <td>58</td>\n",
       "      <td>-5</td>\n",
       "      <td>10</td>\n",
       "      <td>87</td>\n",
       "      <td>256</td>\n",
       "      <td>1</td>\n",
       "      <td>3</td>\n",
       "      <td>59</td>\n",
       "    </tr>\n",
       "    <tr>\n",
       "      <th>...</th>\n",
       "      <td>...</td>\n",
       "      <td>...</td>\n",
       "      <td>...</td>\n",
       "      <td>...</td>\n",
       "      <td>...</td>\n",
       "      <td>...</td>\n",
       "      <td>...</td>\n",
       "      <td>...</td>\n",
       "      <td>...</td>\n",
       "      <td>...</td>\n",
       "      <td>...</td>\n",
       "      <td>...</td>\n",
       "      <td>...</td>\n",
       "      <td>...</td>\n",
       "      <td>...</td>\n",
       "    </tr>\n",
       "    <tr>\n",
       "      <th>1989</th>\n",
       "      <td>1990</td>\n",
       "      <td>Heartbreak Hotel</td>\n",
       "      <td>Elvis Presley</td>\n",
       "      <td>adult standards</td>\n",
       "      <td>1958</td>\n",
       "      <td>94</td>\n",
       "      <td>21</td>\n",
       "      <td>70</td>\n",
       "      <td>-12</td>\n",
       "      <td>11</td>\n",
       "      <td>72</td>\n",
       "      <td>128</td>\n",
       "      <td>84</td>\n",
       "      <td>7</td>\n",
       "      <td>63</td>\n",
       "    </tr>\n",
       "    <tr>\n",
       "      <th>1990</th>\n",
       "      <td>1991</td>\n",
       "      <td>Hound Dog</td>\n",
       "      <td>Elvis Presley</td>\n",
       "      <td>adult standards</td>\n",
       "      <td>1958</td>\n",
       "      <td>175</td>\n",
       "      <td>76</td>\n",
       "      <td>36</td>\n",
       "      <td>-8</td>\n",
       "      <td>76</td>\n",
       "      <td>95</td>\n",
       "      <td>136</td>\n",
       "      <td>73</td>\n",
       "      <td>6</td>\n",
       "      <td>69</td>\n",
       "    </tr>\n",
       "    <tr>\n",
       "      <th>1991</th>\n",
       "      <td>1992</td>\n",
       "      <td>Johnny B. Goode</td>\n",
       "      <td>Chuck Berry</td>\n",
       "      <td>blues rock</td>\n",
       "      <td>1959</td>\n",
       "      <td>168</td>\n",
       "      <td>80</td>\n",
       "      <td>53</td>\n",
       "      <td>-9</td>\n",
       "      <td>31</td>\n",
       "      <td>97</td>\n",
       "      <td>162</td>\n",
       "      <td>74</td>\n",
       "      <td>7</td>\n",
       "      <td>74</td>\n",
       "    </tr>\n",
       "    <tr>\n",
       "      <th>1992</th>\n",
       "      <td>1993</td>\n",
       "      <td>Take Five</td>\n",
       "      <td>The Dave Brubeck Quartet</td>\n",
       "      <td>bebop</td>\n",
       "      <td>1959</td>\n",
       "      <td>174</td>\n",
       "      <td>26</td>\n",
       "      <td>45</td>\n",
       "      <td>-13</td>\n",
       "      <td>7</td>\n",
       "      <td>60</td>\n",
       "      <td>324</td>\n",
       "      <td>54</td>\n",
       "      <td>4</td>\n",
       "      <td>65</td>\n",
       "    </tr>\n",
       "    <tr>\n",
       "      <th>1993</th>\n",
       "      <td>1994</td>\n",
       "      <td>Blueberry Hill</td>\n",
       "      <td>Fats Domino</td>\n",
       "      <td>adult standards</td>\n",
       "      <td>1959</td>\n",
       "      <td>133</td>\n",
       "      <td>50</td>\n",
       "      <td>49</td>\n",
       "      <td>-10</td>\n",
       "      <td>16</td>\n",
       "      <td>83</td>\n",
       "      <td>148</td>\n",
       "      <td>74</td>\n",
       "      <td>3</td>\n",
       "      <td>56</td>\n",
       "    </tr>\n",
       "  </tbody>\n",
       "</table>\n",
       "<p>1994 rows × 15 columns</p>\n",
       "</div>"
      ],
      "text/plain": [
       "      Index                   Title                    Artist  \\\n",
       "0         1                 Sunrise               Norah Jones   \n",
       "1         2             Black Night               Deep Purple   \n",
       "2         3          Clint Eastwood                  Gorillaz   \n",
       "3         4           The Pretender              Foo Fighters   \n",
       "4         5  Waitin' On A Sunny Day         Bruce Springsteen   \n",
       "...     ...                     ...                       ...   \n",
       "1989   1990        Heartbreak Hotel             Elvis Presley   \n",
       "1990   1991               Hound Dog             Elvis Presley   \n",
       "1991   1992         Johnny B. Goode               Chuck Berry   \n",
       "1992   1993               Take Five  The Dave Brubeck Quartet   \n",
       "1993   1994          Blueberry Hill               Fats Domino   \n",
       "\n",
       "                Top Genre  Year  Beats Per Minute (BPM)  Energy  Danceability  \\\n",
       "0         adult standards  2004                     157      30            53   \n",
       "1              album rock  2000                     135      79            50   \n",
       "2     alternative hip hop  2001                     168      69            66   \n",
       "3       alternative metal  2007                     173      96            43   \n",
       "4            classic rock  2002                     106      82            58   \n",
       "...                   ...   ...                     ...     ...           ...   \n",
       "1989      adult standards  1958                      94      21            70   \n",
       "1990      adult standards  1958                     175      76            36   \n",
       "1991           blues rock  1959                     168      80            53   \n",
       "1992                bebop  1959                     174      26            45   \n",
       "1993      adult standards  1959                     133      50            49   \n",
       "\n",
       "      Loudness (dB)  Liveness  Valence Length (Duration)  Acousticness  \\\n",
       "0               -14        11       68               201            94   \n",
       "1               -11        17       81               207            17   \n",
       "2                -9         7       52               341             2   \n",
       "3                -4         3       37               269             0   \n",
       "4                -5        10       87               256             1   \n",
       "...             ...       ...      ...               ...           ...   \n",
       "1989            -12        11       72               128            84   \n",
       "1990             -8        76       95               136            73   \n",
       "1991             -9        31       97               162            74   \n",
       "1992            -13         7       60               324            54   \n",
       "1993            -10        16       83               148            74   \n",
       "\n",
       "      Speechiness  Popularity  \n",
       "0               3          71  \n",
       "1               7          39  \n",
       "2              17          69  \n",
       "3               4          76  \n",
       "4               3          59  \n",
       "...           ...         ...  \n",
       "1989            7          63  \n",
       "1990            6          69  \n",
       "1991            7          74  \n",
       "1992            4          65  \n",
       "1993            3          56  \n",
       "\n",
       "[1994 rows x 15 columns]"
      ]
     },
     "execution_count": 5,
     "metadata": {},
     "output_type": "execute_result"
    }
   ],
   "source": [
    "print(spotify_data.duplicated())\n",
    "spotify_data #To check for duplicates in the data"
   ]
  },
  {
   "cell_type": "code",
   "execution_count": 6,
   "id": "e5aa7358",
   "metadata": {
    "execution": {
     "iopub.execute_input": "2022-08-25T12:46:31.343910Z",
     "iopub.status.busy": "2022-08-25T12:46:31.343182Z",
     "iopub.status.idle": "2022-08-25T12:46:31.350562Z",
     "shell.execute_reply": "2022-08-25T12:46:31.349822Z"
    },
    "papermill": {
     "duration": 0.021841,
     "end_time": "2022-08-25T12:46:31.352622",
     "exception": false,
     "start_time": "2022-08-25T12:46:31.330781",
     "status": "completed"
    },
    "tags": []
   },
   "outputs": [
    {
     "data": {
      "text/plain": [
       "Index                      int64\n",
       "Title                     object\n",
       "Artist                    object\n",
       "Top Genre                 object\n",
       "Year                       int64\n",
       "Beats Per Minute (BPM)     int64\n",
       "Energy                     int64\n",
       "Danceability               int64\n",
       "Loudness (dB)              int64\n",
       "Liveness                   int64\n",
       "Valence                    int64\n",
       "Length (Duration)         object\n",
       "Acousticness               int64\n",
       "Speechiness                int64\n",
       "Popularity                 int64\n",
       "dtype: object"
      ]
     },
     "execution_count": 6,
     "metadata": {},
     "output_type": "execute_result"
    }
   ],
   "source": [
    "spotify_data.dtypes #To check the data types"
   ]
  },
  {
   "cell_type": "code",
   "execution_count": 7,
   "id": "d7408962",
   "metadata": {
    "execution": {
     "iopub.execute_input": "2022-08-25T12:46:31.376729Z",
     "iopub.status.busy": "2022-08-25T12:46:31.376307Z",
     "iopub.status.idle": "2022-08-25T12:46:31.384526Z",
     "shell.execute_reply": "2022-08-25T12:46:31.383768Z"
    },
    "papermill": {
     "duration": 0.022768,
     "end_time": "2022-08-25T12:46:31.386734",
     "exception": false,
     "start_time": "2022-08-25T12:46:31.363966",
     "status": "completed"
    },
    "tags": []
   },
   "outputs": [],
   "source": [
    "spotify_data[\"Length (Duration)\"] = spotify_data[\"Length (Duration)\"].str.replace(',','') \n",
    "#To remove the ',' in 'Length (Duration) values'"
   ]
  },
  {
   "cell_type": "code",
   "execution_count": 8,
   "id": "2e1e2de4",
   "metadata": {
    "execution": {
     "iopub.execute_input": "2022-08-25T12:46:31.410576Z",
     "iopub.status.busy": "2022-08-25T12:46:31.410179Z",
     "iopub.status.idle": "2022-08-25T12:46:31.416130Z",
     "shell.execute_reply": "2022-08-25T12:46:31.415238Z"
    },
    "papermill": {
     "duration": 0.020339,
     "end_time": "2022-08-25T12:46:31.418184",
     "exception": false,
     "start_time": "2022-08-25T12:46:31.397845",
     "status": "completed"
    },
    "tags": []
   },
   "outputs": [],
   "source": [
    "spotify_data[\"Length (Duration)\"] = spotify_data[\"Length (Duration)\"].astype('int64')\n",
    "# To change the datatype of \"Length (Duration)\" from object to int64"
   ]
  },
  {
   "cell_type": "code",
   "execution_count": 9,
   "id": "ead2ec70",
   "metadata": {
    "execution": {
     "iopub.execute_input": "2022-08-25T12:46:31.442810Z",
     "iopub.status.busy": "2022-08-25T12:46:31.441748Z",
     "iopub.status.idle": "2022-08-25T12:46:31.450117Z",
     "shell.execute_reply": "2022-08-25T12:46:31.449109Z"
    },
    "papermill": {
     "duration": 0.022896,
     "end_time": "2022-08-25T12:46:31.452281",
     "exception": false,
     "start_time": "2022-08-25T12:46:31.429385",
     "status": "completed"
    },
    "tags": []
   },
   "outputs": [
    {
     "data": {
      "text/plain": [
       "Index                      int64\n",
       "Title                     object\n",
       "Artist                    object\n",
       "Top Genre                 object\n",
       "Year                       int64\n",
       "Beats Per Minute (BPM)     int64\n",
       "Energy                     int64\n",
       "Danceability               int64\n",
       "Loudness (dB)              int64\n",
       "Liveness                   int64\n",
       "Valence                    int64\n",
       "Length (Duration)          int64\n",
       "Acousticness               int64\n",
       "Speechiness                int64\n",
       "Popularity                 int64\n",
       "dtype: object"
      ]
     },
     "execution_count": 9,
     "metadata": {},
     "output_type": "execute_result"
    }
   ],
   "source": [
    "spotify_data.dtypes #To check if the change of datatype as been effected "
   ]
  },
  {
   "cell_type": "markdown",
   "id": "fb7a22aa",
   "metadata": {
    "papermill": {
     "duration": 0.011156,
     "end_time": "2022-08-25T12:46:31.474779",
     "exception": false,
     "start_time": "2022-08-25T12:46:31.463623",
     "status": "completed"
    },
    "tags": []
   },
   "source": [
    "## Data Exploration"
   ]
  },
  {
   "cell_type": "code",
   "execution_count": 10,
   "id": "7e616798",
   "metadata": {
    "execution": {
     "iopub.execute_input": "2022-08-25T12:46:31.500233Z",
     "iopub.status.busy": "2022-08-25T12:46:31.499529Z",
     "iopub.status.idle": "2022-08-25T12:46:31.548542Z",
     "shell.execute_reply": "2022-08-25T12:46:31.547463Z"
    },
    "papermill": {
     "duration": 0.064143,
     "end_time": "2022-08-25T12:46:31.550741",
     "exception": false,
     "start_time": "2022-08-25T12:46:31.486598",
     "status": "completed"
    },
    "tags": []
   },
   "outputs": [
    {
     "data": {
      "text/html": [
       "<div>\n",
       "<style scoped>\n",
       "    .dataframe tbody tr th:only-of-type {\n",
       "        vertical-align: middle;\n",
       "    }\n",
       "\n",
       "    .dataframe tbody tr th {\n",
       "        vertical-align: top;\n",
       "    }\n",
       "\n",
       "    .dataframe thead th {\n",
       "        text-align: right;\n",
       "    }\n",
       "</style>\n",
       "<table border=\"1\" class=\"dataframe\">\n",
       "  <thead>\n",
       "    <tr style=\"text-align: right;\">\n",
       "      <th></th>\n",
       "      <th>count</th>\n",
       "      <th>mean</th>\n",
       "      <th>std</th>\n",
       "      <th>min</th>\n",
       "      <th>25%</th>\n",
       "      <th>50%</th>\n",
       "      <th>75%</th>\n",
       "      <th>max</th>\n",
       "    </tr>\n",
       "  </thead>\n",
       "  <tbody>\n",
       "    <tr>\n",
       "      <th>Index</th>\n",
       "      <td>1994.0</td>\n",
       "      <td>997.500000</td>\n",
       "      <td>575.762538</td>\n",
       "      <td>1.0</td>\n",
       "      <td>499.25</td>\n",
       "      <td>997.5</td>\n",
       "      <td>1495.75</td>\n",
       "      <td>1994.0</td>\n",
       "    </tr>\n",
       "    <tr>\n",
       "      <th>Year</th>\n",
       "      <td>1994.0</td>\n",
       "      <td>1992.992979</td>\n",
       "      <td>16.116048</td>\n",
       "      <td>1956.0</td>\n",
       "      <td>1979.00</td>\n",
       "      <td>1993.0</td>\n",
       "      <td>2007.00</td>\n",
       "      <td>2019.0</td>\n",
       "    </tr>\n",
       "    <tr>\n",
       "      <th>Beats Per Minute (BPM)</th>\n",
       "      <td>1994.0</td>\n",
       "      <td>120.215647</td>\n",
       "      <td>28.028096</td>\n",
       "      <td>37.0</td>\n",
       "      <td>99.00</td>\n",
       "      <td>119.0</td>\n",
       "      <td>136.00</td>\n",
       "      <td>206.0</td>\n",
       "    </tr>\n",
       "    <tr>\n",
       "      <th>Energy</th>\n",
       "      <td>1994.0</td>\n",
       "      <td>59.679539</td>\n",
       "      <td>22.154322</td>\n",
       "      <td>3.0</td>\n",
       "      <td>42.00</td>\n",
       "      <td>61.0</td>\n",
       "      <td>78.00</td>\n",
       "      <td>100.0</td>\n",
       "    </tr>\n",
       "    <tr>\n",
       "      <th>Danceability</th>\n",
       "      <td>1994.0</td>\n",
       "      <td>53.238215</td>\n",
       "      <td>15.351507</td>\n",
       "      <td>10.0</td>\n",
       "      <td>43.00</td>\n",
       "      <td>53.0</td>\n",
       "      <td>64.00</td>\n",
       "      <td>96.0</td>\n",
       "    </tr>\n",
       "    <tr>\n",
       "      <th>Loudness (dB)</th>\n",
       "      <td>1994.0</td>\n",
       "      <td>-9.008526</td>\n",
       "      <td>3.647876</td>\n",
       "      <td>-27.0</td>\n",
       "      <td>-11.00</td>\n",
       "      <td>-8.0</td>\n",
       "      <td>-6.00</td>\n",
       "      <td>-2.0</td>\n",
       "    </tr>\n",
       "    <tr>\n",
       "      <th>Liveness</th>\n",
       "      <td>1994.0</td>\n",
       "      <td>19.012036</td>\n",
       "      <td>16.727378</td>\n",
       "      <td>2.0</td>\n",
       "      <td>9.00</td>\n",
       "      <td>12.0</td>\n",
       "      <td>23.00</td>\n",
       "      <td>99.0</td>\n",
       "    </tr>\n",
       "    <tr>\n",
       "      <th>Valence</th>\n",
       "      <td>1994.0</td>\n",
       "      <td>49.408726</td>\n",
       "      <td>24.858212</td>\n",
       "      <td>3.0</td>\n",
       "      <td>29.00</td>\n",
       "      <td>47.0</td>\n",
       "      <td>69.75</td>\n",
       "      <td>99.0</td>\n",
       "    </tr>\n",
       "    <tr>\n",
       "      <th>Length (Duration)</th>\n",
       "      <td>1994.0</td>\n",
       "      <td>262.443330</td>\n",
       "      <td>93.604387</td>\n",
       "      <td>93.0</td>\n",
       "      <td>212.00</td>\n",
       "      <td>245.0</td>\n",
       "      <td>289.00</td>\n",
       "      <td>1412.0</td>\n",
       "    </tr>\n",
       "    <tr>\n",
       "      <th>Acousticness</th>\n",
       "      <td>1994.0</td>\n",
       "      <td>28.858074</td>\n",
       "      <td>29.011986</td>\n",
       "      <td>0.0</td>\n",
       "      <td>3.00</td>\n",
       "      <td>18.0</td>\n",
       "      <td>50.00</td>\n",
       "      <td>99.0</td>\n",
       "    </tr>\n",
       "    <tr>\n",
       "      <th>Speechiness</th>\n",
       "      <td>1994.0</td>\n",
       "      <td>4.994985</td>\n",
       "      <td>4.401566</td>\n",
       "      <td>2.0</td>\n",
       "      <td>3.00</td>\n",
       "      <td>4.0</td>\n",
       "      <td>5.00</td>\n",
       "      <td>55.0</td>\n",
       "    </tr>\n",
       "    <tr>\n",
       "      <th>Popularity</th>\n",
       "      <td>1994.0</td>\n",
       "      <td>59.526580</td>\n",
       "      <td>14.351600</td>\n",
       "      <td>11.0</td>\n",
       "      <td>49.25</td>\n",
       "      <td>62.0</td>\n",
       "      <td>71.00</td>\n",
       "      <td>100.0</td>\n",
       "    </tr>\n",
       "  </tbody>\n",
       "</table>\n",
       "</div>"
      ],
      "text/plain": [
       "                         count         mean         std     min      25%  \\\n",
       "Index                   1994.0   997.500000  575.762538     1.0   499.25   \n",
       "Year                    1994.0  1992.992979   16.116048  1956.0  1979.00   \n",
       "Beats Per Minute (BPM)  1994.0   120.215647   28.028096    37.0    99.00   \n",
       "Energy                  1994.0    59.679539   22.154322     3.0    42.00   \n",
       "Danceability            1994.0    53.238215   15.351507    10.0    43.00   \n",
       "Loudness (dB)           1994.0    -9.008526    3.647876   -27.0   -11.00   \n",
       "Liveness                1994.0    19.012036   16.727378     2.0     9.00   \n",
       "Valence                 1994.0    49.408726   24.858212     3.0    29.00   \n",
       "Length (Duration)       1994.0   262.443330   93.604387    93.0   212.00   \n",
       "Acousticness            1994.0    28.858074   29.011986     0.0     3.00   \n",
       "Speechiness             1994.0     4.994985    4.401566     2.0     3.00   \n",
       "Popularity              1994.0    59.526580   14.351600    11.0    49.25   \n",
       "\n",
       "                           50%      75%     max  \n",
       "Index                    997.5  1495.75  1994.0  \n",
       "Year                    1993.0  2007.00  2019.0  \n",
       "Beats Per Minute (BPM)   119.0   136.00   206.0  \n",
       "Energy                    61.0    78.00   100.0  \n",
       "Danceability              53.0    64.00    96.0  \n",
       "Loudness (dB)             -8.0    -6.00    -2.0  \n",
       "Liveness                  12.0    23.00    99.0  \n",
       "Valence                   47.0    69.75    99.0  \n",
       "Length (Duration)        245.0   289.00  1412.0  \n",
       "Acousticness              18.0    50.00    99.0  \n",
       "Speechiness                4.0     5.00    55.0  \n",
       "Popularity                62.0    71.00   100.0  "
      ]
     },
     "execution_count": 10,
     "metadata": {},
     "output_type": "execute_result"
    }
   ],
   "source": [
    "spotify_data.describe().T #for statistical description"
   ]
  },
  {
   "cell_type": "code",
   "execution_count": 11,
   "id": "15d93c2f",
   "metadata": {
    "execution": {
     "iopub.execute_input": "2022-08-25T12:46:31.575439Z",
     "iopub.status.busy": "2022-08-25T12:46:31.575042Z",
     "iopub.status.idle": "2022-08-25T12:46:31.585909Z",
     "shell.execute_reply": "2022-08-25T12:46:31.585111Z"
    },
    "papermill": {
     "duration": 0.025652,
     "end_time": "2022-08-25T12:46:31.588007",
     "exception": false,
     "start_time": "2022-08-25T12:46:31.562355",
     "status": "completed"
    },
    "tags": []
   },
   "outputs": [
    {
     "data": {
      "text/plain": [
       "count           1994\n",
       "unique           149\n",
       "top       album rock\n",
       "freq             413\n",
       "Name: Top Genre, dtype: object"
      ]
     },
     "execution_count": 11,
     "metadata": {},
     "output_type": "execute_result"
    }
   ],
   "source": [
    "spotify_data[\"Top Genre\"].describe()"
   ]
  },
  {
   "cell_type": "code",
   "execution_count": 12,
   "id": "836531e9",
   "metadata": {
    "execution": {
     "iopub.execute_input": "2022-08-25T12:46:31.614147Z",
     "iopub.status.busy": "2022-08-25T12:46:31.613641Z",
     "iopub.status.idle": "2022-08-25T12:46:31.632013Z",
     "shell.execute_reply": "2022-08-25T12:46:31.630613Z"
    },
    "papermill": {
     "duration": 0.035026,
     "end_time": "2022-08-25T12:46:31.634650",
     "exception": false,
     "start_time": "2022-08-25T12:46:31.599624",
     "status": "completed"
    },
    "tags": []
   },
   "outputs": [
    {
     "data": {
      "text/plain": [
       "album rock           413\n",
       "adult standards      123\n",
       "dutch pop             88\n",
       "alternative rock      86\n",
       "dance pop             83\n",
       "                    ... \n",
       "streektaal             1\n",
       "indie anthem-folk      1\n",
       "la pop                 1\n",
       "ccm                    1\n",
       "bebop                  1\n",
       "Name: Top Genre, Length: 149, dtype: int64"
      ]
     },
     "execution_count": 12,
     "metadata": {},
     "output_type": "execute_result"
    }
   ],
   "source": [
    "spotify_data[\"Top Genre\"].value_counts()"
   ]
  },
  {
   "cell_type": "code",
   "execution_count": 13,
   "id": "8711894e",
   "metadata": {
    "execution": {
     "iopub.execute_input": "2022-08-25T12:46:31.668770Z",
     "iopub.status.busy": "2022-08-25T12:46:31.667629Z",
     "iopub.status.idle": "2022-08-25T12:46:31.680482Z",
     "shell.execute_reply": "2022-08-25T12:46:31.679094Z"
    },
    "papermill": {
     "duration": 0.033175,
     "end_time": "2022-08-25T12:46:31.683225",
     "exception": false,
     "start_time": "2022-08-25T12:46:31.650050",
     "status": "completed"
    },
    "tags": []
   },
   "outputs": [
    {
     "data": {
      "text/plain": [
       "count      1994\n",
       "unique      731\n",
       "top       Queen\n",
       "freq         37\n",
       "Name: Artist, dtype: object"
      ]
     },
     "execution_count": 13,
     "metadata": {},
     "output_type": "execute_result"
    }
   ],
   "source": [
    "spotify_data[\"Artist\"].describe()"
   ]
  },
  {
   "cell_type": "code",
   "execution_count": 14,
   "id": "2a71a5ec",
   "metadata": {
    "execution": {
     "iopub.execute_input": "2022-08-25T12:46:31.711588Z",
     "iopub.status.busy": "2022-08-25T12:46:31.710615Z",
     "iopub.status.idle": "2022-08-25T12:46:31.721282Z",
     "shell.execute_reply": "2022-08-25T12:46:31.720294Z"
    },
    "papermill": {
     "duration": 0.027353,
     "end_time": "2022-08-25T12:46:31.723410",
     "exception": false,
     "start_time": "2022-08-25T12:46:31.696057",
     "status": "completed"
    },
    "tags": []
   },
   "outputs": [
    {
     "data": {
      "text/plain": [
       "Queen                 37\n",
       "The Beatles           36\n",
       "Coldplay              27\n",
       "U2                    26\n",
       "The Rolling Stones    24\n",
       "                      ..\n",
       "Peter Schilling        1\n",
       "The Buoys              1\n",
       "New Order              1\n",
       "Limp Bizkit            1\n",
       "Fats Domino            1\n",
       "Name: Artist, Length: 731, dtype: int64"
      ]
     },
     "execution_count": 14,
     "metadata": {},
     "output_type": "execute_result"
    }
   ],
   "source": [
    "spotify_data[\"Artist\"].value_counts()"
   ]
  },
  {
   "cell_type": "code",
   "execution_count": 15,
   "id": "ae75d4ce",
   "metadata": {
    "execution": {
     "iopub.execute_input": "2022-08-25T12:46:31.750698Z",
     "iopub.status.busy": "2022-08-25T12:46:31.749383Z",
     "iopub.status.idle": "2022-08-25T12:46:31.758665Z",
     "shell.execute_reply": "2022-08-25T12:46:31.757732Z"
    },
    "papermill": {
     "duration": 0.024733,
     "end_time": "2022-08-25T12:46:31.760647",
     "exception": false,
     "start_time": "2022-08-25T12:46:31.735914",
     "status": "completed"
    },
    "tags": []
   },
   "outputs": [
    {
     "data": {
      "text/plain": [
       "2008    54\n",
       "1991    52\n",
       "2018    52\n",
       "1977    51\n",
       "2002    47\n",
       "        ..\n",
       "1962     3\n",
       "1959     3\n",
       "1961     1\n",
       "1960     1\n",
       "1956     1\n",
       "Name: Year, Length: 63, dtype: int64"
      ]
     },
     "execution_count": 15,
     "metadata": {},
     "output_type": "execute_result"
    }
   ],
   "source": [
    "spotify_data[\"Year\"].value_counts()"
   ]
  },
  {
   "cell_type": "code",
   "execution_count": 16,
   "id": "429d7db4",
   "metadata": {
    "execution": {
     "iopub.execute_input": "2022-08-25T12:46:31.787775Z",
     "iopub.status.busy": "2022-08-25T12:46:31.786802Z",
     "iopub.status.idle": "2022-08-25T12:46:31.802321Z",
     "shell.execute_reply": "2022-08-25T12:46:31.801213Z"
    },
    "papermill": {
     "duration": 0.03194,
     "end_time": "2022-08-25T12:46:31.804888",
     "exception": false,
     "start_time": "2022-08-25T12:46:31.772948",
     "status": "completed"
    },
    "tags": []
   },
   "outputs": [
    {
     "data": {
      "text/html": [
       "<div>\n",
       "<style scoped>\n",
       "    .dataframe tbody tr th:only-of-type {\n",
       "        vertical-align: middle;\n",
       "    }\n",
       "\n",
       "    .dataframe tbody tr th {\n",
       "        vertical-align: top;\n",
       "    }\n",
       "\n",
       "    .dataframe thead th {\n",
       "        text-align: right;\n",
       "    }\n",
       "</style>\n",
       "<table border=\"1\" class=\"dataframe\">\n",
       "  <thead>\n",
       "    <tr style=\"text-align: right;\">\n",
       "      <th></th>\n",
       "      <th>Popularity</th>\n",
       "    </tr>\n",
       "    <tr>\n",
       "      <th>Top Genre</th>\n",
       "      <th></th>\n",
       "    </tr>\n",
       "  </thead>\n",
       "  <tbody>\n",
       "    <tr>\n",
       "      <th>album rock</th>\n",
       "      <td>25067</td>\n",
       "    </tr>\n",
       "    <tr>\n",
       "      <th>adult standards</th>\n",
       "      <td>7697</td>\n",
       "    </tr>\n",
       "    <tr>\n",
       "      <th>alternative rock</th>\n",
       "      <td>5757</td>\n",
       "    </tr>\n",
       "    <tr>\n",
       "      <th>dance pop</th>\n",
       "      <td>5687</td>\n",
       "    </tr>\n",
       "    <tr>\n",
       "      <th>alternative metal</th>\n",
       "      <td>4621</td>\n",
       "    </tr>\n",
       "    <tr>\n",
       "      <th>...</th>\n",
       "      <td>...</td>\n",
       "    </tr>\n",
       "    <tr>\n",
       "      <th>australian alternative rock</th>\n",
       "      <td>33</td>\n",
       "    </tr>\n",
       "    <tr>\n",
       "      <th>rock-and-roll</th>\n",
       "      <td>33</td>\n",
       "    </tr>\n",
       "    <tr>\n",
       "      <th>compositional ambient</th>\n",
       "      <td>28</td>\n",
       "    </tr>\n",
       "    <tr>\n",
       "      <th>streektaal</th>\n",
       "      <td>28</td>\n",
       "    </tr>\n",
       "    <tr>\n",
       "      <th>classic italian pop</th>\n",
       "      <td>24</td>\n",
       "    </tr>\n",
       "  </tbody>\n",
       "</table>\n",
       "<p>149 rows × 1 columns</p>\n",
       "</div>"
      ],
      "text/plain": [
       "                             Popularity\n",
       "Top Genre                              \n",
       "album rock                        25067\n",
       "adult standards                    7697\n",
       "alternative rock                   5757\n",
       "dance pop                          5687\n",
       "alternative metal                  4621\n",
       "...                                 ...\n",
       "australian alternative rock          33\n",
       "rock-and-roll                        33\n",
       "compositional ambient                28\n",
       "streektaal                           28\n",
       "classic italian pop                  24\n",
       "\n",
       "[149 rows x 1 columns]"
      ]
     },
     "execution_count": 16,
     "metadata": {},
     "output_type": "execute_result"
    }
   ],
   "source": [
    "Topgenre =spotify_data.groupby('Top Genre').agg({'Popularity':'sum'}).sort_values('Popularity',ascending=False)\n",
    "Topgenre"
   ]
  },
  {
   "cell_type": "code",
   "execution_count": 17,
   "id": "68ddf69a",
   "metadata": {
    "execution": {
     "iopub.execute_input": "2022-08-25T12:46:31.833431Z",
     "iopub.status.busy": "2022-08-25T12:46:31.832499Z",
     "iopub.status.idle": "2022-08-25T12:46:31.849398Z",
     "shell.execute_reply": "2022-08-25T12:46:31.848281Z"
    },
    "papermill": {
     "duration": 0.033442,
     "end_time": "2022-08-25T12:46:31.851511",
     "exception": false,
     "start_time": "2022-08-25T12:46:31.818069",
     "status": "completed"
    },
    "tags": []
   },
   "outputs": [
    {
     "data": {
      "text/html": [
       "<div>\n",
       "<style scoped>\n",
       "    .dataframe tbody tr th:only-of-type {\n",
       "        vertical-align: middle;\n",
       "    }\n",
       "\n",
       "    .dataframe tbody tr th {\n",
       "        vertical-align: top;\n",
       "    }\n",
       "\n",
       "    .dataframe thead th {\n",
       "        text-align: right;\n",
       "    }\n",
       "</style>\n",
       "<table border=\"1\" class=\"dataframe\">\n",
       "  <thead>\n",
       "    <tr style=\"text-align: right;\">\n",
       "      <th></th>\n",
       "      <th>Popularity</th>\n",
       "    </tr>\n",
       "    <tr>\n",
       "      <th>Artist</th>\n",
       "      <th></th>\n",
       "    </tr>\n",
       "  </thead>\n",
       "  <tbody>\n",
       "    <tr>\n",
       "      <th>The Beatles</th>\n",
       "      <td>2451</td>\n",
       "    </tr>\n",
       "    <tr>\n",
       "      <th>Queen</th>\n",
       "      <td>2085</td>\n",
       "    </tr>\n",
       "    <tr>\n",
       "      <th>Coldplay</th>\n",
       "      <td>1888</td>\n",
       "    </tr>\n",
       "    <tr>\n",
       "      <th>Michael Jackson</th>\n",
       "      <td>1511</td>\n",
       "    </tr>\n",
       "    <tr>\n",
       "      <th>The Rolling Stones</th>\n",
       "      <td>1496</td>\n",
       "    </tr>\n",
       "    <tr>\n",
       "      <th>...</th>\n",
       "      <td>...</td>\n",
       "    </tr>\n",
       "    <tr>\n",
       "      <th>Spider Murphy Gang</th>\n",
       "      <td>26</td>\n",
       "    </tr>\n",
       "    <tr>\n",
       "      <th>Paolo Conte</th>\n",
       "      <td>25</td>\n",
       "    </tr>\n",
       "    <tr>\n",
       "      <th>Zucchero</th>\n",
       "      <td>24</td>\n",
       "    </tr>\n",
       "    <tr>\n",
       "      <th>Tori Amos</th>\n",
       "      <td>19</td>\n",
       "    </tr>\n",
       "    <tr>\n",
       "      <th>Wim Sonneveld</th>\n",
       "      <td>15</td>\n",
       "    </tr>\n",
       "  </tbody>\n",
       "</table>\n",
       "<p>731 rows × 1 columns</p>\n",
       "</div>"
      ],
      "text/plain": [
       "                    Popularity\n",
       "Artist                        \n",
       "The Beatles               2451\n",
       "Queen                     2085\n",
       "Coldplay                  1888\n",
       "Michael Jackson           1511\n",
       "The Rolling Stones        1496\n",
       "...                        ...\n",
       "Spider Murphy Gang          26\n",
       "Paolo Conte                 25\n",
       "Zucchero                    24\n",
       "Tori Amos                   19\n",
       "Wim Sonneveld               15\n",
       "\n",
       "[731 rows x 1 columns]"
      ]
     },
     "execution_count": 17,
     "metadata": {},
     "output_type": "execute_result"
    }
   ],
   "source": [
    "Artist_pop =spotify_data.groupby('Artist').agg({'Popularity':'sum'}).sort_values('Popularity',ascending=False)\n",
    "Artist_pop"
   ]
  },
  {
   "cell_type": "code",
   "execution_count": 18,
   "id": "d3d73702",
   "metadata": {
    "execution": {
     "iopub.execute_input": "2022-08-25T12:46:31.880341Z",
     "iopub.status.busy": "2022-08-25T12:46:31.879939Z",
     "iopub.status.idle": "2022-08-25T12:46:31.924824Z",
     "shell.execute_reply": "2022-08-25T12:46:31.923738Z"
    },
    "papermill": {
     "duration": 0.062634,
     "end_time": "2022-08-25T12:46:31.927290",
     "exception": false,
     "start_time": "2022-08-25T12:46:31.864656",
     "status": "completed"
    },
    "tags": []
   },
   "outputs": [
    {
     "data": {
      "text/html": [
       "<div>\n",
       "<style scoped>\n",
       "    .dataframe tbody tr th:only-of-type {\n",
       "        vertical-align: middle;\n",
       "    }\n",
       "\n",
       "    .dataframe tbody tr th {\n",
       "        vertical-align: top;\n",
       "    }\n",
       "\n",
       "    .dataframe thead th {\n",
       "        text-align: right;\n",
       "    }\n",
       "</style>\n",
       "<table border=\"1\" class=\"dataframe\">\n",
       "  <thead>\n",
       "    <tr style=\"text-align: right;\">\n",
       "      <th>Top Genre</th>\n",
       "      <th>acid jazz</th>\n",
       "      <th>acoustic pop</th>\n",
       "      <th>adult standards</th>\n",
       "      <th>afropop</th>\n",
       "      <th>alaska indie</th>\n",
       "      <th>album rock</th>\n",
       "      <th>alternative country</th>\n",
       "      <th>alternative dance</th>\n",
       "      <th>alternative hip hop</th>\n",
       "      <th>alternative metal</th>\n",
       "      <th>...</th>\n",
       "      <th>reggae</th>\n",
       "      <th>reggae fusion</th>\n",
       "      <th>rock-and-roll</th>\n",
       "      <th>scottish singer-songwriter</th>\n",
       "      <th>soft rock</th>\n",
       "      <th>stomp and holler</th>\n",
       "      <th>streektaal</th>\n",
       "      <th>trance</th>\n",
       "      <th>uk pop</th>\n",
       "      <th>yacht rock</th>\n",
       "    </tr>\n",
       "  </thead>\n",
       "  <tbody>\n",
       "    <tr>\n",
       "      <th>Index</th>\n",
       "      <td>185.0</td>\n",
       "      <td>355.25</td>\n",
       "      <td>1253.170732</td>\n",
       "      <td>30.0</td>\n",
       "      <td>557.0</td>\n",
       "      <td>1170.556901</td>\n",
       "      <td>1413.0</td>\n",
       "      <td>481.866667</td>\n",
       "      <td>182.5</td>\n",
       "      <td>951.885714</td>\n",
       "      <td>...</td>\n",
       "      <td>1109.250</td>\n",
       "      <td>1036.50</td>\n",
       "      <td>640.0</td>\n",
       "      <td>243.5</td>\n",
       "      <td>182.0</td>\n",
       "      <td>580.0</td>\n",
       "      <td>691.0</td>\n",
       "      <td>202.0</td>\n",
       "      <td>348.0</td>\n",
       "      <td>1288.0</td>\n",
       "    </tr>\n",
       "    <tr>\n",
       "      <th>Year</th>\n",
       "      <td>2006.0</td>\n",
       "      <td>2007.25</td>\n",
       "      <td>1979.016260</td>\n",
       "      <td>2004.0</td>\n",
       "      <td>2013.0</td>\n",
       "      <td>1980.883777</td>\n",
       "      <td>1987.0</td>\n",
       "      <td>2009.733333</td>\n",
       "      <td>2003.0</td>\n",
       "      <td>1999.800000</td>\n",
       "      <td>...</td>\n",
       "      <td>1978.500</td>\n",
       "      <td>1988.50</td>\n",
       "      <td>2015.0</td>\n",
       "      <td>2007.0</td>\n",
       "      <td>2004.0</td>\n",
       "      <td>2014.0</td>\n",
       "      <td>2017.0</td>\n",
       "      <td>2004.0</td>\n",
       "      <td>2005.0</td>\n",
       "      <td>1984.0</td>\n",
       "    </tr>\n",
       "    <tr>\n",
       "      <th>Beats Per Minute (BPM)</th>\n",
       "      <td>92.0</td>\n",
       "      <td>123.75</td>\n",
       "      <td>117.105691</td>\n",
       "      <td>154.0</td>\n",
       "      <td>131.0</td>\n",
       "      <td>121.929782</td>\n",
       "      <td>156.0</td>\n",
       "      <td>129.466667</td>\n",
       "      <td>153.5</td>\n",
       "      <td>124.442857</td>\n",
       "      <td>...</td>\n",
       "      <td>107.250</td>\n",
       "      <td>124.00</td>\n",
       "      <td>127.0</td>\n",
       "      <td>103.0</td>\n",
       "      <td>109.0</td>\n",
       "      <td>102.0</td>\n",
       "      <td>98.0</td>\n",
       "      <td>138.0</td>\n",
       "      <td>82.0</td>\n",
       "      <td>129.0</td>\n",
       "    </tr>\n",
       "    <tr>\n",
       "      <th>Energy</th>\n",
       "      <td>95.0</td>\n",
       "      <td>28.25</td>\n",
       "      <td>42.658537</td>\n",
       "      <td>70.0</td>\n",
       "      <td>22.0</td>\n",
       "      <td>59.549637</td>\n",
       "      <td>41.0</td>\n",
       "      <td>84.533333</td>\n",
       "      <td>70.0</td>\n",
       "      <td>73.885714</td>\n",
       "      <td>...</td>\n",
       "      <td>56.250</td>\n",
       "      <td>46.50</td>\n",
       "      <td>47.0</td>\n",
       "      <td>87.5</td>\n",
       "      <td>78.0</td>\n",
       "      <td>73.0</td>\n",
       "      <td>21.0</td>\n",
       "      <td>85.0</td>\n",
       "      <td>25.0</td>\n",
       "      <td>92.0</td>\n",
       "    </tr>\n",
       "    <tr>\n",
       "      <th>Danceability</th>\n",
       "      <td>66.0</td>\n",
       "      <td>48.75</td>\n",
       "      <td>49.162602</td>\n",
       "      <td>68.0</td>\n",
       "      <td>46.0</td>\n",
       "      <td>51.411622</td>\n",
       "      <td>45.0</td>\n",
       "      <td>49.400000</td>\n",
       "      <td>74.0</td>\n",
       "      <td>45.742857</td>\n",
       "      <td>...</td>\n",
       "      <td>77.125</td>\n",
       "      <td>86.25</td>\n",
       "      <td>76.0</td>\n",
       "      <td>61.0</td>\n",
       "      <td>70.0</td>\n",
       "      <td>48.0</td>\n",
       "      <td>61.0</td>\n",
       "      <td>60.0</td>\n",
       "      <td>53.0</td>\n",
       "      <td>74.0</td>\n",
       "    </tr>\n",
       "    <tr>\n",
       "      <th>Loudness (dB)</th>\n",
       "      <td>-5.0</td>\n",
       "      <td>-11.25</td>\n",
       "      <td>-11.504065</td>\n",
       "      <td>-10.0</td>\n",
       "      <td>-10.0</td>\n",
       "      <td>-10.014528</td>\n",
       "      <td>-11.0</td>\n",
       "      <td>-5.200000</td>\n",
       "      <td>-8.0</td>\n",
       "      <td>-6.500000</td>\n",
       "      <td>...</td>\n",
       "      <td>-9.125</td>\n",
       "      <td>-12.00</td>\n",
       "      <td>-7.0</td>\n",
       "      <td>-5.0</td>\n",
       "      <td>-8.0</td>\n",
       "      <td>-5.0</td>\n",
       "      <td>-20.0</td>\n",
       "      <td>-6.0</td>\n",
       "      <td>-16.0</td>\n",
       "      <td>-5.0</td>\n",
       "    </tr>\n",
       "    <tr>\n",
       "      <th>Liveness</th>\n",
       "      <td>14.0</td>\n",
       "      <td>16.50</td>\n",
       "      <td>19.243902</td>\n",
       "      <td>33.0</td>\n",
       "      <td>11.0</td>\n",
       "      <td>17.924939</td>\n",
       "      <td>12.0</td>\n",
       "      <td>23.133333</td>\n",
       "      <td>34.0</td>\n",
       "      <td>18.742857</td>\n",
       "      <td>...</td>\n",
       "      <td>26.500</td>\n",
       "      <td>15.50</td>\n",
       "      <td>10.0</td>\n",
       "      <td>9.0</td>\n",
       "      <td>6.0</td>\n",
       "      <td>21.0</td>\n",
       "      <td>8.0</td>\n",
       "      <td>6.0</td>\n",
       "      <td>12.0</td>\n",
       "      <td>8.0</td>\n",
       "    </tr>\n",
       "    <tr>\n",
       "      <th>Valence</th>\n",
       "      <td>52.0</td>\n",
       "      <td>25.75</td>\n",
       "      <td>53.398374</td>\n",
       "      <td>51.0</td>\n",
       "      <td>15.0</td>\n",
       "      <td>52.721550</td>\n",
       "      <td>32.0</td>\n",
       "      <td>37.533333</td>\n",
       "      <td>64.5</td>\n",
       "      <td>40.314286</td>\n",
       "      <td>...</td>\n",
       "      <td>74.125</td>\n",
       "      <td>86.50</td>\n",
       "      <td>77.0</td>\n",
       "      <td>65.0</td>\n",
       "      <td>39.0</td>\n",
       "      <td>43.0</td>\n",
       "      <td>42.0</td>\n",
       "      <td>9.0</td>\n",
       "      <td>34.0</td>\n",
       "      <td>93.0</td>\n",
       "    </tr>\n",
       "    <tr>\n",
       "      <th>Length (Duration)</th>\n",
       "      <td>229.0</td>\n",
       "      <td>247.00</td>\n",
       "      <td>218.626016</td>\n",
       "      <td>306.0</td>\n",
       "      <td>243.0</td>\n",
       "      <td>295.871671</td>\n",
       "      <td>245.0</td>\n",
       "      <td>294.200000</td>\n",
       "      <td>282.0</td>\n",
       "      <td>277.442857</td>\n",
       "      <td>...</td>\n",
       "      <td>257.125</td>\n",
       "      <td>212.75</td>\n",
       "      <td>157.0</td>\n",
       "      <td>199.5</td>\n",
       "      <td>289.0</td>\n",
       "      <td>215.0</td>\n",
       "      <td>274.0</td>\n",
       "      <td>235.0</td>\n",
       "      <td>197.0</td>\n",
       "      <td>306.0</td>\n",
       "    </tr>\n",
       "    <tr>\n",
       "      <th>Acousticness</th>\n",
       "      <td>13.0</td>\n",
       "      <td>58.25</td>\n",
       "      <td>51.382114</td>\n",
       "      <td>8.0</td>\n",
       "      <td>90.0</td>\n",
       "      <td>26.847458</td>\n",
       "      <td>74.0</td>\n",
       "      <td>2.533333</td>\n",
       "      <td>1.5</td>\n",
       "      <td>10.614286</td>\n",
       "      <td>...</td>\n",
       "      <td>21.000</td>\n",
       "      <td>6.25</td>\n",
       "      <td>54.0</td>\n",
       "      <td>15.0</td>\n",
       "      <td>9.0</td>\n",
       "      <td>3.0</td>\n",
       "      <td>60.0</td>\n",
       "      <td>1.0</td>\n",
       "      <td>52.0</td>\n",
       "      <td>11.0</td>\n",
       "    </tr>\n",
       "    <tr>\n",
       "      <th>Speechiness</th>\n",
       "      <td>11.0</td>\n",
       "      <td>3.75</td>\n",
       "      <td>3.926829</td>\n",
       "      <td>3.0</td>\n",
       "      <td>3.0</td>\n",
       "      <td>4.818402</td>\n",
       "      <td>3.0</td>\n",
       "      <td>4.600000</td>\n",
       "      <td>17.5</td>\n",
       "      <td>5.228571</td>\n",
       "      <td>...</td>\n",
       "      <td>13.000</td>\n",
       "      <td>6.50</td>\n",
       "      <td>4.0</td>\n",
       "      <td>3.0</td>\n",
       "      <td>5.0</td>\n",
       "      <td>3.0</td>\n",
       "      <td>3.0</td>\n",
       "      <td>6.0</td>\n",
       "      <td>3.0</td>\n",
       "      <td>4.0</td>\n",
       "    </tr>\n",
       "    <tr>\n",
       "      <th>Popularity</th>\n",
       "      <td>69.0</td>\n",
       "      <td>66.75</td>\n",
       "      <td>62.577236</td>\n",
       "      <td>59.0</td>\n",
       "      <td>41.0</td>\n",
       "      <td>60.694915</td>\n",
       "      <td>51.0</td>\n",
       "      <td>56.800000</td>\n",
       "      <td>74.5</td>\n",
       "      <td>66.014286</td>\n",
       "      <td>...</td>\n",
       "      <td>69.875</td>\n",
       "      <td>59.50</td>\n",
       "      <td>33.0</td>\n",
       "      <td>35.5</td>\n",
       "      <td>70.0</td>\n",
       "      <td>64.0</td>\n",
       "      <td>28.0</td>\n",
       "      <td>58.0</td>\n",
       "      <td>61.0</td>\n",
       "      <td>64.0</td>\n",
       "    </tr>\n",
       "  </tbody>\n",
       "</table>\n",
       "<p>12 rows × 149 columns</p>\n",
       "</div>"
      ],
      "text/plain": [
       "Top Genre               acid jazz  acoustic pop  adult standards  afropop  \\\n",
       "Index                       185.0        355.25      1253.170732     30.0   \n",
       "Year                       2006.0       2007.25      1979.016260   2004.0   \n",
       "Beats Per Minute (BPM)       92.0        123.75       117.105691    154.0   \n",
       "Energy                       95.0         28.25        42.658537     70.0   \n",
       "Danceability                 66.0         48.75        49.162602     68.0   \n",
       "Loudness (dB)                -5.0        -11.25       -11.504065    -10.0   \n",
       "Liveness                     14.0         16.50        19.243902     33.0   \n",
       "Valence                      52.0         25.75        53.398374     51.0   \n",
       "Length (Duration)           229.0        247.00       218.626016    306.0   \n",
       "Acousticness                 13.0         58.25        51.382114      8.0   \n",
       "Speechiness                  11.0          3.75         3.926829      3.0   \n",
       "Popularity                   69.0         66.75        62.577236     59.0   \n",
       "\n",
       "Top Genre               alaska indie   album rock  alternative country  \\\n",
       "Index                          557.0  1170.556901               1413.0   \n",
       "Year                          2013.0  1980.883777               1987.0   \n",
       "Beats Per Minute (BPM)         131.0   121.929782                156.0   \n",
       "Energy                          22.0    59.549637                 41.0   \n",
       "Danceability                    46.0    51.411622                 45.0   \n",
       "Loudness (dB)                  -10.0   -10.014528                -11.0   \n",
       "Liveness                        11.0    17.924939                 12.0   \n",
       "Valence                         15.0    52.721550                 32.0   \n",
       "Length (Duration)              243.0   295.871671                245.0   \n",
       "Acousticness                    90.0    26.847458                 74.0   \n",
       "Speechiness                      3.0     4.818402                  3.0   \n",
       "Popularity                      41.0    60.694915                 51.0   \n",
       "\n",
       "Top Genre               alternative dance  alternative hip hop  \\\n",
       "Index                          481.866667                182.5   \n",
       "Year                          2009.733333               2003.0   \n",
       "Beats Per Minute (BPM)         129.466667                153.5   \n",
       "Energy                          84.533333                 70.0   \n",
       "Danceability                    49.400000                 74.0   \n",
       "Loudness (dB)                   -5.200000                 -8.0   \n",
       "Liveness                        23.133333                 34.0   \n",
       "Valence                         37.533333                 64.5   \n",
       "Length (Duration)              294.200000                282.0   \n",
       "Acousticness                     2.533333                  1.5   \n",
       "Speechiness                      4.600000                 17.5   \n",
       "Popularity                      56.800000                 74.5   \n",
       "\n",
       "Top Genre               alternative metal  ...    reggae  reggae fusion  \\\n",
       "Index                          951.885714  ...  1109.250        1036.50   \n",
       "Year                          1999.800000  ...  1978.500        1988.50   \n",
       "Beats Per Minute (BPM)         124.442857  ...   107.250         124.00   \n",
       "Energy                          73.885714  ...    56.250          46.50   \n",
       "Danceability                    45.742857  ...    77.125          86.25   \n",
       "Loudness (dB)                   -6.500000  ...    -9.125         -12.00   \n",
       "Liveness                        18.742857  ...    26.500          15.50   \n",
       "Valence                         40.314286  ...    74.125          86.50   \n",
       "Length (Duration)              277.442857  ...   257.125         212.75   \n",
       "Acousticness                    10.614286  ...    21.000           6.25   \n",
       "Speechiness                      5.228571  ...    13.000           6.50   \n",
       "Popularity                      66.014286  ...    69.875          59.50   \n",
       "\n",
       "Top Genre               rock-and-roll  scottish singer-songwriter  soft rock  \\\n",
       "Index                           640.0                       243.5      182.0   \n",
       "Year                           2015.0                      2007.0     2004.0   \n",
       "Beats Per Minute (BPM)          127.0                       103.0      109.0   \n",
       "Energy                           47.0                        87.5       78.0   \n",
       "Danceability                     76.0                        61.0       70.0   \n",
       "Loudness (dB)                    -7.0                        -5.0       -8.0   \n",
       "Liveness                         10.0                         9.0        6.0   \n",
       "Valence                          77.0                        65.0       39.0   \n",
       "Length (Duration)               157.0                       199.5      289.0   \n",
       "Acousticness                     54.0                        15.0        9.0   \n",
       "Speechiness                       4.0                         3.0        5.0   \n",
       "Popularity                       33.0                        35.5       70.0   \n",
       "\n",
       "Top Genre               stomp and holler  streektaal  trance  uk pop  \\\n",
       "Index                              580.0       691.0   202.0   348.0   \n",
       "Year                              2014.0      2017.0  2004.0  2005.0   \n",
       "Beats Per Minute (BPM)             102.0        98.0   138.0    82.0   \n",
       "Energy                              73.0        21.0    85.0    25.0   \n",
       "Danceability                        48.0        61.0    60.0    53.0   \n",
       "Loudness (dB)                       -5.0       -20.0    -6.0   -16.0   \n",
       "Liveness                            21.0         8.0     6.0    12.0   \n",
       "Valence                             43.0        42.0     9.0    34.0   \n",
       "Length (Duration)                  215.0       274.0   235.0   197.0   \n",
       "Acousticness                         3.0        60.0     1.0    52.0   \n",
       "Speechiness                          3.0         3.0     6.0     3.0   \n",
       "Popularity                          64.0        28.0    58.0    61.0   \n",
       "\n",
       "Top Genre               yacht rock  \n",
       "Index                       1288.0  \n",
       "Year                        1984.0  \n",
       "Beats Per Minute (BPM)       129.0  \n",
       "Energy                        92.0  \n",
       "Danceability                  74.0  \n",
       "Loudness (dB)                 -5.0  \n",
       "Liveness                       8.0  \n",
       "Valence                       93.0  \n",
       "Length (Duration)            306.0  \n",
       "Acousticness                  11.0  \n",
       "Speechiness                    4.0  \n",
       "Popularity                    64.0  \n",
       "\n",
       "[12 rows x 149 columns]"
      ]
     },
     "execution_count": 18,
     "metadata": {},
     "output_type": "execute_result"
    }
   ],
   "source": [
    "spotify_data.groupby('Top Genre').mean().T"
   ]
  },
  {
   "cell_type": "code",
   "execution_count": 19,
   "id": "c413dcd7",
   "metadata": {
    "execution": {
     "iopub.execute_input": "2022-08-25T12:46:31.957315Z",
     "iopub.status.busy": "2022-08-25T12:46:31.956197Z",
     "iopub.status.idle": "2022-08-25T12:46:31.974108Z",
     "shell.execute_reply": "2022-08-25T12:46:31.973058Z"
    },
    "papermill": {
     "duration": 0.035264,
     "end_time": "2022-08-25T12:46:31.976399",
     "exception": false,
     "start_time": "2022-08-25T12:46:31.941135",
     "status": "completed"
    },
    "tags": []
   },
   "outputs": [
    {
     "data": {
      "text/html": [
       "<div>\n",
       "<style scoped>\n",
       "    .dataframe tbody tr th:only-of-type {\n",
       "        vertical-align: middle;\n",
       "    }\n",
       "\n",
       "    .dataframe tbody tr th {\n",
       "        vertical-align: top;\n",
       "    }\n",
       "\n",
       "    .dataframe thead th {\n",
       "        text-align: right;\n",
       "    }\n",
       "</style>\n",
       "<table border=\"1\" class=\"dataframe\">\n",
       "  <thead>\n",
       "    <tr style=\"text-align: right;\">\n",
       "      <th></th>\n",
       "      <th>Beats Per Minute (BPM)</th>\n",
       "      <th>Energy</th>\n",
       "      <th>Danceability</th>\n",
       "      <th>Loudness (dB)</th>\n",
       "      <th>Liveness</th>\n",
       "      <th>Valence</th>\n",
       "      <th>Length (Duration)</th>\n",
       "      <th>Acousticness</th>\n",
       "      <th>Speechiness</th>\n",
       "      <th>Popularity</th>\n",
       "    </tr>\n",
       "  </thead>\n",
       "  <tbody>\n",
       "    <tr>\n",
       "      <th>0</th>\n",
       "      <td>157</td>\n",
       "      <td>30</td>\n",
       "      <td>53</td>\n",
       "      <td>-14</td>\n",
       "      <td>11</td>\n",
       "      <td>68</td>\n",
       "      <td>201</td>\n",
       "      <td>94</td>\n",
       "      <td>3</td>\n",
       "      <td>71</td>\n",
       "    </tr>\n",
       "    <tr>\n",
       "      <th>1</th>\n",
       "      <td>135</td>\n",
       "      <td>79</td>\n",
       "      <td>50</td>\n",
       "      <td>-11</td>\n",
       "      <td>17</td>\n",
       "      <td>81</td>\n",
       "      <td>207</td>\n",
       "      <td>17</td>\n",
       "      <td>7</td>\n",
       "      <td>39</td>\n",
       "    </tr>\n",
       "    <tr>\n",
       "      <th>2</th>\n",
       "      <td>168</td>\n",
       "      <td>69</td>\n",
       "      <td>66</td>\n",
       "      <td>-9</td>\n",
       "      <td>7</td>\n",
       "      <td>52</td>\n",
       "      <td>341</td>\n",
       "      <td>2</td>\n",
       "      <td>17</td>\n",
       "      <td>69</td>\n",
       "    </tr>\n",
       "    <tr>\n",
       "      <th>3</th>\n",
       "      <td>173</td>\n",
       "      <td>96</td>\n",
       "      <td>43</td>\n",
       "      <td>-4</td>\n",
       "      <td>3</td>\n",
       "      <td>37</td>\n",
       "      <td>269</td>\n",
       "      <td>0</td>\n",
       "      <td>4</td>\n",
       "      <td>76</td>\n",
       "    </tr>\n",
       "    <tr>\n",
       "      <th>4</th>\n",
       "      <td>106</td>\n",
       "      <td>82</td>\n",
       "      <td>58</td>\n",
       "      <td>-5</td>\n",
       "      <td>10</td>\n",
       "      <td>87</td>\n",
       "      <td>256</td>\n",
       "      <td>1</td>\n",
       "      <td>3</td>\n",
       "      <td>59</td>\n",
       "    </tr>\n",
       "    <tr>\n",
       "      <th>...</th>\n",
       "      <td>...</td>\n",
       "      <td>...</td>\n",
       "      <td>...</td>\n",
       "      <td>...</td>\n",
       "      <td>...</td>\n",
       "      <td>...</td>\n",
       "      <td>...</td>\n",
       "      <td>...</td>\n",
       "      <td>...</td>\n",
       "      <td>...</td>\n",
       "    </tr>\n",
       "    <tr>\n",
       "      <th>1989</th>\n",
       "      <td>94</td>\n",
       "      <td>21</td>\n",
       "      <td>70</td>\n",
       "      <td>-12</td>\n",
       "      <td>11</td>\n",
       "      <td>72</td>\n",
       "      <td>128</td>\n",
       "      <td>84</td>\n",
       "      <td>7</td>\n",
       "      <td>63</td>\n",
       "    </tr>\n",
       "    <tr>\n",
       "      <th>1990</th>\n",
       "      <td>175</td>\n",
       "      <td>76</td>\n",
       "      <td>36</td>\n",
       "      <td>-8</td>\n",
       "      <td>76</td>\n",
       "      <td>95</td>\n",
       "      <td>136</td>\n",
       "      <td>73</td>\n",
       "      <td>6</td>\n",
       "      <td>69</td>\n",
       "    </tr>\n",
       "    <tr>\n",
       "      <th>1991</th>\n",
       "      <td>168</td>\n",
       "      <td>80</td>\n",
       "      <td>53</td>\n",
       "      <td>-9</td>\n",
       "      <td>31</td>\n",
       "      <td>97</td>\n",
       "      <td>162</td>\n",
       "      <td>74</td>\n",
       "      <td>7</td>\n",
       "      <td>74</td>\n",
       "    </tr>\n",
       "    <tr>\n",
       "      <th>1992</th>\n",
       "      <td>174</td>\n",
       "      <td>26</td>\n",
       "      <td>45</td>\n",
       "      <td>-13</td>\n",
       "      <td>7</td>\n",
       "      <td>60</td>\n",
       "      <td>324</td>\n",
       "      <td>54</td>\n",
       "      <td>4</td>\n",
       "      <td>65</td>\n",
       "    </tr>\n",
       "    <tr>\n",
       "      <th>1993</th>\n",
       "      <td>133</td>\n",
       "      <td>50</td>\n",
       "      <td>49</td>\n",
       "      <td>-10</td>\n",
       "      <td>16</td>\n",
       "      <td>83</td>\n",
       "      <td>148</td>\n",
       "      <td>74</td>\n",
       "      <td>3</td>\n",
       "      <td>56</td>\n",
       "    </tr>\n",
       "  </tbody>\n",
       "</table>\n",
       "<p>1994 rows × 10 columns</p>\n",
       "</div>"
      ],
      "text/plain": [
       "      Beats Per Minute (BPM)  Energy  Danceability  Loudness (dB)  Liveness  \\\n",
       "0                        157      30            53            -14        11   \n",
       "1                        135      79            50            -11        17   \n",
       "2                        168      69            66             -9         7   \n",
       "3                        173      96            43             -4         3   \n",
       "4                        106      82            58             -5        10   \n",
       "...                      ...     ...           ...            ...       ...   \n",
       "1989                      94      21            70            -12        11   \n",
       "1990                     175      76            36             -8        76   \n",
       "1991                     168      80            53             -9        31   \n",
       "1992                     174      26            45            -13         7   \n",
       "1993                     133      50            49            -10        16   \n",
       "\n",
       "      Valence  Length (Duration)  Acousticness  Speechiness  Popularity  \n",
       "0          68                201            94            3          71  \n",
       "1          81                207            17            7          39  \n",
       "2          52                341             2           17          69  \n",
       "3          37                269             0            4          76  \n",
       "4          87                256             1            3          59  \n",
       "...       ...                ...           ...          ...         ...  \n",
       "1989       72                128            84            7          63  \n",
       "1990       95                136            73            6          69  \n",
       "1991       97                162            74            7          74  \n",
       "1992       60                324            54            4          65  \n",
       "1993       83                148            74            3          56  \n",
       "\n",
       "[1994 rows x 10 columns]"
      ]
     },
     "execution_count": 19,
     "metadata": {},
     "output_type": "execute_result"
    }
   ],
   "source": [
    "spotify_data.drop(columns = ['Index','Title','Artist','Top Genre','Year'], inplace = True)\n",
    "spotify_data"
   ]
  },
  {
   "cell_type": "code",
   "execution_count": 20,
   "id": "8f8b306b",
   "metadata": {
    "execution": {
     "iopub.execute_input": "2022-08-25T12:46:32.006970Z",
     "iopub.status.busy": "2022-08-25T12:46:32.006554Z",
     "iopub.status.idle": "2022-08-25T12:46:32.028810Z",
     "shell.execute_reply": "2022-08-25T12:46:32.027878Z"
    },
    "papermill": {
     "duration": 0.040313,
     "end_time": "2022-08-25T12:46:32.031054",
     "exception": false,
     "start_time": "2022-08-25T12:46:31.990741",
     "status": "completed"
    },
    "scrolled": true,
    "tags": []
   },
   "outputs": [
    {
     "data": {
      "text/html": [
       "<div>\n",
       "<style scoped>\n",
       "    .dataframe tbody tr th:only-of-type {\n",
       "        vertical-align: middle;\n",
       "    }\n",
       "\n",
       "    .dataframe tbody tr th {\n",
       "        vertical-align: top;\n",
       "    }\n",
       "\n",
       "    .dataframe thead th {\n",
       "        text-align: right;\n",
       "    }\n",
       "</style>\n",
       "<table border=\"1\" class=\"dataframe\">\n",
       "  <thead>\n",
       "    <tr style=\"text-align: right;\">\n",
       "      <th></th>\n",
       "      <th>Beats Per Minute (BPM)</th>\n",
       "      <th>Energy</th>\n",
       "      <th>Danceability</th>\n",
       "      <th>Loudness (dB)</th>\n",
       "      <th>Liveness</th>\n",
       "      <th>Valence</th>\n",
       "      <th>Length (Duration)</th>\n",
       "      <th>Acousticness</th>\n",
       "      <th>Speechiness</th>\n",
       "      <th>Popularity</th>\n",
       "    </tr>\n",
       "  </thead>\n",
       "  <tbody>\n",
       "    <tr>\n",
       "      <th>Beats Per Minute (BPM)</th>\n",
       "      <td>1.000000</td>\n",
       "      <td>0.156644</td>\n",
       "      <td>-0.140602</td>\n",
       "      <td>0.092927</td>\n",
       "      <td>0.016256</td>\n",
       "      <td>0.059653</td>\n",
       "      <td>0.006252</td>\n",
       "      <td>-0.122472</td>\n",
       "      <td>0.085598</td>\n",
       "      <td>-0.003181</td>\n",
       "    </tr>\n",
       "    <tr>\n",
       "      <th>Energy</th>\n",
       "      <td>0.156644</td>\n",
       "      <td>1.000000</td>\n",
       "      <td>0.139616</td>\n",
       "      <td>0.735711</td>\n",
       "      <td>0.174118</td>\n",
       "      <td>0.405175</td>\n",
       "      <td>0.022800</td>\n",
       "      <td>-0.665156</td>\n",
       "      <td>0.205865</td>\n",
       "      <td>0.103393</td>\n",
       "    </tr>\n",
       "    <tr>\n",
       "      <th>Danceability</th>\n",
       "      <td>-0.140602</td>\n",
       "      <td>0.139616</td>\n",
       "      <td>1.000000</td>\n",
       "      <td>0.044235</td>\n",
       "      <td>-0.103063</td>\n",
       "      <td>0.514564</td>\n",
       "      <td>-0.135432</td>\n",
       "      <td>-0.135769</td>\n",
       "      <td>0.125229</td>\n",
       "      <td>0.144344</td>\n",
       "    </tr>\n",
       "    <tr>\n",
       "      <th>Loudness (dB)</th>\n",
       "      <td>0.092927</td>\n",
       "      <td>0.735711</td>\n",
       "      <td>0.044235</td>\n",
       "      <td>1.000000</td>\n",
       "      <td>0.098257</td>\n",
       "      <td>0.147041</td>\n",
       "      <td>-0.056127</td>\n",
       "      <td>-0.451635</td>\n",
       "      <td>0.125090</td>\n",
       "      <td>0.165527</td>\n",
       "    </tr>\n",
       "    <tr>\n",
       "      <th>Liveness</th>\n",
       "      <td>0.016256</td>\n",
       "      <td>0.174118</td>\n",
       "      <td>-0.103063</td>\n",
       "      <td>0.098257</td>\n",
       "      <td>1.000000</td>\n",
       "      <td>0.050667</td>\n",
       "      <td>0.032499</td>\n",
       "      <td>-0.046206</td>\n",
       "      <td>0.092594</td>\n",
       "      <td>-0.111978</td>\n",
       "    </tr>\n",
       "    <tr>\n",
       "      <th>Valence</th>\n",
       "      <td>0.059653</td>\n",
       "      <td>0.405175</td>\n",
       "      <td>0.514564</td>\n",
       "      <td>0.147041</td>\n",
       "      <td>0.050667</td>\n",
       "      <td>1.000000</td>\n",
       "      <td>-0.203690</td>\n",
       "      <td>-0.239729</td>\n",
       "      <td>0.107102</td>\n",
       "      <td>0.095911</td>\n",
       "    </tr>\n",
       "    <tr>\n",
       "      <th>Length (Duration)</th>\n",
       "      <td>0.006252</td>\n",
       "      <td>0.022800</td>\n",
       "      <td>-0.135432</td>\n",
       "      <td>-0.056127</td>\n",
       "      <td>0.032499</td>\n",
       "      <td>-0.203690</td>\n",
       "      <td>1.000000</td>\n",
       "      <td>-0.102319</td>\n",
       "      <td>-0.027826</td>\n",
       "      <td>-0.065403</td>\n",
       "    </tr>\n",
       "    <tr>\n",
       "      <th>Acousticness</th>\n",
       "      <td>-0.122472</td>\n",
       "      <td>-0.665156</td>\n",
       "      <td>-0.135769</td>\n",
       "      <td>-0.451635</td>\n",
       "      <td>-0.046206</td>\n",
       "      <td>-0.239729</td>\n",
       "      <td>-0.102319</td>\n",
       "      <td>1.000000</td>\n",
       "      <td>-0.098256</td>\n",
       "      <td>-0.087604</td>\n",
       "    </tr>\n",
       "    <tr>\n",
       "      <th>Speechiness</th>\n",
       "      <td>0.085598</td>\n",
       "      <td>0.205865</td>\n",
       "      <td>0.125229</td>\n",
       "      <td>0.125090</td>\n",
       "      <td>0.092594</td>\n",
       "      <td>0.107102</td>\n",
       "      <td>-0.027826</td>\n",
       "      <td>-0.098256</td>\n",
       "      <td>1.000000</td>\n",
       "      <td>0.111689</td>\n",
       "    </tr>\n",
       "    <tr>\n",
       "      <th>Popularity</th>\n",
       "      <td>-0.003181</td>\n",
       "      <td>0.103393</td>\n",
       "      <td>0.144344</td>\n",
       "      <td>0.165527</td>\n",
       "      <td>-0.111978</td>\n",
       "      <td>0.095911</td>\n",
       "      <td>-0.065403</td>\n",
       "      <td>-0.087604</td>\n",
       "      <td>0.111689</td>\n",
       "      <td>1.000000</td>\n",
       "    </tr>\n",
       "  </tbody>\n",
       "</table>\n",
       "</div>"
      ],
      "text/plain": [
       "                        Beats Per Minute (BPM)    Energy  Danceability  \\\n",
       "Beats Per Minute (BPM)                1.000000  0.156644     -0.140602   \n",
       "Energy                                0.156644  1.000000      0.139616   \n",
       "Danceability                         -0.140602  0.139616      1.000000   \n",
       "Loudness (dB)                         0.092927  0.735711      0.044235   \n",
       "Liveness                              0.016256  0.174118     -0.103063   \n",
       "Valence                               0.059653  0.405175      0.514564   \n",
       "Length (Duration)                     0.006252  0.022800     -0.135432   \n",
       "Acousticness                         -0.122472 -0.665156     -0.135769   \n",
       "Speechiness                           0.085598  0.205865      0.125229   \n",
       "Popularity                           -0.003181  0.103393      0.144344   \n",
       "\n",
       "                        Loudness (dB)  Liveness   Valence  Length (Duration)  \\\n",
       "Beats Per Minute (BPM)       0.092927  0.016256  0.059653           0.006252   \n",
       "Energy                       0.735711  0.174118  0.405175           0.022800   \n",
       "Danceability                 0.044235 -0.103063  0.514564          -0.135432   \n",
       "Loudness (dB)                1.000000  0.098257  0.147041          -0.056127   \n",
       "Liveness                     0.098257  1.000000  0.050667           0.032499   \n",
       "Valence                      0.147041  0.050667  1.000000          -0.203690   \n",
       "Length (Duration)           -0.056127  0.032499 -0.203690           1.000000   \n",
       "Acousticness                -0.451635 -0.046206 -0.239729          -0.102319   \n",
       "Speechiness                  0.125090  0.092594  0.107102          -0.027826   \n",
       "Popularity                   0.165527 -0.111978  0.095911          -0.065403   \n",
       "\n",
       "                        Acousticness  Speechiness  Popularity  \n",
       "Beats Per Minute (BPM)     -0.122472     0.085598   -0.003181  \n",
       "Energy                     -0.665156     0.205865    0.103393  \n",
       "Danceability               -0.135769     0.125229    0.144344  \n",
       "Loudness (dB)              -0.451635     0.125090    0.165527  \n",
       "Liveness                   -0.046206     0.092594   -0.111978  \n",
       "Valence                    -0.239729     0.107102    0.095911  \n",
       "Length (Duration)          -0.102319    -0.027826   -0.065403  \n",
       "Acousticness                1.000000    -0.098256   -0.087604  \n",
       "Speechiness                -0.098256     1.000000    0.111689  \n",
       "Popularity                 -0.087604     0.111689    1.000000  "
      ]
     },
     "execution_count": 20,
     "metadata": {},
     "output_type": "execute_result"
    }
   ],
   "source": [
    "spotify_data.corr().T\n"
   ]
  },
  {
   "cell_type": "markdown",
   "id": "a270ddcf",
   "metadata": {
    "papermill": {
     "duration": 0.014119,
     "end_time": "2022-08-25T12:46:32.060768",
     "exception": false,
     "start_time": "2022-08-25T12:46:32.046649",
     "status": "completed"
    },
    "tags": []
   },
   "source": [
    "### Data Visualization"
   ]
  },
  {
   "cell_type": "code",
   "execution_count": 21,
   "id": "0b6a7e88",
   "metadata": {
    "execution": {
     "iopub.execute_input": "2022-08-25T12:46:32.091972Z",
     "iopub.status.busy": "2022-08-25T12:46:32.091557Z",
     "iopub.status.idle": "2022-08-25T12:46:32.497941Z",
     "shell.execute_reply": "2022-08-25T12:46:32.497061Z"
    },
    "papermill": {
     "duration": 0.426394,
     "end_time": "2022-08-25T12:46:32.501732",
     "exception": false,
     "start_time": "2022-08-25T12:46:32.075338",
     "status": "completed"
    },
    "tags": []
   },
   "outputs": [
    {
     "data": {
      "image/png": "[encoded data removed]",
      "text/plain": [
       "<Figure size 432x288 with 1 Axes>"
      ]
     },
     "metadata": {
      "needs_background": "light"
     },
     "output_type": "display_data"
    }
   ],
   "source": [
    "sns.scatterplot(x=spotify_data['Acousticness'], y=spotify_data['Energy'], data=spotify_data,  hue='Energy')\n",
    "plt.show()"
   ]
  },
  {
   "cell_type": "code",
   "execution_count": 22,
   "id": "8e9ef1b6",
   "metadata": {
    "execution": {
     "iopub.execute_input": "2022-08-25T12:46:32.541103Z",
     "iopub.status.busy": "2022-08-25T12:46:32.540035Z",
     "iopub.status.idle": "2022-08-25T12:46:32.949865Z",
     "shell.execute_reply": "2022-08-25T12:46:32.948904Z"
    },
    "papermill": {
     "duration": 0.43305,
     "end_time": "2022-08-25T12:46:32.953404",
     "exception": false,
     "start_time": "2022-08-25T12:46:32.520354",
     "status": "completed"
    },
    "tags": []
   },
   "outputs": [
    {
     "data": {
      "image/png": "[encoded data removed]",
      "text/plain": [
       "<Figure size 432x288 with 1 Axes>"
      ]
     },
     "metadata": {
      "needs_background": "light"
     },
     "output_type": "display_data"
    }
   ],
   "source": [
    "sns.scatterplot(x=spotify_data['Valence'], y=spotify_data['Energy'], data=spotify_data,  hue='Energy')\n",
    "plt.show()"
   ]
  },
  {
   "cell_type": "markdown",
   "id": "dd4605ad",
   "metadata": {
    "papermill": {
     "duration": 0.01966,
     "end_time": "2022-08-25T12:46:33.001074",
     "exception": false,
     "start_time": "2022-08-25T12:46:32.981414",
     "status": "completed"
    },
    "tags": []
   },
   "source": [
    "### Machine Learning"
   ]
  },
  {
   "cell_type": "markdown",
   "id": "f2e5f8c2",
   "metadata": {
    "papermill": {
     "duration": 0.018759,
     "end_time": "2022-08-25T12:46:33.038850",
     "exception": false,
     "start_time": "2022-08-25T12:46:33.020091",
     "status": "completed"
    },
    "tags": []
   },
   "source": [
    "Clustering is a type of Unsupervised Learning to Collect similar data in groups called clusters. Data points clustered together in a graph are often used to classify into clusters.\n",
    "K-means is an unsupervised method for clustering data points. The algorithm iteratively divides data points into K clusters by minimizing the variance in each cluster."
   ]
  },
  {
   "cell_type": "code",
   "execution_count": 23,
   "id": "88efd07c",
   "metadata": {
    "execution": {
     "iopub.execute_input": "2022-08-25T12:46:33.079283Z",
     "iopub.status.busy": "2022-08-25T12:46:33.078861Z",
     "iopub.status.idle": "2022-08-25T12:46:33.470361Z",
     "shell.execute_reply": "2022-08-25T12:46:33.469133Z"
    },
    "papermill": {
     "duration": 0.415048,
     "end_time": "2022-08-25T12:46:33.473266",
     "exception": false,
     "start_time": "2022-08-25T12:46:33.058218",
     "status": "completed"
    },
    "tags": []
   },
   "outputs": [],
   "source": [
    "from sklearn.cluster import KMeans\n",
    "import matplotlib.pyplot as plt\n",
    "import seaborn as sns"
   ]
  },
  {
   "cell_type": "code",
   "execution_count": 24,
   "id": "22fb01e2",
   "metadata": {
    "execution": {
     "iopub.execute_input": "2022-08-25T12:46:33.512915Z",
     "iopub.status.busy": "2022-08-25T12:46:33.512407Z",
     "iopub.status.idle": "2022-08-25T12:46:33.520279Z",
     "shell.execute_reply": "2022-08-25T12:46:33.518756Z"
    },
    "papermill": {
     "duration": 0.030392,
     "end_time": "2022-08-25T12:46:33.522658",
     "exception": false,
     "start_time": "2022-08-25T12:46:33.492266",
     "status": "completed"
    },
    "tags": []
   },
   "outputs": [],
   "source": [
    "X = spotify_data[['Beats Per Minute (BPM)', 'Energy', 'Danceability', 'Loudness (dB)',\n",
    "                 'Liveness', 'Valence', 'Length (Duration)','Acousticness','Speechiness','Popularity']].copy()"
   ]
  },
  {
   "cell_type": "code",
   "execution_count": 25,
   "id": "aa4a17ca",
   "metadata": {
    "execution": {
     "iopub.execute_input": "2022-08-25T12:46:33.564517Z",
     "iopub.status.busy": "2022-08-25T12:46:33.564140Z",
     "iopub.status.idle": "2022-08-25T12:46:46.697159Z",
     "shell.execute_reply": "2022-08-25T12:46:46.695807Z"
    },
    "papermill": {
     "duration": 13.157314,
     "end_time": "2022-08-25T12:46:46.699948",
     "exception": false,
     "start_time": "2022-08-25T12:46:33.542634",
     "status": "completed"
    },
    "tags": []
   },
   "outputs": [],
   "source": [
    "inertias = []\n",
    "for k in range(1,11):\n",
    "    kmean = KMeans(n_clusters=k, random_state=0)\n",
    "    kmean.fit(X)\n",
    "    inertias.append(kmean.inertia_)\n",
    "#The elbow method helps to visualize and choose the optimum value(inertias) of ‘k’ \n",
    "#(number of clusters) by fitting the model with a range of values of ‘k’."
   ]
  },
  {
   "cell_type": "code",
   "execution_count": 26,
   "id": "ccd8c2e5",
   "metadata": {
    "execution": {
     "iopub.execute_input": "2022-08-25T12:46:46.742437Z",
     "iopub.status.busy": "2022-08-25T12:46:46.741697Z",
     "iopub.status.idle": "2022-08-25T12:46:46.748172Z",
     "shell.execute_reply": "2022-08-25T12:46:46.747216Z"
    },
    "papermill": {
     "duration": 0.02993,
     "end_time": "2022-08-25T12:46:46.751192",
     "exception": false,
     "start_time": "2022-08-25T12:46:46.721262",
     "status": "completed"
    },
    "tags": []
   },
   "outputs": [],
   "source": [
    "sns.set()"
   ]
  },
  {
   "cell_type": "code",
   "execution_count": 27,
   "id": "09b11a2a",
   "metadata": {
    "execution": {
     "iopub.execute_input": "2022-08-25T12:46:46.792275Z",
     "iopub.status.busy": "2022-08-25T12:46:46.791492Z",
     "iopub.status.idle": "2022-08-25T12:46:47.056138Z",
     "shell.execute_reply": "2022-08-25T12:46:47.054768Z"
    },
    "papermill": {
     "duration": 0.287736,
     "end_time": "2022-08-25T12:46:47.058553",
     "exception": false,
     "start_time": "2022-08-25T12:46:46.770817",
     "status": "completed"
    },
    "tags": []
   },
   "outputs": [
    {
     "data": {
      "image/png": "[encoded data removed]",
      "text/plain": [
       "<Figure size 432x288 with 1 Axes>"
      ]
     },
     "metadata": {},
     "output_type": "display_data"
    }
   ],
   "source": [
    "plt.plot (range(1,11),inertias,marker='o')\n",
    "plt.title('Elbow method')\n",
    "plt.xlabel('Clusters')\n",
    "plt.ylabel('Inertias')\n",
    "plt.show()"
   ]
  },
  {
   "cell_type": "markdown",
   "id": "bb10bb36",
   "metadata": {
    "papermill": {
     "duration": 0.019736,
     "end_time": "2022-08-25T12:46:47.097851",
     "exception": false,
     "start_time": "2022-08-25T12:46:47.078115",
     "status": "completed"
    },
    "tags": []
   },
   "source": [
    "The elbow method shows that 4 is a good value for K"
   ]
  },
  {
   "cell_type": "code",
   "execution_count": 28,
   "id": "4255a89e",
   "metadata": {
    "execution": {
     "iopub.execute_input": "2022-08-25T12:46:47.139127Z",
     "iopub.status.busy": "2022-08-25T12:46:47.138399Z",
     "iopub.status.idle": "2022-08-25T12:46:47.149921Z",
     "shell.execute_reply": "2022-08-25T12:46:47.148924Z"
    },
    "papermill": {
     "duration": 0.03474,
     "end_time": "2022-08-25T12:46:47.152204",
     "exception": false,
     "start_time": "2022-08-25T12:46:47.117464",
     "status": "completed"
    },
    "tags": []
   },
   "outputs": [
    {
     "data": {
      "text/plain": [
       "KMeans(n_clusters=4)"
      ]
     },
     "execution_count": 28,
     "metadata": {},
     "output_type": "execute_result"
    }
   ],
   "source": [
    "cluster_input =X[['Acousticness', 'Energy']]\n",
    "Kmeans_model = KMeans(n_clusters = 4)\n",
    "Kmeans_model\n",
    "#feature selection for clustering"
   ]
  },
  {
   "cell_type": "code",
   "execution_count": 29,
   "id": "fdda6552",
   "metadata": {
    "execution": {
     "iopub.execute_input": "2022-08-25T12:46:47.193146Z",
     "iopub.status.busy": "2022-08-25T12:46:47.192726Z",
     "iopub.status.idle": "2022-08-25T12:46:47.270367Z",
     "shell.execute_reply": "2022-08-25T12:46:47.269160Z"
    },
    "papermill": {
     "duration": 0.10096,
     "end_time": "2022-08-25T12:46:47.272827",
     "exception": false,
     "start_time": "2022-08-25T12:46:47.171867",
     "status": "completed"
    },
    "tags": []
   },
   "outputs": [
    {
     "data": {
      "text/plain": [
       "numpy.ndarray"
      ]
     },
     "execution_count": 29,
     "metadata": {},
     "output_type": "execute_result"
    }
   ],
   "source": [
    "cluster_output = Kmeans_model.fit_predict(cluster_input)\n",
    "type(cluster_output)\n"
   ]
  },
  {
   "cell_type": "code",
   "execution_count": 30,
   "id": "3313e7c3",
   "metadata": {
    "execution": {
     "iopub.execute_input": "2022-08-25T12:46:47.317631Z",
     "iopub.status.busy": "2022-08-25T12:46:47.317208Z",
     "iopub.status.idle": "2022-08-25T12:46:47.328016Z",
     "shell.execute_reply": "2022-08-25T12:46:47.326657Z"
    },
    "papermill": {
     "duration": 0.034191,
     "end_time": "2022-08-25T12:46:47.330272",
     "exception": false,
     "start_time": "2022-08-25T12:46:47.296081",
     "status": "completed"
    },
    "tags": []
   },
   "outputs": [
    {
     "data": {
      "text/html": [
       "<div>\n",
       "<style scoped>\n",
       "    .dataframe tbody tr th:only-of-type {\n",
       "        vertical-align: middle;\n",
       "    }\n",
       "\n",
       "    .dataframe tbody tr th {\n",
       "        vertical-align: top;\n",
       "    }\n",
       "\n",
       "    .dataframe thead th {\n",
       "        text-align: right;\n",
       "    }\n",
       "</style>\n",
       "<table border=\"1\" class=\"dataframe\">\n",
       "  <thead>\n",
       "    <tr style=\"text-align: right;\">\n",
       "      <th></th>\n",
       "      <th>segment</th>\n",
       "    </tr>\n",
       "  </thead>\n",
       "  <tbody>\n",
       "    <tr>\n",
       "      <th>0</th>\n",
       "      <td>1</td>\n",
       "    </tr>\n",
       "    <tr>\n",
       "      <th>1</th>\n",
       "      <td>2</td>\n",
       "    </tr>\n",
       "    <tr>\n",
       "      <th>2</th>\n",
       "      <td>2</td>\n",
       "    </tr>\n",
       "    <tr>\n",
       "      <th>3</th>\n",
       "      <td>2</td>\n",
       "    </tr>\n",
       "    <tr>\n",
       "      <th>4</th>\n",
       "      <td>2</td>\n",
       "    </tr>\n",
       "  </tbody>\n",
       "</table>\n",
       "</div>"
      ],
      "text/plain": [
       "   segment\n",
       "0        1\n",
       "1        2\n",
       "2        2\n",
       "3        2\n",
       "4        2"
      ]
     },
     "execution_count": 30,
     "metadata": {},
     "output_type": "execute_result"
    }
   ],
   "source": [
    "cluster_output_pd = pd.DataFrame(cluster_output,columns=['segment'])\n",
    "cluster_output_pd.head()"
   ]
  },
  {
   "cell_type": "code",
   "execution_count": 31,
   "id": "157c0b23",
   "metadata": {
    "execution": {
     "iopub.execute_input": "2022-08-25T12:46:47.371506Z",
     "iopub.status.busy": "2022-08-25T12:46:47.371080Z",
     "iopub.status.idle": "2022-08-25T12:46:47.382674Z",
     "shell.execute_reply": "2022-08-25T12:46:47.381626Z"
    },
    "papermill": {
     "duration": 0.035109,
     "end_time": "2022-08-25T12:46:47.385192",
     "exception": false,
     "start_time": "2022-08-25T12:46:47.350083",
     "status": "completed"
    },
    "tags": []
   },
   "outputs": [
    {
     "data": {
      "text/html": [
       "<div>\n",
       "<style scoped>\n",
       "    .dataframe tbody tr th:only-of-type {\n",
       "        vertical-align: middle;\n",
       "    }\n",
       "\n",
       "    .dataframe tbody tr th {\n",
       "        vertical-align: top;\n",
       "    }\n",
       "\n",
       "    .dataframe thead th {\n",
       "        text-align: right;\n",
       "    }\n",
       "</style>\n",
       "<table border=\"1\" class=\"dataframe\">\n",
       "  <thead>\n",
       "    <tr style=\"text-align: right;\">\n",
       "      <th></th>\n",
       "      <th>Acousticness</th>\n",
       "      <th>Energy</th>\n",
       "      <th>segment</th>\n",
       "    </tr>\n",
       "  </thead>\n",
       "  <tbody>\n",
       "    <tr>\n",
       "      <th>0</th>\n",
       "      <td>94</td>\n",
       "      <td>30</td>\n",
       "      <td>1</td>\n",
       "    </tr>\n",
       "    <tr>\n",
       "      <th>1</th>\n",
       "      <td>17</td>\n",
       "      <td>79</td>\n",
       "      <td>2</td>\n",
       "    </tr>\n",
       "    <tr>\n",
       "      <th>2</th>\n",
       "      <td>2</td>\n",
       "      <td>69</td>\n",
       "      <td>2</td>\n",
       "    </tr>\n",
       "    <tr>\n",
       "      <th>3</th>\n",
       "      <td>0</td>\n",
       "      <td>96</td>\n",
       "      <td>2</td>\n",
       "    </tr>\n",
       "    <tr>\n",
       "      <th>4</th>\n",
       "      <td>1</td>\n",
       "      <td>82</td>\n",
       "      <td>2</td>\n",
       "    </tr>\n",
       "  </tbody>\n",
       "</table>\n",
       "</div>"
      ],
      "text/plain": [
       "   Acousticness  Energy  segment\n",
       "0            94      30        1\n",
       "1            17      79        2\n",
       "2             2      69        2\n",
       "3             0      96        2\n",
       "4             1      82        2"
      ]
     },
     "execution_count": 31,
     "metadata": {},
     "output_type": "execute_result"
    }
   ],
   "source": [
    "segment_DF = pd.concat([cluster_input,cluster_output_pd],axis=1)\n",
    "segment_DF.head()"
   ]
  },
  {
   "cell_type": "code",
   "execution_count": 32,
   "id": "bb8f9075",
   "metadata": {
    "execution": {
     "iopub.execute_input": "2022-08-25T12:46:47.427276Z",
     "iopub.status.busy": "2022-08-25T12:46:47.426289Z",
     "iopub.status.idle": "2022-08-25T12:46:47.434019Z",
     "shell.execute_reply": "2022-08-25T12:46:47.432802Z"
    },
    "papermill": {
     "duration": 0.031331,
     "end_time": "2022-08-25T12:46:47.436371",
     "exception": false,
     "start_time": "2022-08-25T12:46:47.405040",
     "status": "completed"
    },
    "tags": []
   },
   "outputs": [
    {
     "data": {
      "text/plain": [
       "array([[12.23408624, 50.95482546],\n",
       "       [78.61861862, 28.81681682],\n",
       "       [ 7.21960784, 81.41568627],\n",
       "       [48.61124694, 54.5403423 ]])"
      ]
     },
     "execution_count": 32,
     "metadata": {},
     "output_type": "execute_result"
    }
   ],
   "source": [
    "Kmeans_model.cluster_centers_"
   ]
  },
  {
   "cell_type": "code",
   "execution_count": 33,
   "id": "b54492da",
   "metadata": {
    "execution": {
     "iopub.execute_input": "2022-08-25T12:46:47.478547Z",
     "iopub.status.busy": "2022-08-25T12:46:47.478151Z",
     "iopub.status.idle": "2022-08-25T12:46:47.483212Z",
     "shell.execute_reply": "2022-08-25T12:46:47.482058Z"
    },
    "papermill": {
     "duration": 0.028768,
     "end_time": "2022-08-25T12:46:47.485501",
     "exception": false,
     "start_time": "2022-08-25T12:46:47.456733",
     "status": "completed"
    },
    "tags": []
   },
   "outputs": [],
   "source": [
    "import matplotlib.pyplot as plt"
   ]
  },
  {
   "cell_type": "code",
   "execution_count": 34,
   "id": "45263324",
   "metadata": {
    "execution": {
     "iopub.execute_input": "2022-08-25T12:46:47.528697Z",
     "iopub.status.busy": "2022-08-25T12:46:47.527591Z",
     "iopub.status.idle": "2022-08-25T12:46:47.911796Z",
     "shell.execute_reply": "2022-08-25T12:46:47.910674Z"
    },
    "papermill": {
     "duration": 0.408591,
     "end_time": "2022-08-25T12:46:47.914475",
     "exception": false,
     "start_time": "2022-08-25T12:46:47.505884",
     "status": "completed"
    },
    "tags": []
   },
   "outputs": [
    {
     "data": {
      "image/png": "[encoded data removed]",
      "text/plain": [
       "<Figure size 720x432 with 1 Axes>"
      ]
     },
     "metadata": {},
     "output_type": "display_data"
    }
   ],
   "source": [
    "plt.figure(figsize= (10,6))\n",
    "plt.scatter(segment_DF[segment_DF.segment==0]['Acousticness'],segment_DF[segment_DF.segment==0]['Energy'],s=50, c='#c85a39',label='Cluster1')\n",
    "\n",
    "plt.scatter(segment_DF[segment_DF.segment==1]['Acousticness'],segment_DF[segment_DF.segment==1]['Energy'],s=50, c='#63b22f',label='Cluster2')\n",
    "\n",
    "plt.scatter(segment_DF[segment_DF.segment==2]['Acousticness'],segment_DF[segment_DF.segment==2]['Energy'],s=50, c='#23039e',label='Cluster3')\n",
    "\n",
    "plt.scatter(segment_DF[segment_DF.segment==3]['Acousticness'],segment_DF[segment_DF.segment==3]['Energy'],s=50, c='#d48e57',label='Cluster4')\n",
    "\n",
    "plt.scatter(Kmeans_model.cluster_centers_[:,0], Kmeans_model.cluster_centers_[:,1],s=200,marker='s', c='red', alpha=0.7, label='Centroids')\n",
    "\n",
    "\n",
    "plt.title('Music segments using K-means (k=4)')\n",
    "\n",
    "plt.xlabel('Loudness (dB)')\n",
    "\n",
    "plt.ylabel('Energy')\n",
    "\n",
    "plt.legend()\n",
    "\n",
    "plt.show()"
   ]
  },
  {
   "cell_type": "code",
   "execution_count": 35,
   "id": "d9d1b64c",
   "metadata": {
    "execution": {
     "iopub.execute_input": "2022-08-25T12:46:47.960861Z",
     "iopub.status.busy": "2022-08-25T12:46:47.960470Z",
     "iopub.status.idle": "2022-08-25T12:46:47.976795Z",
     "shell.execute_reply": "2022-08-25T12:46:47.975463Z"
    },
    "papermill": {
     "duration": 0.042614,
     "end_time": "2022-08-25T12:46:47.979197",
     "exception": false,
     "start_time": "2022-08-25T12:46:47.936583",
     "status": "completed"
    },
    "tags": []
   },
   "outputs": [
    {
     "data": {
      "text/html": [
       "<div>\n",
       "<style scoped>\n",
       "    .dataframe tbody tr th:only-of-type {\n",
       "        vertical-align: middle;\n",
       "    }\n",
       "\n",
       "    .dataframe tbody tr th {\n",
       "        vertical-align: top;\n",
       "    }\n",
       "\n",
       "    .dataframe thead th {\n",
       "        text-align: right;\n",
       "    }\n",
       "</style>\n",
       "<table border=\"1\" class=\"dataframe\">\n",
       "  <thead>\n",
       "    <tr style=\"text-align: right;\">\n",
       "      <th></th>\n",
       "      <th>Beats Per Minute (BPM)</th>\n",
       "      <th>Energy</th>\n",
       "      <th>Danceability</th>\n",
       "      <th>Loudness (dB)</th>\n",
       "      <th>Liveness</th>\n",
       "      <th>Valence</th>\n",
       "      <th>Length (Duration)</th>\n",
       "      <th>Acousticness</th>\n",
       "      <th>Speechiness</th>\n",
       "      <th>Popularity</th>\n",
       "      <th>segment</th>\n",
       "    </tr>\n",
       "  </thead>\n",
       "  <tbody>\n",
       "    <tr>\n",
       "      <th>0</th>\n",
       "      <td>157</td>\n",
       "      <td>30</td>\n",
       "      <td>53</td>\n",
       "      <td>-14</td>\n",
       "      <td>11</td>\n",
       "      <td>68</td>\n",
       "      <td>201</td>\n",
       "      <td>94</td>\n",
       "      <td>3</td>\n",
       "      <td>71</td>\n",
       "      <td>1</td>\n",
       "    </tr>\n",
       "    <tr>\n",
       "      <th>1</th>\n",
       "      <td>135</td>\n",
       "      <td>79</td>\n",
       "      <td>50</td>\n",
       "      <td>-11</td>\n",
       "      <td>17</td>\n",
       "      <td>81</td>\n",
       "      <td>207</td>\n",
       "      <td>17</td>\n",
       "      <td>7</td>\n",
       "      <td>39</td>\n",
       "      <td>2</td>\n",
       "    </tr>\n",
       "    <tr>\n",
       "      <th>2</th>\n",
       "      <td>168</td>\n",
       "      <td>69</td>\n",
       "      <td>66</td>\n",
       "      <td>-9</td>\n",
       "      <td>7</td>\n",
       "      <td>52</td>\n",
       "      <td>341</td>\n",
       "      <td>2</td>\n",
       "      <td>17</td>\n",
       "      <td>69</td>\n",
       "      <td>2</td>\n",
       "    </tr>\n",
       "    <tr>\n",
       "      <th>3</th>\n",
       "      <td>173</td>\n",
       "      <td>96</td>\n",
       "      <td>43</td>\n",
       "      <td>-4</td>\n",
       "      <td>3</td>\n",
       "      <td>37</td>\n",
       "      <td>269</td>\n",
       "      <td>0</td>\n",
       "      <td>4</td>\n",
       "      <td>76</td>\n",
       "      <td>2</td>\n",
       "    </tr>\n",
       "    <tr>\n",
       "      <th>4</th>\n",
       "      <td>106</td>\n",
       "      <td>82</td>\n",
       "      <td>58</td>\n",
       "      <td>-5</td>\n",
       "      <td>10</td>\n",
       "      <td>87</td>\n",
       "      <td>256</td>\n",
       "      <td>1</td>\n",
       "      <td>3</td>\n",
       "      <td>59</td>\n",
       "      <td>2</td>\n",
       "    </tr>\n",
       "  </tbody>\n",
       "</table>\n",
       "</div>"
      ],
      "text/plain": [
       "   Beats Per Minute (BPM)  Energy  Danceability  Loudness (dB)  Liveness  \\\n",
       "0                     157      30            53            -14        11   \n",
       "1                     135      79            50            -11        17   \n",
       "2                     168      69            66             -9         7   \n",
       "3                     173      96            43             -4         3   \n",
       "4                     106      82            58             -5        10   \n",
       "\n",
       "   Valence  Length (Duration)  Acousticness  Speechiness  Popularity  segment  \n",
       "0       68                201            94            3          71        1  \n",
       "1       81                207            17            7          39        2  \n",
       "2       52                341             2           17          69        2  \n",
       "3       37                269             0            4          76        2  \n",
       "4       87                256             1            3          59        2  "
      ]
     },
     "execution_count": 35,
     "metadata": {},
     "output_type": "execute_result"
    }
   ],
   "source": [
    "spotify_data_genre=pd.concat([spotify_data ,cluster_output_pd],axis=1)\n",
    "spotify_data_genre.head()"
   ]
  },
  {
   "cell_type": "code",
   "execution_count": 36,
   "id": "fd1538bd",
   "metadata": {
    "execution": {
     "iopub.execute_input": "2022-08-25T12:46:48.028154Z",
     "iopub.status.busy": "2022-08-25T12:46:48.027136Z",
     "iopub.status.idle": "2022-08-25T12:46:48.474877Z",
     "shell.execute_reply": "2022-08-25T12:46:48.473758Z"
    },
    "papermill": {
     "duration": 0.476149,
     "end_time": "2022-08-25T12:46:48.478167",
     "exception": false,
     "start_time": "2022-08-25T12:46:48.002018",
     "status": "completed"
    },
    "tags": []
   },
   "outputs": [
    {
     "data": {
      "image/png": "[encoded data removed]",
      "text/plain": [
       "<Figure size 432x288 with 1 Axes>"
      ]
     },
     "metadata": {},
     "output_type": "display_data"
    }
   ],
   "source": [
    "\n",
    "sns.scatterplot(x=spotify_data_genre['Acousticness'], y=spotify_data_genre['Energy'], data=spotify_data_genre,  hue='segment')\n",
    "plt.show()"
   ]
  },
  {
   "cell_type": "code",
   "execution_count": 37,
   "id": "526b0a26",
   "metadata": {
    "execution": {
     "iopub.execute_input": "2022-08-25T12:46:48.529488Z",
     "iopub.status.busy": "2022-08-25T12:46:48.529092Z",
     "iopub.status.idle": "2022-08-25T12:46:48.540578Z",
     "shell.execute_reply": "2022-08-25T12:46:48.539504Z"
    },
    "papermill": {
     "duration": 0.039558,
     "end_time": "2022-08-25T12:46:48.542976",
     "exception": false,
     "start_time": "2022-08-25T12:46:48.503418",
     "status": "completed"
    },
    "tags": []
   },
   "outputs": [
    {
     "data": {
      "text/html": [
       "<div>\n",
       "<style scoped>\n",
       "    .dataframe tbody tr th:only-of-type {\n",
       "        vertical-align: middle;\n",
       "    }\n",
       "\n",
       "    .dataframe tbody tr th {\n",
       "        vertical-align: top;\n",
       "    }\n",
       "\n",
       "    .dataframe thead th {\n",
       "        text-align: right;\n",
       "    }\n",
       "</style>\n",
       "<table border=\"1\" class=\"dataframe\">\n",
       "  <thead>\n",
       "    <tr style=\"text-align: right;\">\n",
       "      <th></th>\n",
       "      <th>Acousticness</th>\n",
       "      <th>Energy</th>\n",
       "    </tr>\n",
       "  </thead>\n",
       "  <tbody>\n",
       "    <tr>\n",
       "      <th>0</th>\n",
       "      <td>17</td>\n",
       "      <td>79</td>\n",
       "    </tr>\n",
       "    <tr>\n",
       "      <th>1</th>\n",
       "      <td>2</td>\n",
       "      <td>69</td>\n",
       "    </tr>\n",
       "    <tr>\n",
       "      <th>2</th>\n",
       "      <td>0</td>\n",
       "      <td>96</td>\n",
       "    </tr>\n",
       "    <tr>\n",
       "      <th>3</th>\n",
       "      <td>88</td>\n",
       "      <td>5</td>\n",
       "    </tr>\n",
       "  </tbody>\n",
       "</table>\n",
       "</div>"
      ],
      "text/plain": [
       "   Acousticness  Energy\n",
       "0            17      79\n",
       "1             2      69\n",
       "2             0      96\n",
       "3            88       5"
      ]
     },
     "execution_count": 37,
     "metadata": {},
     "output_type": "execute_result"
    }
   ],
   "source": [
    "p={'Acousticness':[17,2,0, 88], \"Energy\":[79, 69,96,5]}\n",
    "ff=pd.DataFrame(p)\n",
    "ff\n",
    "#creating a prediction data"
   ]
  },
  {
   "cell_type": "code",
   "execution_count": 38,
   "id": "9a615929",
   "metadata": {
    "execution": {
     "iopub.execute_input": "2022-08-25T12:46:48.593856Z",
     "iopub.status.busy": "2022-08-25T12:46:48.592929Z",
     "iopub.status.idle": "2022-08-25T12:46:48.623023Z",
     "shell.execute_reply": "2022-08-25T12:46:48.621424Z"
    },
    "papermill": {
     "duration": 0.058754,
     "end_time": "2022-08-25T12:46:48.626283",
     "exception": false,
     "start_time": "2022-08-25T12:46:48.567529",
     "status": "completed"
    },
    "tags": []
   },
   "outputs": [
    {
     "name": "stdout",
     "output_type": "stream",
     "text": [
      "[0 3 2 1]\n"
     ]
    }
   ],
   "source": [
    "prediction = Kmeans_model.fit_predict(ff)\n",
    "print(prediction)\n",
    "#predicting the new data cluster segment"
   ]
  },
  {
   "cell_type": "code",
   "execution_count": null,
   "id": "03e0abcd",
   "metadata": {
    "papermill": {
     "duration": 0.024655,
     "end_time": "2022-08-25T12:46:48.676925",
     "exception": false,
     "start_time": "2022-08-25T12:46:48.652270",
     "status": "completed"
    },
    "tags": []
   },
   "outputs": [],
   "source": []
  },
  {
   "cell_type": "code",
   "execution_count": null,
   "id": "db3a5641",
   "metadata": {
    "papermill": {
     "duration": 0.024304,
     "end_time": "2022-08-25T12:46:48.725735",
     "exception": false,
     "start_time": "2022-08-25T12:46:48.701431",
     "status": "completed"
    },
    "tags": []
   },
   "outputs": [],
   "source": []
  }
 ],
 "metadata": {
  "kernelspec": {
   "display_name": "Python 3",
   "language": "python",
   "name": "python3"
  },
  "language_info": {
   "codemirror_mode": {
    "name": "ipython",
    "version": 3
   },
   "file_extension": ".py",
   "mimetype": "text/x-python",
   "name": "python",
   "nbconvert_exporter": "python",
   "pygments_lexer": "ipython3",
   "version": "3.7.12"
  },
  "papermill": {
   "default_parameters": {},
   "duration": 28.504569,
   "end_time": "2022-08-25T12:46:49.572891",
   "environment_variables": {},
   "exception": null,
   "input_path": "__notebook__.ipynb",
   "output_path": "__notebook__.ipynb",
   "parameters": {},
   "start_time": "2022-08-25T12:46:21.068322",
   "version": "2.3.4"
  }
 },
 "nbformat": 4,
 "nbformat_minor": 5
}
