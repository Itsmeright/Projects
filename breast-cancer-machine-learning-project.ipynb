{
 "cells": [
  {
   "cell_type": "markdown",
   "id": "be8bccf6",
   "metadata": {
    "papermill": {
     "duration": 0.011954,
     "end_time": "2022-08-25T13:05:17.836627",
     "exception": false,
     "start_time": "2022-08-25T13:05:17.824673",
     "status": "completed"
    },
    "tags": []
   },
   "source": [
    "# Breast Cancer Survival Prediction with Machine Learning"
   ]
  },
  {
   "cell_type": "markdown",
   "id": "d19b1661",
   "metadata": {
    "papermill": {
     "duration": 0.010881,
     "end_time": "2022-08-25T13:05:17.859198",
     "exception": false,
     "start_time": "2022-08-25T13:05:17.848317",
     "status": "completed"
    },
    "tags": []
   },
   "source": [
    "### Group Members\n",
    "1.FARAYOLA GRACE\n",
    "2.BABATUNDE OLAITAN\n",
    "3.ELUDINI INIOLUWA\n",
    "4.UGWUONAH IRENE"
   ]
  },
  {
   "cell_type": "markdown",
   "id": "50f5592c",
   "metadata": {
    "papermill": {
     "duration": 0.01039,
     "end_time": "2022-08-25T13:05:17.882984",
     "exception": false,
     "start_time": "2022-08-25T13:05:17.872594",
     "status": "completed"
    },
    "tags": []
   },
   "source": [
    "### Introduction\n",
    "Breast cancer is a  cancer that forms in the cells of the  breast. Breast cancer can occur in women and rarely in men. It requires a medical diagnosis, through lab tests or imaging. \n",
    "\n",
    "It is the most common cancer in women around the world. in 2020 alone, there were 2.3million women diagnosed with breast cancer and 685,000 deaths globally. As of  the end of 2021, there were 7.8million women alive who were diagnosed with breast cancer in the past 5years, making it the world's most prevalent cancer. in addition, about 0.5-1% of cancer patients are male.\n",
    "\n",
    "\n",
    "Symptoms of a breast cancer includes a lump in the breast, bloody discharge from the nipple, and changes in the shape or texture of the nipple or breast. Other symptoms include breast discomfort, inverted nipple, skin redness or swollen lymph nodes.\n",
    "\n",
    "It is treatable by a medical professional(oncologist). Treatment depends on the stage of cancer. It may consist of chemotherapy, radiation and surgery.\n",
    "\n",
    "Surgery type includes Lumpectomy, Mastectomy e.t.c\n",
    "Lumpectomy - is a surgical removal of a discrete portion or lump of breast tissue ,usually in the treatment of malignant tumour or breast cancer. \n",
    "Mastectomy - is surgical removal of one or both breasts, partially or completely.\n",
    "\n",
    "We can use machine learning to predict whether a patient will survive breast cancer or not."
   ]
  },
  {
   "cell_type": "markdown",
   "id": "10bf0e03",
   "metadata": {
    "papermill": {
     "duration": 0.010382,
     "end_time": "2022-08-25T13:05:17.904661",
     "exception": false,
     "start_time": "2022-08-25T13:05:17.894279",
     "status": "completed"
    },
    "tags": []
   },
   "source": [
    "### Data understanding\n",
    "This dataset consists of a group of breast cancer patients, who had surgery to remove the tumour. The dataset consists of these variables:\n",
    "\n",
    "Patient_ID: unique identifier id of a patient\n",
    "\n",
    "Age: Age of patient (Years)\n",
    "\n",
    "Gender: Male/Female.\n",
    "\n",
    "Protein1, Protein2, Protein3, Protein4: These expression levels are biomarker for the dectection of breast cancer.\n",
    "\n",
    "Tumour_Stage: I, II, III. It is a form of staging to describe the extensiveness of breast cancer, based on the size of the tumor and its spread to the lymph nodes.\n",
    "\n",
    "Histology: Infiltrating Ductal Carcinoma, Infiltrating Lobular Carcinoma, Mucinous Carcinoma.\n",
    "\n",
    "ER status: Positive/Negative:(Estrogen receptor) the hormone receptor determines the type of breast cancer to determine treatment.\n",
    "\n",
    "PR status: Positive/Negative:(Progesterone receptor)the hormone receptor determines the type of breast cancer to determine treatment.\n",
    "\n",
    "HER2 status: Positive/Negative.(human epidermal growth factor receptor2). This protein promotes the growth of cancer cells . \n",
    "\n",
    "Surgery_type: Lumpectomy, Simple Mastectomy, Modified Radical Mastectomy, Other surgery type.\n",
    "\n",
    "Date of Surgery: the date the surgery was performed (in DD-MON-YY).\n",
    "\n",
    "Date of Last_Visit: Date of last visit (in DD-MON-YY) to the hospital.\n",
    "Patient_Status: If Alive or Dead "
   ]
  },
  {
   "cell_type": "markdown",
   "id": "b5b088cb",
   "metadata": {
    "papermill": {
     "duration": 0.010838,
     "end_time": "2022-08-25T13:05:17.926238",
     "exception": false,
     "start_time": "2022-08-25T13:05:17.915400",
     "status": "completed"
    },
    "tags": []
   },
   "source": [
    "Importing and reading data."
   ]
  },
  {
   "cell_type": "code",
   "execution_count": 1,
   "id": "54ba4228",
   "metadata": {
    "execution": {
     "iopub.execute_input": "2022-08-25T13:05:17.951339Z",
     "iopub.status.busy": "2022-08-25T13:05:17.950883Z",
     "iopub.status.idle": "2022-08-25T13:05:19.041234Z",
     "shell.execute_reply": "2022-08-25T13:05:19.040188Z"
    },
    "papermill": {
     "duration": 1.106882,
     "end_time": "2022-08-25T13:05:19.044223",
     "exception": false,
     "start_time": "2022-08-25T13:05:17.937341",
     "status": "completed"
    },
    "tags": []
   },
   "outputs": [],
   "source": [
    "import pandas as pd\n",
    "import numpy as np\n",
    "import matplotlib.pyplot as plt\n",
    "import seaborn as sns\n"
   ]
  },
  {
   "cell_type": "code",
   "execution_count": 2,
   "id": "6c4cad4b",
   "metadata": {
    "execution": {
     "iopub.execute_input": "2022-08-25T13:05:19.067601Z",
     "iopub.status.busy": "2022-08-25T13:05:19.067185Z",
     "iopub.status.idle": "2022-08-25T13:05:19.110407Z",
     "shell.execute_reply": "2022-08-25T13:05:19.109351Z"
    },
    "papermill": {
     "duration": 0.058343,
     "end_time": "2022-08-25T13:05:19.113492",
     "exception": false,
     "start_time": "2022-08-25T13:05:19.055149",
     "status": "completed"
    },
    "tags": []
   },
   "outputs": [
    {
     "data": {
      "text/html": [
       "<div>\n",
       "<style scoped>\n",
       "    .dataframe tbody tr th:only-of-type {\n",
       "        vertical-align: middle;\n",
       "    }\n",
       "\n",
       "    .dataframe tbody tr th {\n",
       "        vertical-align: top;\n",
       "    }\n",
       "\n",
       "    .dataframe thead th {\n",
       "        text-align: right;\n",
       "    }\n",
       "</style>\n",
       "<table border=\"1\" class=\"dataframe\">\n",
       "  <thead>\n",
       "    <tr style=\"text-align: right;\">\n",
       "      <th></th>\n",
       "      <th>Patient_ID</th>\n",
       "      <th>Age</th>\n",
       "      <th>Gender</th>\n",
       "      <th>Protein1</th>\n",
       "      <th>Protein2</th>\n",
       "      <th>Protein3</th>\n",
       "      <th>Protein4</th>\n",
       "      <th>Tumour_Stage</th>\n",
       "      <th>Histology</th>\n",
       "      <th>ER status</th>\n",
       "      <th>PR status</th>\n",
       "      <th>HER2 status</th>\n",
       "      <th>Surgery_type</th>\n",
       "      <th>Date_of_Surgery</th>\n",
       "      <th>Date_of_Last_Visit</th>\n",
       "      <th>Patient_Status</th>\n",
       "    </tr>\n",
       "  </thead>\n",
       "  <tbody>\n",
       "    <tr>\n",
       "      <th>0</th>\n",
       "      <td>TCGA-D8-A1XD</td>\n",
       "      <td>36.0</td>\n",
       "      <td>FEMALE</td>\n",
       "      <td>0.080353</td>\n",
       "      <td>0.42638</td>\n",
       "      <td>0.54715</td>\n",
       "      <td>0.273680</td>\n",
       "      <td>III</td>\n",
       "      <td>Infiltrating Ductal Carcinoma</td>\n",
       "      <td>Positive</td>\n",
       "      <td>Positive</td>\n",
       "      <td>Negative</td>\n",
       "      <td>Modified Radical Mastectomy</td>\n",
       "      <td>15-Jan-17</td>\n",
       "      <td>19-Jun-17</td>\n",
       "      <td>Alive</td>\n",
       "    </tr>\n",
       "    <tr>\n",
       "      <th>1</th>\n",
       "      <td>TCGA-EW-A1OX</td>\n",
       "      <td>43.0</td>\n",
       "      <td>FEMALE</td>\n",
       "      <td>-0.420320</td>\n",
       "      <td>0.57807</td>\n",
       "      <td>0.61447</td>\n",
       "      <td>-0.031505</td>\n",
       "      <td>II</td>\n",
       "      <td>Mucinous Carcinoma</td>\n",
       "      <td>Positive</td>\n",
       "      <td>Positive</td>\n",
       "      <td>Negative</td>\n",
       "      <td>Lumpectomy</td>\n",
       "      <td>26-Apr-17</td>\n",
       "      <td>09-Nov-18</td>\n",
       "      <td>Dead</td>\n",
       "    </tr>\n",
       "    <tr>\n",
       "      <th>2</th>\n",
       "      <td>TCGA-A8-A079</td>\n",
       "      <td>69.0</td>\n",
       "      <td>FEMALE</td>\n",
       "      <td>0.213980</td>\n",
       "      <td>1.31140</td>\n",
       "      <td>-0.32747</td>\n",
       "      <td>-0.234260</td>\n",
       "      <td>III</td>\n",
       "      <td>Infiltrating Ductal Carcinoma</td>\n",
       "      <td>Positive</td>\n",
       "      <td>Positive</td>\n",
       "      <td>Negative</td>\n",
       "      <td>Other</td>\n",
       "      <td>08-Sep-17</td>\n",
       "      <td>09-Jun-18</td>\n",
       "      <td>Alive</td>\n",
       "    </tr>\n",
       "    <tr>\n",
       "      <th>3</th>\n",
       "      <td>TCGA-D8-A1XR</td>\n",
       "      <td>56.0</td>\n",
       "      <td>FEMALE</td>\n",
       "      <td>0.345090</td>\n",
       "      <td>-0.21147</td>\n",
       "      <td>-0.19304</td>\n",
       "      <td>0.124270</td>\n",
       "      <td>II</td>\n",
       "      <td>Infiltrating Ductal Carcinoma</td>\n",
       "      <td>Positive</td>\n",
       "      <td>Positive</td>\n",
       "      <td>Negative</td>\n",
       "      <td>Modified Radical Mastectomy</td>\n",
       "      <td>25-Jan-17</td>\n",
       "      <td>12-Jul-17</td>\n",
       "      <td>Alive</td>\n",
       "    </tr>\n",
       "    <tr>\n",
       "      <th>4</th>\n",
       "      <td>TCGA-BH-A0BF</td>\n",
       "      <td>56.0</td>\n",
       "      <td>FEMALE</td>\n",
       "      <td>0.221550</td>\n",
       "      <td>1.90680</td>\n",
       "      <td>0.52045</td>\n",
       "      <td>-0.311990</td>\n",
       "      <td>II</td>\n",
       "      <td>Infiltrating Ductal Carcinoma</td>\n",
       "      <td>Positive</td>\n",
       "      <td>Positive</td>\n",
       "      <td>Negative</td>\n",
       "      <td>Other</td>\n",
       "      <td>06-May-17</td>\n",
       "      <td>27-Jun-19</td>\n",
       "      <td>Dead</td>\n",
       "    </tr>\n",
       "  </tbody>\n",
       "</table>\n",
       "</div>"
      ],
      "text/plain": [
       "     Patient_ID   Age  Gender  Protein1  Protein2  Protein3  Protein4  \\\n",
       "0  TCGA-D8-A1XD  36.0  FEMALE  0.080353   0.42638   0.54715  0.273680   \n",
       "1  TCGA-EW-A1OX  43.0  FEMALE -0.420320   0.57807   0.61447 -0.031505   \n",
       "2  TCGA-A8-A079  69.0  FEMALE  0.213980   1.31140  -0.32747 -0.234260   \n",
       "3  TCGA-D8-A1XR  56.0  FEMALE  0.345090  -0.21147  -0.19304  0.124270   \n",
       "4  TCGA-BH-A0BF  56.0  FEMALE  0.221550   1.90680   0.52045 -0.311990   \n",
       "\n",
       "  Tumour_Stage                      Histology ER status PR status HER2 status  \\\n",
       "0          III  Infiltrating Ductal Carcinoma  Positive  Positive    Negative   \n",
       "1           II             Mucinous Carcinoma  Positive  Positive    Negative   \n",
       "2          III  Infiltrating Ductal Carcinoma  Positive  Positive    Negative   \n",
       "3           II  Infiltrating Ductal Carcinoma  Positive  Positive    Negative   \n",
       "4           II  Infiltrating Ductal Carcinoma  Positive  Positive    Negative   \n",
       "\n",
       "                  Surgery_type Date_of_Surgery Date_of_Last_Visit  \\\n",
       "0  Modified Radical Mastectomy       15-Jan-17          19-Jun-17   \n",
       "1                   Lumpectomy       26-Apr-17          09-Nov-18   \n",
       "2                        Other       08-Sep-17          09-Jun-18   \n",
       "3  Modified Radical Mastectomy       25-Jan-17          12-Jul-17   \n",
       "4                        Other       06-May-17          27-Jun-19   \n",
       "\n",
       "  Patient_Status  \n",
       "0          Alive  \n",
       "1           Dead  \n",
       "2          Alive  \n",
       "3          Alive  \n",
       "4           Dead  "
      ]
     },
     "execution_count": 2,
     "metadata": {},
     "output_type": "execute_result"
    }
   ],
   "source": [
    "data= pd.read_csv(\"../input/breastcancerdataset/BRCA.csv\")\n",
    "data.head()"
   ]
  },
  {
   "cell_type": "code",
   "execution_count": 3,
   "id": "a2feb8cc",
   "metadata": {
    "execution": {
     "iopub.execute_input": "2022-08-25T13:05:19.138142Z",
     "iopub.status.busy": "2022-08-25T13:05:19.137089Z",
     "iopub.status.idle": "2022-08-25T13:05:19.143715Z",
     "shell.execute_reply": "2022-08-25T13:05:19.142614Z"
    },
    "papermill": {
     "duration": 0.021334,
     "end_time": "2022-08-25T13:05:19.145992",
     "exception": false,
     "start_time": "2022-08-25T13:05:19.124658",
     "status": "completed"
    },
    "tags": []
   },
   "outputs": [
    {
     "data": {
      "text/plain": [
       "(341, 16)"
      ]
     },
     "execution_count": 3,
     "metadata": {},
     "output_type": "execute_result"
    }
   ],
   "source": [
    "data.shape #the numbers of data rows and columns"
   ]
  },
  {
   "cell_type": "code",
   "execution_count": 4,
   "id": "403bd638",
   "metadata": {
    "execution": {
     "iopub.execute_input": "2022-08-25T13:05:19.171010Z",
     "iopub.status.busy": "2022-08-25T13:05:19.170149Z",
     "iopub.status.idle": "2022-08-25T13:05:19.195777Z",
     "shell.execute_reply": "2022-08-25T13:05:19.194424Z"
    },
    "papermill": {
     "duration": 0.041031,
     "end_time": "2022-08-25T13:05:19.198483",
     "exception": false,
     "start_time": "2022-08-25T13:05:19.157452",
     "status": "completed"
    },
    "tags": []
   },
   "outputs": [
    {
     "name": "stdout",
     "output_type": "stream",
     "text": [
      "<class 'pandas.core.frame.DataFrame'>\n",
      "RangeIndex: 341 entries, 0 to 340\n",
      "Data columns (total 16 columns):\n",
      " #   Column              Non-Null Count  Dtype  \n",
      "---  ------              --------------  -----  \n",
      " 0   Patient_ID          334 non-null    object \n",
      " 1   Age                 334 non-null    float64\n",
      " 2   Gender              334 non-null    object \n",
      " 3   Protein1            334 non-null    float64\n",
      " 4   Protein2            334 non-null    float64\n",
      " 5   Protein3            334 non-null    float64\n",
      " 6   Protein4            334 non-null    float64\n",
      " 7   Tumour_Stage        334 non-null    object \n",
      " 8   Histology           334 non-null    object \n",
      " 9   ER status           334 non-null    object \n",
      " 10  PR status           334 non-null    object \n",
      " 11  HER2 status         334 non-null    object \n",
      " 12  Surgery_type        334 non-null    object \n",
      " 13  Date_of_Surgery     334 non-null    object \n",
      " 14  Date_of_Last_Visit  317 non-null    object \n",
      " 15  Patient_Status      321 non-null    object \n",
      "dtypes: float64(5), object(11)\n",
      "memory usage: 42.8+ KB\n"
     ]
    }
   ],
   "source": [
    "data.info() #the information of the data :The column names,  count of null values and their data types."
   ]
  },
  {
   "cell_type": "markdown",
   "id": "e83cc650",
   "metadata": {
    "papermill": {
     "duration": 0.011056,
     "end_time": "2022-08-25T13:05:19.220979",
     "exception": false,
     "start_time": "2022-08-25T13:05:19.209923",
     "status": "completed"
    },
    "tags": []
   },
   "source": [
    "## Data Cleaning"
   ]
  },
  {
   "cell_type": "code",
   "execution_count": 5,
   "id": "ffe8834f",
   "metadata": {
    "execution": {
     "iopub.execute_input": "2022-08-25T13:05:19.245994Z",
     "iopub.status.busy": "2022-08-25T13:05:19.245181Z",
     "iopub.status.idle": "2022-08-25T13:05:19.254987Z",
     "shell.execute_reply": "2022-08-25T13:05:19.254066Z"
    },
    "papermill": {
     "duration": 0.02493,
     "end_time": "2022-08-25T13:05:19.257265",
     "exception": false,
     "start_time": "2022-08-25T13:05:19.232335",
     "status": "completed"
    },
    "tags": []
   },
   "outputs": [
    {
     "data": {
      "text/plain": [
       "Patient_ID             7\n",
       "Age                    7\n",
       "Gender                 7\n",
       "Protein1               7\n",
       "Protein2               7\n",
       "Protein3               7\n",
       "Protein4               7\n",
       "Tumour_Stage           7\n",
       "Histology              7\n",
       "ER status              7\n",
       "PR status              7\n",
       "HER2 status            7\n",
       "Surgery_type           7\n",
       "Date_of_Surgery        7\n",
       "Date_of_Last_Visit    24\n",
       "Patient_Status        20\n",
       "dtype: int64"
      ]
     },
     "execution_count": 5,
     "metadata": {},
     "output_type": "execute_result"
    }
   ],
   "source": [
    "data.isnull().sum() #The sum of null vale in each column"
   ]
  },
  {
   "cell_type": "code",
   "execution_count": 6,
   "id": "6e2df67c",
   "metadata": {
    "execution": {
     "iopub.execute_input": "2022-08-25T13:05:19.282620Z",
     "iopub.status.busy": "2022-08-25T13:05:19.281845Z",
     "iopub.status.idle": "2022-08-25T13:05:19.317069Z",
     "shell.execute_reply": "2022-08-25T13:05:19.315115Z"
    },
    "papermill": {
     "duration": 0.052966,
     "end_time": "2022-08-25T13:05:19.321756",
     "exception": false,
     "start_time": "2022-08-25T13:05:19.268790",
     "status": "completed"
    },
    "tags": []
   },
   "outputs": [
    {
     "data": {
      "text/html": [
       "<div>\n",
       "<style scoped>\n",
       "    .dataframe tbody tr th:only-of-type {\n",
       "        vertical-align: middle;\n",
       "    }\n",
       "\n",
       "    .dataframe tbody tr th {\n",
       "        vertical-align: top;\n",
       "    }\n",
       "\n",
       "    .dataframe thead th {\n",
       "        text-align: right;\n",
       "    }\n",
       "</style>\n",
       "<table border=\"1\" class=\"dataframe\">\n",
       "  <thead>\n",
       "    <tr style=\"text-align: right;\">\n",
       "      <th></th>\n",
       "      <th>Patient_ID</th>\n",
       "      <th>Age</th>\n",
       "      <th>Gender</th>\n",
       "      <th>Protein1</th>\n",
       "      <th>Protein2</th>\n",
       "      <th>Protein3</th>\n",
       "      <th>Protein4</th>\n",
       "      <th>Tumour_Stage</th>\n",
       "      <th>Histology</th>\n",
       "      <th>ER status</th>\n",
       "      <th>PR status</th>\n",
       "      <th>HER2 status</th>\n",
       "      <th>Surgery_type</th>\n",
       "      <th>Date_of_Surgery</th>\n",
       "      <th>Date_of_Last_Visit</th>\n",
       "      <th>Patient_Status</th>\n",
       "    </tr>\n",
       "  </thead>\n",
       "  <tbody>\n",
       "    <tr>\n",
       "      <th>7</th>\n",
       "      <td>TCGA-A7-A426</td>\n",
       "      <td>50.0</td>\n",
       "      <td>FEMALE</td>\n",
       "      <td>0.672490</td>\n",
       "      <td>1.27900</td>\n",
       "      <td>-0.321070</td>\n",
       "      <td>-0.112390</td>\n",
       "      <td>III</td>\n",
       "      <td>Infiltrating Ductal Carcinoma</td>\n",
       "      <td>Positive</td>\n",
       "      <td>Positive</td>\n",
       "      <td>Negative</td>\n",
       "      <td>Simple Mastectomy</td>\n",
       "      <td>16-May-17</td>\n",
       "      <td>NaN</td>\n",
       "      <td>NaN</td>\n",
       "    </tr>\n",
       "    <tr>\n",
       "      <th>22</th>\n",
       "      <td>TCGA-AN-A0FY</td>\n",
       "      <td>55.0</td>\n",
       "      <td>FEMALE</td>\n",
       "      <td>0.330640</td>\n",
       "      <td>0.84757</td>\n",
       "      <td>-0.494660</td>\n",
       "      <td>0.116560</td>\n",
       "      <td>I</td>\n",
       "      <td>Infiltrating Lobular Carcinoma</td>\n",
       "      <td>Positive</td>\n",
       "      <td>Positive</td>\n",
       "      <td>Negative</td>\n",
       "      <td>Modified Radical Mastectomy</td>\n",
       "      <td>07-Nov-17</td>\n",
       "      <td>NaN</td>\n",
       "      <td>NaN</td>\n",
       "    </tr>\n",
       "    <tr>\n",
       "      <th>99</th>\n",
       "      <td>TCGA-A8-A06O</td>\n",
       "      <td>60.0</td>\n",
       "      <td>FEMALE</td>\n",
       "      <td>0.532420</td>\n",
       "      <td>1.54110</td>\n",
       "      <td>-1.009500</td>\n",
       "      <td>-0.125880</td>\n",
       "      <td>I</td>\n",
       "      <td>Infiltrating Ductal Carcinoma</td>\n",
       "      <td>Positive</td>\n",
       "      <td>Positive</td>\n",
       "      <td>Negative</td>\n",
       "      <td>Other</td>\n",
       "      <td>11-Dec-17</td>\n",
       "      <td>NaN</td>\n",
       "      <td>NaN</td>\n",
       "    </tr>\n",
       "    <tr>\n",
       "      <th>111</th>\n",
       "      <td>TCGA-MS-A51U</td>\n",
       "      <td>44.0</td>\n",
       "      <td>FEMALE</td>\n",
       "      <td>-0.278840</td>\n",
       "      <td>2.16880</td>\n",
       "      <td>-0.462330</td>\n",
       "      <td>0.272200</td>\n",
       "      <td>II</td>\n",
       "      <td>Infiltrating Ductal Carcinoma</td>\n",
       "      <td>Positive</td>\n",
       "      <td>Positive</td>\n",
       "      <td>Negative</td>\n",
       "      <td>Modified Radical Mastectomy</td>\n",
       "      <td>20-Jan-18</td>\n",
       "      <td>NaN</td>\n",
       "      <td>NaN</td>\n",
       "    </tr>\n",
       "    <tr>\n",
       "      <th>170</th>\n",
       "      <td>TCGA-AR-A0U2</td>\n",
       "      <td>47.0</td>\n",
       "      <td>FEMALE</td>\n",
       "      <td>0.515580</td>\n",
       "      <td>2.65020</td>\n",
       "      <td>-0.103130</td>\n",
       "      <td>-0.045725</td>\n",
       "      <td>III</td>\n",
       "      <td>Infiltrating Lobular Carcinoma</td>\n",
       "      <td>Positive</td>\n",
       "      <td>Positive</td>\n",
       "      <td>Negative</td>\n",
       "      <td>Modified Radical Mastectomy</td>\n",
       "      <td>29-Jul-18</td>\n",
       "      <td>NaN</td>\n",
       "      <td>Dead</td>\n",
       "    </tr>\n",
       "    <tr>\n",
       "      <th>182</th>\n",
       "      <td>TCGA-C8-A1HI</td>\n",
       "      <td>40.0</td>\n",
       "      <td>FEMALE</td>\n",
       "      <td>-1.455300</td>\n",
       "      <td>-0.74177</td>\n",
       "      <td>1.133600</td>\n",
       "      <td>-0.839700</td>\n",
       "      <td>III</td>\n",
       "      <td>Infiltrating Lobular Carcinoma</td>\n",
       "      <td>Positive</td>\n",
       "      <td>Positive</td>\n",
       "      <td>Negative</td>\n",
       "      <td>Other</td>\n",
       "      <td>07-Sep-18</td>\n",
       "      <td>NaN</td>\n",
       "      <td>NaN</td>\n",
       "    </tr>\n",
       "    <tr>\n",
       "      <th>189</th>\n",
       "      <td>TCGA-AO-A03O</td>\n",
       "      <td>69.0</td>\n",
       "      <td>FEMALE</td>\n",
       "      <td>-0.757790</td>\n",
       "      <td>-0.33780</td>\n",
       "      <td>0.561410</td>\n",
       "      <td>0.208300</td>\n",
       "      <td>II</td>\n",
       "      <td>Infiltrating Lobular Carcinoma</td>\n",
       "      <td>Positive</td>\n",
       "      <td>Positive</td>\n",
       "      <td>Negative</td>\n",
       "      <td>Modified Radical Mastectomy</td>\n",
       "      <td>07-Oct-18</td>\n",
       "      <td>NaN</td>\n",
       "      <td>Dead</td>\n",
       "    </tr>\n",
       "    <tr>\n",
       "      <th>196</th>\n",
       "      <td>TCGA-C8-A12U</td>\n",
       "      <td>46.0</td>\n",
       "      <td>FEMALE</td>\n",
       "      <td>-0.010999</td>\n",
       "      <td>0.86749</td>\n",
       "      <td>0.281570</td>\n",
       "      <td>-0.545880</td>\n",
       "      <td>II</td>\n",
       "      <td>Infiltrating Lobular Carcinoma</td>\n",
       "      <td>Positive</td>\n",
       "      <td>Positive</td>\n",
       "      <td>Negative</td>\n",
       "      <td>Other</td>\n",
       "      <td>10-Jun-19</td>\n",
       "      <td>NaN</td>\n",
       "      <td>NaN</td>\n",
       "    </tr>\n",
       "    <tr>\n",
       "      <th>206</th>\n",
       "      <td>TCGA-E9-A1NH</td>\n",
       "      <td>71.0</td>\n",
       "      <td>FEMALE</td>\n",
       "      <td>0.394090</td>\n",
       "      <td>1.70540</td>\n",
       "      <td>0.035642</td>\n",
       "      <td>1.441000</td>\n",
       "      <td>II</td>\n",
       "      <td>Infiltrating Lobular Carcinoma</td>\n",
       "      <td>Positive</td>\n",
       "      <td>Positive</td>\n",
       "      <td>Negative</td>\n",
       "      <td>Modified Radical Mastectomy</td>\n",
       "      <td>26-Nov-18</td>\n",
       "      <td>NaN</td>\n",
       "      <td>NaN</td>\n",
       "    </tr>\n",
       "    <tr>\n",
       "      <th>219</th>\n",
       "      <td>TCGA-C8-A12X</td>\n",
       "      <td>62.0</td>\n",
       "      <td>FEMALE</td>\n",
       "      <td>0.649340</td>\n",
       "      <td>1.81680</td>\n",
       "      <td>0.279260</td>\n",
       "      <td>0.132280</td>\n",
       "      <td>II</td>\n",
       "      <td>Infiltrating Lobular Carcinoma</td>\n",
       "      <td>Positive</td>\n",
       "      <td>Positive</td>\n",
       "      <td>Negative</td>\n",
       "      <td>Other</td>\n",
       "      <td>20-Jun-19</td>\n",
       "      <td>NaN</td>\n",
       "      <td>NaN</td>\n",
       "    </tr>\n",
       "    <tr>\n",
       "      <th>221</th>\n",
       "      <td>TCGA-C8-A12O</td>\n",
       "      <td>50.0</td>\n",
       "      <td>FEMALE</td>\n",
       "      <td>-0.322890</td>\n",
       "      <td>0.98848</td>\n",
       "      <td>-0.293130</td>\n",
       "      <td>-0.261700</td>\n",
       "      <td>II</td>\n",
       "      <td>Infiltrating Ductal Carcinoma</td>\n",
       "      <td>Positive</td>\n",
       "      <td>Positive</td>\n",
       "      <td>Negative</td>\n",
       "      <td>Other</td>\n",
       "      <td>16-Nov-18</td>\n",
       "      <td>NaN</td>\n",
       "      <td>NaN</td>\n",
       "    </tr>\n",
       "    <tr>\n",
       "      <th>265</th>\n",
       "      <td>TCGA-BH-A18S</td>\n",
       "      <td>79.0</td>\n",
       "      <td>FEMALE</td>\n",
       "      <td>0.978250</td>\n",
       "      <td>1.71050</td>\n",
       "      <td>-0.656300</td>\n",
       "      <td>0.269100</td>\n",
       "      <td>I</td>\n",
       "      <td>Infiltrating Ductal Carcinoma</td>\n",
       "      <td>Positive</td>\n",
       "      <td>Positive</td>\n",
       "      <td>Negative</td>\n",
       "      <td>Other</td>\n",
       "      <td>05-Apr-19</td>\n",
       "      <td>NaN</td>\n",
       "      <td>Dead</td>\n",
       "    </tr>\n",
       "    <tr>\n",
       "      <th>283</th>\n",
       "      <td>TCGA-BH-A18N</td>\n",
       "      <td>88.0</td>\n",
       "      <td>FEMALE</td>\n",
       "      <td>-0.603350</td>\n",
       "      <td>1.38250</td>\n",
       "      <td>0.403570</td>\n",
       "      <td>0.269210</td>\n",
       "      <td>II</td>\n",
       "      <td>Infiltrating Ductal Carcinoma</td>\n",
       "      <td>Positive</td>\n",
       "      <td>Positive</td>\n",
       "      <td>Negative</td>\n",
       "      <td>Modified Radical Mastectomy</td>\n",
       "      <td>04-Jun-19</td>\n",
       "      <td>NaN</td>\n",
       "      <td>Dead</td>\n",
       "    </tr>\n",
       "    <tr>\n",
       "      <th>285</th>\n",
       "      <td>TCGA-AC-A5EI</td>\n",
       "      <td>88.0</td>\n",
       "      <td>FEMALE</td>\n",
       "      <td>-2.340900</td>\n",
       "      <td>0.37246</td>\n",
       "      <td>0.208450</td>\n",
       "      <td>-1.641100</td>\n",
       "      <td>I</td>\n",
       "      <td>Infiltrating Ductal Carcinoma</td>\n",
       "      <td>Positive</td>\n",
       "      <td>Positive</td>\n",
       "      <td>Negative</td>\n",
       "      <td>Simple Mastectomy</td>\n",
       "      <td>04-Jun-19</td>\n",
       "      <td>NaN</td>\n",
       "      <td>NaN</td>\n",
       "    </tr>\n",
       "    <tr>\n",
       "      <th>286</th>\n",
       "      <td>TCGA-A8-A081</td>\n",
       "      <td>80.0</td>\n",
       "      <td>FEMALE</td>\n",
       "      <td>0.670770</td>\n",
       "      <td>-0.71039</td>\n",
       "      <td>0.186480</td>\n",
       "      <td>0.146640</td>\n",
       "      <td>II</td>\n",
       "      <td>Infiltrating Lobular Carcinoma</td>\n",
       "      <td>Positive</td>\n",
       "      <td>Positive</td>\n",
       "      <td>Negative</td>\n",
       "      <td>Other</td>\n",
       "      <td>14-Jun-19</td>\n",
       "      <td>NaN</td>\n",
       "      <td>NaN</td>\n",
       "    </tr>\n",
       "    <tr>\n",
       "      <th>305</th>\n",
       "      <td>TCGA-BH-A18J</td>\n",
       "      <td>56.0</td>\n",
       "      <td>FEMALE</td>\n",
       "      <td>-0.675420</td>\n",
       "      <td>0.26937</td>\n",
       "      <td>-0.086603</td>\n",
       "      <td>1.071400</td>\n",
       "      <td>III</td>\n",
       "      <td>Infiltrating Ductal Carcinoma</td>\n",
       "      <td>Positive</td>\n",
       "      <td>Positive</td>\n",
       "      <td>Negative</td>\n",
       "      <td>Modified Radical Mastectomy</td>\n",
       "      <td>23-Aug-19</td>\n",
       "      <td>NaN</td>\n",
       "      <td>NaN</td>\n",
       "    </tr>\n",
       "    <tr>\n",
       "      <th>321</th>\n",
       "      <td>TCGA-A8-A083</td>\n",
       "      <td>67.0</td>\n",
       "      <td>FEMALE</td>\n",
       "      <td>0.317420</td>\n",
       "      <td>-0.55585</td>\n",
       "      <td>0.356570</td>\n",
       "      <td>0.797330</td>\n",
       "      <td>II</td>\n",
       "      <td>Infiltrating Ductal Carcinoma</td>\n",
       "      <td>Positive</td>\n",
       "      <td>Positive</td>\n",
       "      <td>Negative</td>\n",
       "      <td>Other</td>\n",
       "      <td>02-Oct-19</td>\n",
       "      <td>NaN</td>\n",
       "      <td>NaN</td>\n",
       "    </tr>\n",
       "    <tr>\n",
       "      <th>334</th>\n",
       "      <td>NaN</td>\n",
       "      <td>NaN</td>\n",
       "      <td>NaN</td>\n",
       "      <td>NaN</td>\n",
       "      <td>NaN</td>\n",
       "      <td>NaN</td>\n",
       "      <td>NaN</td>\n",
       "      <td>NaN</td>\n",
       "      <td>NaN</td>\n",
       "      <td>NaN</td>\n",
       "      <td>NaN</td>\n",
       "      <td>NaN</td>\n",
       "      <td>NaN</td>\n",
       "      <td>NaN</td>\n",
       "      <td>NaN</td>\n",
       "      <td>NaN</td>\n",
       "    </tr>\n",
       "    <tr>\n",
       "      <th>335</th>\n",
       "      <td>NaN</td>\n",
       "      <td>NaN</td>\n",
       "      <td>NaN</td>\n",
       "      <td>NaN</td>\n",
       "      <td>NaN</td>\n",
       "      <td>NaN</td>\n",
       "      <td>NaN</td>\n",
       "      <td>NaN</td>\n",
       "      <td>NaN</td>\n",
       "      <td>NaN</td>\n",
       "      <td>NaN</td>\n",
       "      <td>NaN</td>\n",
       "      <td>NaN</td>\n",
       "      <td>NaN</td>\n",
       "      <td>NaN</td>\n",
       "      <td>NaN</td>\n",
       "    </tr>\n",
       "    <tr>\n",
       "      <th>336</th>\n",
       "      <td>NaN</td>\n",
       "      <td>NaN</td>\n",
       "      <td>NaN</td>\n",
       "      <td>NaN</td>\n",
       "      <td>NaN</td>\n",
       "      <td>NaN</td>\n",
       "      <td>NaN</td>\n",
       "      <td>NaN</td>\n",
       "      <td>NaN</td>\n",
       "      <td>NaN</td>\n",
       "      <td>NaN</td>\n",
       "      <td>NaN</td>\n",
       "      <td>NaN</td>\n",
       "      <td>NaN</td>\n",
       "      <td>NaN</td>\n",
       "      <td>NaN</td>\n",
       "    </tr>\n",
       "    <tr>\n",
       "      <th>337</th>\n",
       "      <td>NaN</td>\n",
       "      <td>NaN</td>\n",
       "      <td>NaN</td>\n",
       "      <td>NaN</td>\n",
       "      <td>NaN</td>\n",
       "      <td>NaN</td>\n",
       "      <td>NaN</td>\n",
       "      <td>NaN</td>\n",
       "      <td>NaN</td>\n",
       "      <td>NaN</td>\n",
       "      <td>NaN</td>\n",
       "      <td>NaN</td>\n",
       "      <td>NaN</td>\n",
       "      <td>NaN</td>\n",
       "      <td>NaN</td>\n",
       "      <td>NaN</td>\n",
       "    </tr>\n",
       "    <tr>\n",
       "      <th>338</th>\n",
       "      <td>NaN</td>\n",
       "      <td>NaN</td>\n",
       "      <td>NaN</td>\n",
       "      <td>NaN</td>\n",
       "      <td>NaN</td>\n",
       "      <td>NaN</td>\n",
       "      <td>NaN</td>\n",
       "      <td>NaN</td>\n",
       "      <td>NaN</td>\n",
       "      <td>NaN</td>\n",
       "      <td>NaN</td>\n",
       "      <td>NaN</td>\n",
       "      <td>NaN</td>\n",
       "      <td>NaN</td>\n",
       "      <td>NaN</td>\n",
       "      <td>NaN</td>\n",
       "    </tr>\n",
       "    <tr>\n",
       "      <th>339</th>\n",
       "      <td>NaN</td>\n",
       "      <td>NaN</td>\n",
       "      <td>NaN</td>\n",
       "      <td>NaN</td>\n",
       "      <td>NaN</td>\n",
       "      <td>NaN</td>\n",
       "      <td>NaN</td>\n",
       "      <td>NaN</td>\n",
       "      <td>NaN</td>\n",
       "      <td>NaN</td>\n",
       "      <td>NaN</td>\n",
       "      <td>NaN</td>\n",
       "      <td>NaN</td>\n",
       "      <td>NaN</td>\n",
       "      <td>NaN</td>\n",
       "      <td>NaN</td>\n",
       "    </tr>\n",
       "    <tr>\n",
       "      <th>340</th>\n",
       "      <td>NaN</td>\n",
       "      <td>NaN</td>\n",
       "      <td>NaN</td>\n",
       "      <td>NaN</td>\n",
       "      <td>NaN</td>\n",
       "      <td>NaN</td>\n",
       "      <td>NaN</td>\n",
       "      <td>NaN</td>\n",
       "      <td>NaN</td>\n",
       "      <td>NaN</td>\n",
       "      <td>NaN</td>\n",
       "      <td>NaN</td>\n",
       "      <td>NaN</td>\n",
       "      <td>NaN</td>\n",
       "      <td>NaN</td>\n",
       "      <td>NaN</td>\n",
       "    </tr>\n",
       "  </tbody>\n",
       "</table>\n",
       "</div>"
      ],
      "text/plain": [
       "       Patient_ID   Age  Gender  Protein1  Protein2  Protein3  Protein4  \\\n",
       "7    TCGA-A7-A426  50.0  FEMALE  0.672490   1.27900 -0.321070 -0.112390   \n",
       "22   TCGA-AN-A0FY  55.0  FEMALE  0.330640   0.84757 -0.494660  0.116560   \n",
       "99   TCGA-A8-A06O  60.0  FEMALE  0.532420   1.54110 -1.009500 -0.125880   \n",
       "111  TCGA-MS-A51U  44.0  FEMALE -0.278840   2.16880 -0.462330  0.272200   \n",
       "170  TCGA-AR-A0U2  47.0  FEMALE  0.515580   2.65020 -0.103130 -0.045725   \n",
       "182  TCGA-C8-A1HI  40.0  FEMALE -1.455300  -0.74177  1.133600 -0.839700   \n",
       "189  TCGA-AO-A03O  69.0  FEMALE -0.757790  -0.33780  0.561410  0.208300   \n",
       "196  TCGA-C8-A12U  46.0  FEMALE -0.010999   0.86749  0.281570 -0.545880   \n",
       "206  TCGA-E9-A1NH  71.0  FEMALE  0.394090   1.70540  0.035642  1.441000   \n",
       "219  TCGA-C8-A12X  62.0  FEMALE  0.649340   1.81680  0.279260  0.132280   \n",
       "221  TCGA-C8-A12O  50.0  FEMALE -0.322890   0.98848 -0.293130 -0.261700   \n",
       "265  TCGA-BH-A18S  79.0  FEMALE  0.978250   1.71050 -0.656300  0.269100   \n",
       "283  TCGA-BH-A18N  88.0  FEMALE -0.603350   1.38250  0.403570  0.269210   \n",
       "285  TCGA-AC-A5EI  88.0  FEMALE -2.340900   0.37246  0.208450 -1.641100   \n",
       "286  TCGA-A8-A081  80.0  FEMALE  0.670770  -0.71039  0.186480  0.146640   \n",
       "305  TCGA-BH-A18J  56.0  FEMALE -0.675420   0.26937 -0.086603  1.071400   \n",
       "321  TCGA-A8-A083  67.0  FEMALE  0.317420  -0.55585  0.356570  0.797330   \n",
       "334           NaN   NaN     NaN       NaN       NaN       NaN       NaN   \n",
       "335           NaN   NaN     NaN       NaN       NaN       NaN       NaN   \n",
       "336           NaN   NaN     NaN       NaN       NaN       NaN       NaN   \n",
       "337           NaN   NaN     NaN       NaN       NaN       NaN       NaN   \n",
       "338           NaN   NaN     NaN       NaN       NaN       NaN       NaN   \n",
       "339           NaN   NaN     NaN       NaN       NaN       NaN       NaN   \n",
       "340           NaN   NaN     NaN       NaN       NaN       NaN       NaN   \n",
       "\n",
       "    Tumour_Stage                       Histology ER status PR status  \\\n",
       "7            III   Infiltrating Ductal Carcinoma  Positive  Positive   \n",
       "22             I  Infiltrating Lobular Carcinoma  Positive  Positive   \n",
       "99             I   Infiltrating Ductal Carcinoma  Positive  Positive   \n",
       "111           II   Infiltrating Ductal Carcinoma  Positive  Positive   \n",
       "170          III  Infiltrating Lobular Carcinoma  Positive  Positive   \n",
       "182          III  Infiltrating Lobular Carcinoma  Positive  Positive   \n",
       "189           II  Infiltrating Lobular Carcinoma  Positive  Positive   \n",
       "196           II  Infiltrating Lobular Carcinoma  Positive  Positive   \n",
       "206           II  Infiltrating Lobular Carcinoma  Positive  Positive   \n",
       "219           II  Infiltrating Lobular Carcinoma  Positive  Positive   \n",
       "221           II   Infiltrating Ductal Carcinoma  Positive  Positive   \n",
       "265            I   Infiltrating Ductal Carcinoma  Positive  Positive   \n",
       "283           II   Infiltrating Ductal Carcinoma  Positive  Positive   \n",
       "285            I   Infiltrating Ductal Carcinoma  Positive  Positive   \n",
       "286           II  Infiltrating Lobular Carcinoma  Positive  Positive   \n",
       "305          III   Infiltrating Ductal Carcinoma  Positive  Positive   \n",
       "321           II   Infiltrating Ductal Carcinoma  Positive  Positive   \n",
       "334          NaN                             NaN       NaN       NaN   \n",
       "335          NaN                             NaN       NaN       NaN   \n",
       "336          NaN                             NaN       NaN       NaN   \n",
       "337          NaN                             NaN       NaN       NaN   \n",
       "338          NaN                             NaN       NaN       NaN   \n",
       "339          NaN                             NaN       NaN       NaN   \n",
       "340          NaN                             NaN       NaN       NaN   \n",
       "\n",
       "    HER2 status                 Surgery_type Date_of_Surgery  \\\n",
       "7      Negative            Simple Mastectomy       16-May-17   \n",
       "22     Negative  Modified Radical Mastectomy       07-Nov-17   \n",
       "99     Negative                        Other       11-Dec-17   \n",
       "111    Negative  Modified Radical Mastectomy       20-Jan-18   \n",
       "170    Negative  Modified Radical Mastectomy       29-Jul-18   \n",
       "182    Negative                        Other       07-Sep-18   \n",
       "189    Negative  Modified Radical Mastectomy       07-Oct-18   \n",
       "196    Negative                        Other       10-Jun-19   \n",
       "206    Negative  Modified Radical Mastectomy       26-Nov-18   \n",
       "219    Negative                        Other       20-Jun-19   \n",
       "221    Negative                        Other       16-Nov-18   \n",
       "265    Negative                        Other       05-Apr-19   \n",
       "283    Negative  Modified Radical Mastectomy       04-Jun-19   \n",
       "285    Negative            Simple Mastectomy       04-Jun-19   \n",
       "286    Negative                        Other       14-Jun-19   \n",
       "305    Negative  Modified Radical Mastectomy       23-Aug-19   \n",
       "321    Negative                        Other       02-Oct-19   \n",
       "334         NaN                          NaN             NaN   \n",
       "335         NaN                          NaN             NaN   \n",
       "336         NaN                          NaN             NaN   \n",
       "337         NaN                          NaN             NaN   \n",
       "338         NaN                          NaN             NaN   \n",
       "339         NaN                          NaN             NaN   \n",
       "340         NaN                          NaN             NaN   \n",
       "\n",
       "    Date_of_Last_Visit Patient_Status  \n",
       "7                  NaN            NaN  \n",
       "22                 NaN            NaN  \n",
       "99                 NaN            NaN  \n",
       "111                NaN            NaN  \n",
       "170                NaN           Dead  \n",
       "182                NaN            NaN  \n",
       "189                NaN           Dead  \n",
       "196                NaN            NaN  \n",
       "206                NaN            NaN  \n",
       "219                NaN            NaN  \n",
       "221                NaN            NaN  \n",
       "265                NaN           Dead  \n",
       "283                NaN           Dead  \n",
       "285                NaN            NaN  \n",
       "286                NaN            NaN  \n",
       "305                NaN            NaN  \n",
       "321                NaN            NaN  \n",
       "334                NaN            NaN  \n",
       "335                NaN            NaN  \n",
       "336                NaN            NaN  \n",
       "337                NaN            NaN  \n",
       "338                NaN            NaN  \n",
       "339                NaN            NaN  \n",
       "340                NaN            NaN  "
      ]
     },
     "execution_count": 6,
     "metadata": {},
     "output_type": "execute_result"
    }
   ],
   "source": [
    "data.loc[data.isnull().any(axis=1)] #The location of null values in the dataset"
   ]
  },
  {
   "cell_type": "code",
   "execution_count": 7,
   "id": "886eb381",
   "metadata": {
    "execution": {
     "iopub.execute_input": "2022-08-25T13:05:19.355813Z",
     "iopub.status.busy": "2022-08-25T13:05:19.355351Z",
     "iopub.status.idle": "2022-08-25T13:05:19.390600Z",
     "shell.execute_reply": "2022-08-25T13:05:19.389425Z"
    },
    "papermill": {
     "duration": 0.055166,
     "end_time": "2022-08-25T13:05:19.392916",
     "exception": false,
     "start_time": "2022-08-25T13:05:19.337750",
     "status": "completed"
    },
    "tags": []
   },
   "outputs": [
    {
     "data": {
      "text/html": [
       "<div>\n",
       "<style scoped>\n",
       "    .dataframe tbody tr th:only-of-type {\n",
       "        vertical-align: middle;\n",
       "    }\n",
       "\n",
       "    .dataframe tbody tr th {\n",
       "        vertical-align: top;\n",
       "    }\n",
       "\n",
       "    .dataframe thead th {\n",
       "        text-align: right;\n",
       "    }\n",
       "</style>\n",
       "<table border=\"1\" class=\"dataframe\">\n",
       "  <thead>\n",
       "    <tr style=\"text-align: right;\">\n",
       "      <th></th>\n",
       "      <th>Patient_ID</th>\n",
       "      <th>Age</th>\n",
       "      <th>Gender</th>\n",
       "      <th>Protein1</th>\n",
       "      <th>Protein2</th>\n",
       "      <th>Protein3</th>\n",
       "      <th>Protein4</th>\n",
       "      <th>Tumour_Stage</th>\n",
       "      <th>Histology</th>\n",
       "      <th>ER status</th>\n",
       "      <th>PR status</th>\n",
       "      <th>HER2 status</th>\n",
       "      <th>Surgery_type</th>\n",
       "      <th>Date_of_Surgery</th>\n",
       "      <th>Date_of_Last_Visit</th>\n",
       "      <th>Patient_Status</th>\n",
       "    </tr>\n",
       "  </thead>\n",
       "  <tbody>\n",
       "    <tr>\n",
       "      <th>0</th>\n",
       "      <td>TCGA-D8-A1XD</td>\n",
       "      <td>36.0</td>\n",
       "      <td>FEMALE</td>\n",
       "      <td>0.080353</td>\n",
       "      <td>0.42638</td>\n",
       "      <td>0.54715</td>\n",
       "      <td>0.273680</td>\n",
       "      <td>III</td>\n",
       "      <td>Infiltrating Ductal Carcinoma</td>\n",
       "      <td>Positive</td>\n",
       "      <td>Positive</td>\n",
       "      <td>Negative</td>\n",
       "      <td>Modified Radical Mastectomy</td>\n",
       "      <td>15-Jan-17</td>\n",
       "      <td>19-Jun-17</td>\n",
       "      <td>Alive</td>\n",
       "    </tr>\n",
       "    <tr>\n",
       "      <th>1</th>\n",
       "      <td>TCGA-EW-A1OX</td>\n",
       "      <td>43.0</td>\n",
       "      <td>FEMALE</td>\n",
       "      <td>-0.420320</td>\n",
       "      <td>0.57807</td>\n",
       "      <td>0.61447</td>\n",
       "      <td>-0.031505</td>\n",
       "      <td>II</td>\n",
       "      <td>Mucinous Carcinoma</td>\n",
       "      <td>Positive</td>\n",
       "      <td>Positive</td>\n",
       "      <td>Negative</td>\n",
       "      <td>Lumpectomy</td>\n",
       "      <td>26-Apr-17</td>\n",
       "      <td>09-Nov-18</td>\n",
       "      <td>Dead</td>\n",
       "    </tr>\n",
       "    <tr>\n",
       "      <th>2</th>\n",
       "      <td>TCGA-A8-A079</td>\n",
       "      <td>69.0</td>\n",
       "      <td>FEMALE</td>\n",
       "      <td>0.213980</td>\n",
       "      <td>1.31140</td>\n",
       "      <td>-0.32747</td>\n",
       "      <td>-0.234260</td>\n",
       "      <td>III</td>\n",
       "      <td>Infiltrating Ductal Carcinoma</td>\n",
       "      <td>Positive</td>\n",
       "      <td>Positive</td>\n",
       "      <td>Negative</td>\n",
       "      <td>Other</td>\n",
       "      <td>08-Sep-17</td>\n",
       "      <td>09-Jun-18</td>\n",
       "      <td>Alive</td>\n",
       "    </tr>\n",
       "    <tr>\n",
       "      <th>3</th>\n",
       "      <td>TCGA-D8-A1XR</td>\n",
       "      <td>56.0</td>\n",
       "      <td>FEMALE</td>\n",
       "      <td>0.345090</td>\n",
       "      <td>-0.21147</td>\n",
       "      <td>-0.19304</td>\n",
       "      <td>0.124270</td>\n",
       "      <td>II</td>\n",
       "      <td>Infiltrating Ductal Carcinoma</td>\n",
       "      <td>Positive</td>\n",
       "      <td>Positive</td>\n",
       "      <td>Negative</td>\n",
       "      <td>Modified Radical Mastectomy</td>\n",
       "      <td>25-Jan-17</td>\n",
       "      <td>12-Jul-17</td>\n",
       "      <td>Alive</td>\n",
       "    </tr>\n",
       "    <tr>\n",
       "      <th>4</th>\n",
       "      <td>TCGA-BH-A0BF</td>\n",
       "      <td>56.0</td>\n",
       "      <td>FEMALE</td>\n",
       "      <td>0.221550</td>\n",
       "      <td>1.90680</td>\n",
       "      <td>0.52045</td>\n",
       "      <td>-0.311990</td>\n",
       "      <td>II</td>\n",
       "      <td>Infiltrating Ductal Carcinoma</td>\n",
       "      <td>Positive</td>\n",
       "      <td>Positive</td>\n",
       "      <td>Negative</td>\n",
       "      <td>Other</td>\n",
       "      <td>06-May-17</td>\n",
       "      <td>27-Jun-19</td>\n",
       "      <td>Dead</td>\n",
       "    </tr>\n",
       "    <tr>\n",
       "      <th>...</th>\n",
       "      <td>...</td>\n",
       "      <td>...</td>\n",
       "      <td>...</td>\n",
       "      <td>...</td>\n",
       "      <td>...</td>\n",
       "      <td>...</td>\n",
       "      <td>...</td>\n",
       "      <td>...</td>\n",
       "      <td>...</td>\n",
       "      <td>...</td>\n",
       "      <td>...</td>\n",
       "      <td>...</td>\n",
       "      <td>...</td>\n",
       "      <td>...</td>\n",
       "      <td>...</td>\n",
       "      <td>...</td>\n",
       "    </tr>\n",
       "    <tr>\n",
       "      <th>329</th>\n",
       "      <td>TCGA-AN-A04A</td>\n",
       "      <td>36.0</td>\n",
       "      <td>FEMALE</td>\n",
       "      <td>0.231800</td>\n",
       "      <td>0.61804</td>\n",
       "      <td>-0.55779</td>\n",
       "      <td>-0.517350</td>\n",
       "      <td>III</td>\n",
       "      <td>Infiltrating Ductal Carcinoma</td>\n",
       "      <td>Positive</td>\n",
       "      <td>Positive</td>\n",
       "      <td>Positive</td>\n",
       "      <td>Simple Mastectomy</td>\n",
       "      <td>11-Nov-19</td>\n",
       "      <td>09-Feb-20</td>\n",
       "      <td>Dead</td>\n",
       "    </tr>\n",
       "    <tr>\n",
       "      <th>330</th>\n",
       "      <td>TCGA-A8-A085</td>\n",
       "      <td>44.0</td>\n",
       "      <td>MALE</td>\n",
       "      <td>0.732720</td>\n",
       "      <td>1.11170</td>\n",
       "      <td>-0.26952</td>\n",
       "      <td>-0.354920</td>\n",
       "      <td>II</td>\n",
       "      <td>Infiltrating Lobular Carcinoma</td>\n",
       "      <td>Positive</td>\n",
       "      <td>Positive</td>\n",
       "      <td>Negative</td>\n",
       "      <td>Other</td>\n",
       "      <td>01-Nov-19</td>\n",
       "      <td>04-Mar-20</td>\n",
       "      <td>Dead</td>\n",
       "    </tr>\n",
       "    <tr>\n",
       "      <th>331</th>\n",
       "      <td>TCGA-A1-A0SG</td>\n",
       "      <td>61.0</td>\n",
       "      <td>FEMALE</td>\n",
       "      <td>-0.719470</td>\n",
       "      <td>2.54850</td>\n",
       "      <td>-0.15024</td>\n",
       "      <td>0.339680</td>\n",
       "      <td>II</td>\n",
       "      <td>Infiltrating Ductal Carcinoma</td>\n",
       "      <td>Positive</td>\n",
       "      <td>Positive</td>\n",
       "      <td>Negative</td>\n",
       "      <td>Lumpectomy</td>\n",
       "      <td>11-Nov-19</td>\n",
       "      <td>18-Jan-21</td>\n",
       "      <td>Dead</td>\n",
       "    </tr>\n",
       "    <tr>\n",
       "      <th>332</th>\n",
       "      <td>TCGA-A2-A0EU</td>\n",
       "      <td>79.0</td>\n",
       "      <td>FEMALE</td>\n",
       "      <td>0.479400</td>\n",
       "      <td>2.05590</td>\n",
       "      <td>-0.53136</td>\n",
       "      <td>-0.188480</td>\n",
       "      <td>I</td>\n",
       "      <td>Infiltrating Ductal Carcinoma</td>\n",
       "      <td>Positive</td>\n",
       "      <td>Positive</td>\n",
       "      <td>Positive</td>\n",
       "      <td>Lumpectomy</td>\n",
       "      <td>21-Nov-19</td>\n",
       "      <td>19-Feb-21</td>\n",
       "      <td>Dead</td>\n",
       "    </tr>\n",
       "    <tr>\n",
       "      <th>333</th>\n",
       "      <td>TCGA-B6-A40B</td>\n",
       "      <td>76.0</td>\n",
       "      <td>FEMALE</td>\n",
       "      <td>-0.244270</td>\n",
       "      <td>0.92556</td>\n",
       "      <td>-0.41823</td>\n",
       "      <td>-0.067848</td>\n",
       "      <td>I</td>\n",
       "      <td>Infiltrating Ductal Carcinoma</td>\n",
       "      <td>Positive</td>\n",
       "      <td>Positive</td>\n",
       "      <td>Negative</td>\n",
       "      <td>Lumpectomy</td>\n",
       "      <td>11-Nov-19</td>\n",
       "      <td>05-Jan-21</td>\n",
       "      <td>Dead</td>\n",
       "    </tr>\n",
       "  </tbody>\n",
       "</table>\n",
       "<p>334 rows × 16 columns</p>\n",
       "</div>"
      ],
      "text/plain": [
       "       Patient_ID   Age  Gender  Protein1  Protein2  Protein3  Protein4  \\\n",
       "0    TCGA-D8-A1XD  36.0  FEMALE  0.080353   0.42638   0.54715  0.273680   \n",
       "1    TCGA-EW-A1OX  43.0  FEMALE -0.420320   0.57807   0.61447 -0.031505   \n",
       "2    TCGA-A8-A079  69.0  FEMALE  0.213980   1.31140  -0.32747 -0.234260   \n",
       "3    TCGA-D8-A1XR  56.0  FEMALE  0.345090  -0.21147  -0.19304  0.124270   \n",
       "4    TCGA-BH-A0BF  56.0  FEMALE  0.221550   1.90680   0.52045 -0.311990   \n",
       "..            ...   ...     ...       ...       ...       ...       ...   \n",
       "329  TCGA-AN-A04A  36.0  FEMALE  0.231800   0.61804  -0.55779 -0.517350   \n",
       "330  TCGA-A8-A085  44.0    MALE  0.732720   1.11170  -0.26952 -0.354920   \n",
       "331  TCGA-A1-A0SG  61.0  FEMALE -0.719470   2.54850  -0.15024  0.339680   \n",
       "332  TCGA-A2-A0EU  79.0  FEMALE  0.479400   2.05590  -0.53136 -0.188480   \n",
       "333  TCGA-B6-A40B  76.0  FEMALE -0.244270   0.92556  -0.41823 -0.067848   \n",
       "\n",
       "    Tumour_Stage                       Histology ER status PR status  \\\n",
       "0            III   Infiltrating Ductal Carcinoma  Positive  Positive   \n",
       "1             II              Mucinous Carcinoma  Positive  Positive   \n",
       "2            III   Infiltrating Ductal Carcinoma  Positive  Positive   \n",
       "3             II   Infiltrating Ductal Carcinoma  Positive  Positive   \n",
       "4             II   Infiltrating Ductal Carcinoma  Positive  Positive   \n",
       "..           ...                             ...       ...       ...   \n",
       "329          III   Infiltrating Ductal Carcinoma  Positive  Positive   \n",
       "330           II  Infiltrating Lobular Carcinoma  Positive  Positive   \n",
       "331           II   Infiltrating Ductal Carcinoma  Positive  Positive   \n",
       "332            I   Infiltrating Ductal Carcinoma  Positive  Positive   \n",
       "333            I   Infiltrating Ductal Carcinoma  Positive  Positive   \n",
       "\n",
       "    HER2 status                 Surgery_type Date_of_Surgery  \\\n",
       "0      Negative  Modified Radical Mastectomy       15-Jan-17   \n",
       "1      Negative                   Lumpectomy       26-Apr-17   \n",
       "2      Negative                        Other       08-Sep-17   \n",
       "3      Negative  Modified Radical Mastectomy       25-Jan-17   \n",
       "4      Negative                        Other       06-May-17   \n",
       "..          ...                          ...             ...   \n",
       "329    Positive            Simple Mastectomy       11-Nov-19   \n",
       "330    Negative                        Other       01-Nov-19   \n",
       "331    Negative                   Lumpectomy       11-Nov-19   \n",
       "332    Positive                   Lumpectomy       21-Nov-19   \n",
       "333    Negative                   Lumpectomy       11-Nov-19   \n",
       "\n",
       "    Date_of_Last_Visit Patient_Status  \n",
       "0            19-Jun-17          Alive  \n",
       "1            09-Nov-18           Dead  \n",
       "2            09-Jun-18          Alive  \n",
       "3            12-Jul-17          Alive  \n",
       "4            27-Jun-19           Dead  \n",
       "..                 ...            ...  \n",
       "329          09-Feb-20           Dead  \n",
       "330          04-Mar-20           Dead  \n",
       "331          18-Jan-21           Dead  \n",
       "332          19-Feb-21           Dead  \n",
       "333          05-Jan-21           Dead  \n",
       "\n",
       "[334 rows x 16 columns]"
      ]
     },
     "execution_count": 7,
     "metadata": {},
     "output_type": "execute_result"
    }
   ],
   "source": [
    "data=data.loc[:333] #To slice out na/null rows out.\n",
    "data"
   ]
  },
  {
   "cell_type": "code",
   "execution_count": 8,
   "id": "d09980b7",
   "metadata": {
    "execution": {
     "iopub.execute_input": "2022-08-25T13:05:19.421527Z",
     "iopub.status.busy": "2022-08-25T13:05:19.420796Z",
     "iopub.status.idle": "2022-08-25T13:05:19.431362Z",
     "shell.execute_reply": "2022-08-25T13:05:19.430188Z"
    },
    "papermill": {
     "duration": 0.028775,
     "end_time": "2022-08-25T13:05:19.435029",
     "exception": false,
     "start_time": "2022-08-25T13:05:19.406254",
     "status": "completed"
    },
    "tags": []
   },
   "outputs": [
    {
     "data": {
      "text/plain": [
       "Patient_ID             0\n",
       "Age                    0\n",
       "Gender                 0\n",
       "Protein1               0\n",
       "Protein2               0\n",
       "Protein3               0\n",
       "Protein4               0\n",
       "Tumour_Stage           0\n",
       "Histology              0\n",
       "ER status              0\n",
       "PR status              0\n",
       "HER2 status            0\n",
       "Surgery_type           0\n",
       "Date_of_Surgery        0\n",
       "Date_of_Last_Visit    17\n",
       "Patient_Status        13\n",
       "dtype: int64"
      ]
     },
     "execution_count": 8,
     "metadata": {},
     "output_type": "execute_result"
    }
   ],
   "source": [
    "data.isna().sum() #to check the remaining null values still present."
   ]
  },
  {
   "cell_type": "markdown",
   "id": "65a37b7f",
   "metadata": {
    "papermill": {
     "duration": 0.013031,
     "end_time": "2022-08-25T13:05:19.462757",
     "exception": false,
     "start_time": "2022-08-25T13:05:19.449726",
     "status": "completed"
    },
    "tags": []
   },
   "source": [
    "The null values present are on date of last visit and patient status. As the patient status are not available and cannot be filled randomly, we will drop all null values."
   ]
  },
  {
   "cell_type": "code",
   "execution_count": 9,
   "id": "5f2f266e",
   "metadata": {
    "execution": {
     "iopub.execute_input": "2022-08-25T13:05:19.491472Z",
     "iopub.status.busy": "2022-08-25T13:05:19.491075Z",
     "iopub.status.idle": "2022-08-25T13:05:19.520793Z",
     "shell.execute_reply": "2022-08-25T13:05:19.519589Z"
    },
    "papermill": {
     "duration": 0.047221,
     "end_time": "2022-08-25T13:05:19.523220",
     "exception": false,
     "start_time": "2022-08-25T13:05:19.475999",
     "status": "completed"
    },
    "tags": []
   },
   "outputs": [
    {
     "data": {
      "text/html": [
       "<div>\n",
       "<style scoped>\n",
       "    .dataframe tbody tr th:only-of-type {\n",
       "        vertical-align: middle;\n",
       "    }\n",
       "\n",
       "    .dataframe tbody tr th {\n",
       "        vertical-align: top;\n",
       "    }\n",
       "\n",
       "    .dataframe thead th {\n",
       "        text-align: right;\n",
       "    }\n",
       "</style>\n",
       "<table border=\"1\" class=\"dataframe\">\n",
       "  <thead>\n",
       "    <tr style=\"text-align: right;\">\n",
       "      <th></th>\n",
       "      <th>Patient_ID</th>\n",
       "      <th>Age</th>\n",
       "      <th>Gender</th>\n",
       "      <th>Protein1</th>\n",
       "      <th>Protein2</th>\n",
       "      <th>Protein3</th>\n",
       "      <th>Protein4</th>\n",
       "      <th>Tumour_Stage</th>\n",
       "      <th>Histology</th>\n",
       "      <th>ER status</th>\n",
       "      <th>PR status</th>\n",
       "      <th>HER2 status</th>\n",
       "      <th>Surgery_type</th>\n",
       "      <th>Date_of_Surgery</th>\n",
       "      <th>Date_of_Last_Visit</th>\n",
       "      <th>Patient_Status</th>\n",
       "    </tr>\n",
       "  </thead>\n",
       "  <tbody>\n",
       "    <tr>\n",
       "      <th>0</th>\n",
       "      <td>TCGA-D8-A1XD</td>\n",
       "      <td>36.0</td>\n",
       "      <td>FEMALE</td>\n",
       "      <td>0.080353</td>\n",
       "      <td>0.42638</td>\n",
       "      <td>0.54715</td>\n",
       "      <td>0.273680</td>\n",
       "      <td>III</td>\n",
       "      <td>Infiltrating Ductal Carcinoma</td>\n",
       "      <td>Positive</td>\n",
       "      <td>Positive</td>\n",
       "      <td>Negative</td>\n",
       "      <td>Modified Radical Mastectomy</td>\n",
       "      <td>15-Jan-17</td>\n",
       "      <td>19-Jun-17</td>\n",
       "      <td>Alive</td>\n",
       "    </tr>\n",
       "    <tr>\n",
       "      <th>1</th>\n",
       "      <td>TCGA-EW-A1OX</td>\n",
       "      <td>43.0</td>\n",
       "      <td>FEMALE</td>\n",
       "      <td>-0.420320</td>\n",
       "      <td>0.57807</td>\n",
       "      <td>0.61447</td>\n",
       "      <td>-0.031505</td>\n",
       "      <td>II</td>\n",
       "      <td>Mucinous Carcinoma</td>\n",
       "      <td>Positive</td>\n",
       "      <td>Positive</td>\n",
       "      <td>Negative</td>\n",
       "      <td>Lumpectomy</td>\n",
       "      <td>26-Apr-17</td>\n",
       "      <td>09-Nov-18</td>\n",
       "      <td>Dead</td>\n",
       "    </tr>\n",
       "    <tr>\n",
       "      <th>2</th>\n",
       "      <td>TCGA-A8-A079</td>\n",
       "      <td>69.0</td>\n",
       "      <td>FEMALE</td>\n",
       "      <td>0.213980</td>\n",
       "      <td>1.31140</td>\n",
       "      <td>-0.32747</td>\n",
       "      <td>-0.234260</td>\n",
       "      <td>III</td>\n",
       "      <td>Infiltrating Ductal Carcinoma</td>\n",
       "      <td>Positive</td>\n",
       "      <td>Positive</td>\n",
       "      <td>Negative</td>\n",
       "      <td>Other</td>\n",
       "      <td>08-Sep-17</td>\n",
       "      <td>09-Jun-18</td>\n",
       "      <td>Alive</td>\n",
       "    </tr>\n",
       "    <tr>\n",
       "      <th>3</th>\n",
       "      <td>TCGA-D8-A1XR</td>\n",
       "      <td>56.0</td>\n",
       "      <td>FEMALE</td>\n",
       "      <td>0.345090</td>\n",
       "      <td>-0.21147</td>\n",
       "      <td>-0.19304</td>\n",
       "      <td>0.124270</td>\n",
       "      <td>II</td>\n",
       "      <td>Infiltrating Ductal Carcinoma</td>\n",
       "      <td>Positive</td>\n",
       "      <td>Positive</td>\n",
       "      <td>Negative</td>\n",
       "      <td>Modified Radical Mastectomy</td>\n",
       "      <td>25-Jan-17</td>\n",
       "      <td>12-Jul-17</td>\n",
       "      <td>Alive</td>\n",
       "    </tr>\n",
       "    <tr>\n",
       "      <th>4</th>\n",
       "      <td>TCGA-BH-A0BF</td>\n",
       "      <td>56.0</td>\n",
       "      <td>FEMALE</td>\n",
       "      <td>0.221550</td>\n",
       "      <td>1.90680</td>\n",
       "      <td>0.52045</td>\n",
       "      <td>-0.311990</td>\n",
       "      <td>II</td>\n",
       "      <td>Infiltrating Ductal Carcinoma</td>\n",
       "      <td>Positive</td>\n",
       "      <td>Positive</td>\n",
       "      <td>Negative</td>\n",
       "      <td>Other</td>\n",
       "      <td>06-May-17</td>\n",
       "      <td>27-Jun-19</td>\n",
       "      <td>Dead</td>\n",
       "    </tr>\n",
       "    <tr>\n",
       "      <th>...</th>\n",
       "      <td>...</td>\n",
       "      <td>...</td>\n",
       "      <td>...</td>\n",
       "      <td>...</td>\n",
       "      <td>...</td>\n",
       "      <td>...</td>\n",
       "      <td>...</td>\n",
       "      <td>...</td>\n",
       "      <td>...</td>\n",
       "      <td>...</td>\n",
       "      <td>...</td>\n",
       "      <td>...</td>\n",
       "      <td>...</td>\n",
       "      <td>...</td>\n",
       "      <td>...</td>\n",
       "      <td>...</td>\n",
       "    </tr>\n",
       "    <tr>\n",
       "      <th>329</th>\n",
       "      <td>TCGA-AN-A04A</td>\n",
       "      <td>36.0</td>\n",
       "      <td>FEMALE</td>\n",
       "      <td>0.231800</td>\n",
       "      <td>0.61804</td>\n",
       "      <td>-0.55779</td>\n",
       "      <td>-0.517350</td>\n",
       "      <td>III</td>\n",
       "      <td>Infiltrating Ductal Carcinoma</td>\n",
       "      <td>Positive</td>\n",
       "      <td>Positive</td>\n",
       "      <td>Positive</td>\n",
       "      <td>Simple Mastectomy</td>\n",
       "      <td>11-Nov-19</td>\n",
       "      <td>09-Feb-20</td>\n",
       "      <td>Dead</td>\n",
       "    </tr>\n",
       "    <tr>\n",
       "      <th>330</th>\n",
       "      <td>TCGA-A8-A085</td>\n",
       "      <td>44.0</td>\n",
       "      <td>MALE</td>\n",
       "      <td>0.732720</td>\n",
       "      <td>1.11170</td>\n",
       "      <td>-0.26952</td>\n",
       "      <td>-0.354920</td>\n",
       "      <td>II</td>\n",
       "      <td>Infiltrating Lobular Carcinoma</td>\n",
       "      <td>Positive</td>\n",
       "      <td>Positive</td>\n",
       "      <td>Negative</td>\n",
       "      <td>Other</td>\n",
       "      <td>01-Nov-19</td>\n",
       "      <td>04-Mar-20</td>\n",
       "      <td>Dead</td>\n",
       "    </tr>\n",
       "    <tr>\n",
       "      <th>331</th>\n",
       "      <td>TCGA-A1-A0SG</td>\n",
       "      <td>61.0</td>\n",
       "      <td>FEMALE</td>\n",
       "      <td>-0.719470</td>\n",
       "      <td>2.54850</td>\n",
       "      <td>-0.15024</td>\n",
       "      <td>0.339680</td>\n",
       "      <td>II</td>\n",
       "      <td>Infiltrating Ductal Carcinoma</td>\n",
       "      <td>Positive</td>\n",
       "      <td>Positive</td>\n",
       "      <td>Negative</td>\n",
       "      <td>Lumpectomy</td>\n",
       "      <td>11-Nov-19</td>\n",
       "      <td>18-Jan-21</td>\n",
       "      <td>Dead</td>\n",
       "    </tr>\n",
       "    <tr>\n",
       "      <th>332</th>\n",
       "      <td>TCGA-A2-A0EU</td>\n",
       "      <td>79.0</td>\n",
       "      <td>FEMALE</td>\n",
       "      <td>0.479400</td>\n",
       "      <td>2.05590</td>\n",
       "      <td>-0.53136</td>\n",
       "      <td>-0.188480</td>\n",
       "      <td>I</td>\n",
       "      <td>Infiltrating Ductal Carcinoma</td>\n",
       "      <td>Positive</td>\n",
       "      <td>Positive</td>\n",
       "      <td>Positive</td>\n",
       "      <td>Lumpectomy</td>\n",
       "      <td>21-Nov-19</td>\n",
       "      <td>19-Feb-21</td>\n",
       "      <td>Dead</td>\n",
       "    </tr>\n",
       "    <tr>\n",
       "      <th>333</th>\n",
       "      <td>TCGA-B6-A40B</td>\n",
       "      <td>76.0</td>\n",
       "      <td>FEMALE</td>\n",
       "      <td>-0.244270</td>\n",
       "      <td>0.92556</td>\n",
       "      <td>-0.41823</td>\n",
       "      <td>-0.067848</td>\n",
       "      <td>I</td>\n",
       "      <td>Infiltrating Ductal Carcinoma</td>\n",
       "      <td>Positive</td>\n",
       "      <td>Positive</td>\n",
       "      <td>Negative</td>\n",
       "      <td>Lumpectomy</td>\n",
       "      <td>11-Nov-19</td>\n",
       "      <td>05-Jan-21</td>\n",
       "      <td>Dead</td>\n",
       "    </tr>\n",
       "  </tbody>\n",
       "</table>\n",
       "<p>317 rows × 16 columns</p>\n",
       "</div>"
      ],
      "text/plain": [
       "       Patient_ID   Age  Gender  Protein1  Protein2  Protein3  Protein4  \\\n",
       "0    TCGA-D8-A1XD  36.0  FEMALE  0.080353   0.42638   0.54715  0.273680   \n",
       "1    TCGA-EW-A1OX  43.0  FEMALE -0.420320   0.57807   0.61447 -0.031505   \n",
       "2    TCGA-A8-A079  69.0  FEMALE  0.213980   1.31140  -0.32747 -0.234260   \n",
       "3    TCGA-D8-A1XR  56.0  FEMALE  0.345090  -0.21147  -0.19304  0.124270   \n",
       "4    TCGA-BH-A0BF  56.0  FEMALE  0.221550   1.90680   0.52045 -0.311990   \n",
       "..            ...   ...     ...       ...       ...       ...       ...   \n",
       "329  TCGA-AN-A04A  36.0  FEMALE  0.231800   0.61804  -0.55779 -0.517350   \n",
       "330  TCGA-A8-A085  44.0    MALE  0.732720   1.11170  -0.26952 -0.354920   \n",
       "331  TCGA-A1-A0SG  61.0  FEMALE -0.719470   2.54850  -0.15024  0.339680   \n",
       "332  TCGA-A2-A0EU  79.0  FEMALE  0.479400   2.05590  -0.53136 -0.188480   \n",
       "333  TCGA-B6-A40B  76.0  FEMALE -0.244270   0.92556  -0.41823 -0.067848   \n",
       "\n",
       "    Tumour_Stage                       Histology ER status PR status  \\\n",
       "0            III   Infiltrating Ductal Carcinoma  Positive  Positive   \n",
       "1             II              Mucinous Carcinoma  Positive  Positive   \n",
       "2            III   Infiltrating Ductal Carcinoma  Positive  Positive   \n",
       "3             II   Infiltrating Ductal Carcinoma  Positive  Positive   \n",
       "4             II   Infiltrating Ductal Carcinoma  Positive  Positive   \n",
       "..           ...                             ...       ...       ...   \n",
       "329          III   Infiltrating Ductal Carcinoma  Positive  Positive   \n",
       "330           II  Infiltrating Lobular Carcinoma  Positive  Positive   \n",
       "331           II   Infiltrating Ductal Carcinoma  Positive  Positive   \n",
       "332            I   Infiltrating Ductal Carcinoma  Positive  Positive   \n",
       "333            I   Infiltrating Ductal Carcinoma  Positive  Positive   \n",
       "\n",
       "    HER2 status                 Surgery_type Date_of_Surgery  \\\n",
       "0      Negative  Modified Radical Mastectomy       15-Jan-17   \n",
       "1      Negative                   Lumpectomy       26-Apr-17   \n",
       "2      Negative                        Other       08-Sep-17   \n",
       "3      Negative  Modified Radical Mastectomy       25-Jan-17   \n",
       "4      Negative                        Other       06-May-17   \n",
       "..          ...                          ...             ...   \n",
       "329    Positive            Simple Mastectomy       11-Nov-19   \n",
       "330    Negative                        Other       01-Nov-19   \n",
       "331    Negative                   Lumpectomy       11-Nov-19   \n",
       "332    Positive                   Lumpectomy       21-Nov-19   \n",
       "333    Negative                   Lumpectomy       11-Nov-19   \n",
       "\n",
       "    Date_of_Last_Visit Patient_Status  \n",
       "0            19-Jun-17          Alive  \n",
       "1            09-Nov-18           Dead  \n",
       "2            09-Jun-18          Alive  \n",
       "3            12-Jul-17          Alive  \n",
       "4            27-Jun-19           Dead  \n",
       "..                 ...            ...  \n",
       "329          09-Feb-20           Dead  \n",
       "330          04-Mar-20           Dead  \n",
       "331          18-Jan-21           Dead  \n",
       "332          19-Feb-21           Dead  \n",
       "333          05-Jan-21           Dead  \n",
       "\n",
       "[317 rows x 16 columns]"
      ]
     },
     "execution_count": 9,
     "metadata": {},
     "output_type": "execute_result"
    }
   ],
   "source": [
    "data.dropna(inplace = True) #To drop all the null values in the  data\n",
    "data"
   ]
  },
  {
   "cell_type": "code",
   "execution_count": 10,
   "id": "2a47ff10",
   "metadata": {
    "execution": {
     "iopub.execute_input": "2022-08-25T13:05:19.552484Z",
     "iopub.status.busy": "2022-08-25T13:05:19.552070Z",
     "iopub.status.idle": "2022-08-25T13:05:19.561903Z",
     "shell.execute_reply": "2022-08-25T13:05:19.561090Z"
    },
    "papermill": {
     "duration": 0.027009,
     "end_time": "2022-08-25T13:05:19.564158",
     "exception": false,
     "start_time": "2022-08-25T13:05:19.537149",
     "status": "completed"
    },
    "tags": []
   },
   "outputs": [
    {
     "data": {
      "text/plain": [
       "Patient_ID            0\n",
       "Age                   0\n",
       "Gender                0\n",
       "Protein1              0\n",
       "Protein2              0\n",
       "Protein3              0\n",
       "Protein4              0\n",
       "Tumour_Stage          0\n",
       "Histology             0\n",
       "ER status             0\n",
       "PR status             0\n",
       "HER2 status           0\n",
       "Surgery_type          0\n",
       "Date_of_Surgery       0\n",
       "Date_of_Last_Visit    0\n",
       "Patient_Status        0\n",
       "dtype: int64"
      ]
     },
     "execution_count": 10,
     "metadata": {},
     "output_type": "execute_result"
    }
   ],
   "source": [
    "data.isna().sum()# data has zero null values after dropping all null values"
   ]
  },
  {
   "cell_type": "code",
   "execution_count": 11,
   "id": "24a8e4ce",
   "metadata": {
    "execution": {
     "iopub.execute_input": "2022-08-25T13:05:19.594584Z",
     "iopub.status.busy": "2022-08-25T13:05:19.593537Z",
     "iopub.status.idle": "2022-08-25T13:05:19.608006Z",
     "shell.execute_reply": "2022-08-25T13:05:19.606318Z"
    },
    "papermill": {
     "duration": 0.032457,
     "end_time": "2022-08-25T13:05:19.610780",
     "exception": false,
     "start_time": "2022-08-25T13:05:19.578323",
     "status": "completed"
    },
    "scrolled": true,
    "tags": []
   },
   "outputs": [
    {
     "name": "stdout",
     "output_type": "stream",
     "text": [
      "<class 'pandas.core.frame.DataFrame'>\n",
      "Int64Index: 317 entries, 0 to 333\n",
      "Data columns (total 16 columns):\n",
      " #   Column              Non-Null Count  Dtype  \n",
      "---  ------              --------------  -----  \n",
      " 0   Patient_ID          317 non-null    object \n",
      " 1   Age                 317 non-null    float64\n",
      " 2   Gender              317 non-null    object \n",
      " 3   Protein1            317 non-null    float64\n",
      " 4   Protein2            317 non-null    float64\n",
      " 5   Protein3            317 non-null    float64\n",
      " 6   Protein4            317 non-null    float64\n",
      " 7   Tumour_Stage        317 non-null    object \n",
      " 8   Histology           317 non-null    object \n",
      " 9   ER status           317 non-null    object \n",
      " 10  PR status           317 non-null    object \n",
      " 11  HER2 status         317 non-null    object \n",
      " 12  Surgery_type        317 non-null    object \n",
      " 13  Date_of_Surgery     317 non-null    object \n",
      " 14  Date_of_Last_Visit  317 non-null    object \n",
      " 15  Patient_Status      317 non-null    object \n",
      "dtypes: float64(5), object(11)\n",
      "memory usage: 42.1+ KB\n"
     ]
    }
   ],
   "source": [
    "data.info() #checking the data info to know if there are still null values"
   ]
  },
  {
   "cell_type": "code",
   "execution_count": 12,
   "id": "3e808b3e",
   "metadata": {
    "execution": {
     "iopub.execute_input": "2022-08-25T13:05:19.641231Z",
     "iopub.status.busy": "2022-08-25T13:05:19.640560Z",
     "iopub.status.idle": "2022-08-25T13:05:19.677499Z",
     "shell.execute_reply": "2022-08-25T13:05:19.676097Z"
    },
    "papermill": {
     "duration": 0.055146,
     "end_time": "2022-08-25T13:05:19.679924",
     "exception": false,
     "start_time": "2022-08-25T13:05:19.624778",
     "status": "completed"
    },
    "tags": []
   },
   "outputs": [
    {
     "name": "stdout",
     "output_type": "stream",
     "text": [
      "0      False\n",
      "1      False\n",
      "2      False\n",
      "3      False\n",
      "4      False\n",
      "       ...  \n",
      "329    False\n",
      "330    False\n",
      "331    False\n",
      "332    False\n",
      "333    False\n",
      "Length: 317, dtype: bool\n"
     ]
    },
    {
     "data": {
      "text/html": [
       "<div>\n",
       "<style scoped>\n",
       "    .dataframe tbody tr th:only-of-type {\n",
       "        vertical-align: middle;\n",
       "    }\n",
       "\n",
       "    .dataframe tbody tr th {\n",
       "        vertical-align: top;\n",
       "    }\n",
       "\n",
       "    .dataframe thead th {\n",
       "        text-align: right;\n",
       "    }\n",
       "</style>\n",
       "<table border=\"1\" class=\"dataframe\">\n",
       "  <thead>\n",
       "    <tr style=\"text-align: right;\">\n",
       "      <th></th>\n",
       "      <th>Patient_ID</th>\n",
       "      <th>Age</th>\n",
       "      <th>Gender</th>\n",
       "      <th>Protein1</th>\n",
       "      <th>Protein2</th>\n",
       "      <th>Protein3</th>\n",
       "      <th>Protein4</th>\n",
       "      <th>Tumour_Stage</th>\n",
       "      <th>Histology</th>\n",
       "      <th>ER status</th>\n",
       "      <th>PR status</th>\n",
       "      <th>HER2 status</th>\n",
       "      <th>Surgery_type</th>\n",
       "      <th>Date_of_Surgery</th>\n",
       "      <th>Date_of_Last_Visit</th>\n",
       "      <th>Patient_Status</th>\n",
       "    </tr>\n",
       "  </thead>\n",
       "  <tbody>\n",
       "    <tr>\n",
       "      <th>0</th>\n",
       "      <td>TCGA-D8-A1XD</td>\n",
       "      <td>36.0</td>\n",
       "      <td>FEMALE</td>\n",
       "      <td>0.080353</td>\n",
       "      <td>0.42638</td>\n",
       "      <td>0.54715</td>\n",
       "      <td>0.273680</td>\n",
       "      <td>III</td>\n",
       "      <td>Infiltrating Ductal Carcinoma</td>\n",
       "      <td>Positive</td>\n",
       "      <td>Positive</td>\n",
       "      <td>Negative</td>\n",
       "      <td>Modified Radical Mastectomy</td>\n",
       "      <td>15-Jan-17</td>\n",
       "      <td>19-Jun-17</td>\n",
       "      <td>Alive</td>\n",
       "    </tr>\n",
       "    <tr>\n",
       "      <th>1</th>\n",
       "      <td>TCGA-EW-A1OX</td>\n",
       "      <td>43.0</td>\n",
       "      <td>FEMALE</td>\n",
       "      <td>-0.420320</td>\n",
       "      <td>0.57807</td>\n",
       "      <td>0.61447</td>\n",
       "      <td>-0.031505</td>\n",
       "      <td>II</td>\n",
       "      <td>Mucinous Carcinoma</td>\n",
       "      <td>Positive</td>\n",
       "      <td>Positive</td>\n",
       "      <td>Negative</td>\n",
       "      <td>Lumpectomy</td>\n",
       "      <td>26-Apr-17</td>\n",
       "      <td>09-Nov-18</td>\n",
       "      <td>Dead</td>\n",
       "    </tr>\n",
       "    <tr>\n",
       "      <th>2</th>\n",
       "      <td>TCGA-A8-A079</td>\n",
       "      <td>69.0</td>\n",
       "      <td>FEMALE</td>\n",
       "      <td>0.213980</td>\n",
       "      <td>1.31140</td>\n",
       "      <td>-0.32747</td>\n",
       "      <td>-0.234260</td>\n",
       "      <td>III</td>\n",
       "      <td>Infiltrating Ductal Carcinoma</td>\n",
       "      <td>Positive</td>\n",
       "      <td>Positive</td>\n",
       "      <td>Negative</td>\n",
       "      <td>Other</td>\n",
       "      <td>08-Sep-17</td>\n",
       "      <td>09-Jun-18</td>\n",
       "      <td>Alive</td>\n",
       "    </tr>\n",
       "    <tr>\n",
       "      <th>3</th>\n",
       "      <td>TCGA-D8-A1XR</td>\n",
       "      <td>56.0</td>\n",
       "      <td>FEMALE</td>\n",
       "      <td>0.345090</td>\n",
       "      <td>-0.21147</td>\n",
       "      <td>-0.19304</td>\n",
       "      <td>0.124270</td>\n",
       "      <td>II</td>\n",
       "      <td>Infiltrating Ductal Carcinoma</td>\n",
       "      <td>Positive</td>\n",
       "      <td>Positive</td>\n",
       "      <td>Negative</td>\n",
       "      <td>Modified Radical Mastectomy</td>\n",
       "      <td>25-Jan-17</td>\n",
       "      <td>12-Jul-17</td>\n",
       "      <td>Alive</td>\n",
       "    </tr>\n",
       "    <tr>\n",
       "      <th>4</th>\n",
       "      <td>TCGA-BH-A0BF</td>\n",
       "      <td>56.0</td>\n",
       "      <td>FEMALE</td>\n",
       "      <td>0.221550</td>\n",
       "      <td>1.90680</td>\n",
       "      <td>0.52045</td>\n",
       "      <td>-0.311990</td>\n",
       "      <td>II</td>\n",
       "      <td>Infiltrating Ductal Carcinoma</td>\n",
       "      <td>Positive</td>\n",
       "      <td>Positive</td>\n",
       "      <td>Negative</td>\n",
       "      <td>Other</td>\n",
       "      <td>06-May-17</td>\n",
       "      <td>27-Jun-19</td>\n",
       "      <td>Dead</td>\n",
       "    </tr>\n",
       "    <tr>\n",
       "      <th>...</th>\n",
       "      <td>...</td>\n",
       "      <td>...</td>\n",
       "      <td>...</td>\n",
       "      <td>...</td>\n",
       "      <td>...</td>\n",
       "      <td>...</td>\n",
       "      <td>...</td>\n",
       "      <td>...</td>\n",
       "      <td>...</td>\n",
       "      <td>...</td>\n",
       "      <td>...</td>\n",
       "      <td>...</td>\n",
       "      <td>...</td>\n",
       "      <td>...</td>\n",
       "      <td>...</td>\n",
       "      <td>...</td>\n",
       "    </tr>\n",
       "    <tr>\n",
       "      <th>329</th>\n",
       "      <td>TCGA-AN-A04A</td>\n",
       "      <td>36.0</td>\n",
       "      <td>FEMALE</td>\n",
       "      <td>0.231800</td>\n",
       "      <td>0.61804</td>\n",
       "      <td>-0.55779</td>\n",
       "      <td>-0.517350</td>\n",
       "      <td>III</td>\n",
       "      <td>Infiltrating Ductal Carcinoma</td>\n",
       "      <td>Positive</td>\n",
       "      <td>Positive</td>\n",
       "      <td>Positive</td>\n",
       "      <td>Simple Mastectomy</td>\n",
       "      <td>11-Nov-19</td>\n",
       "      <td>09-Feb-20</td>\n",
       "      <td>Dead</td>\n",
       "    </tr>\n",
       "    <tr>\n",
       "      <th>330</th>\n",
       "      <td>TCGA-A8-A085</td>\n",
       "      <td>44.0</td>\n",
       "      <td>MALE</td>\n",
       "      <td>0.732720</td>\n",
       "      <td>1.11170</td>\n",
       "      <td>-0.26952</td>\n",
       "      <td>-0.354920</td>\n",
       "      <td>II</td>\n",
       "      <td>Infiltrating Lobular Carcinoma</td>\n",
       "      <td>Positive</td>\n",
       "      <td>Positive</td>\n",
       "      <td>Negative</td>\n",
       "      <td>Other</td>\n",
       "      <td>01-Nov-19</td>\n",
       "      <td>04-Mar-20</td>\n",
       "      <td>Dead</td>\n",
       "    </tr>\n",
       "    <tr>\n",
       "      <th>331</th>\n",
       "      <td>TCGA-A1-A0SG</td>\n",
       "      <td>61.0</td>\n",
       "      <td>FEMALE</td>\n",
       "      <td>-0.719470</td>\n",
       "      <td>2.54850</td>\n",
       "      <td>-0.15024</td>\n",
       "      <td>0.339680</td>\n",
       "      <td>II</td>\n",
       "      <td>Infiltrating Ductal Carcinoma</td>\n",
       "      <td>Positive</td>\n",
       "      <td>Positive</td>\n",
       "      <td>Negative</td>\n",
       "      <td>Lumpectomy</td>\n",
       "      <td>11-Nov-19</td>\n",
       "      <td>18-Jan-21</td>\n",
       "      <td>Dead</td>\n",
       "    </tr>\n",
       "    <tr>\n",
       "      <th>332</th>\n",
       "      <td>TCGA-A2-A0EU</td>\n",
       "      <td>79.0</td>\n",
       "      <td>FEMALE</td>\n",
       "      <td>0.479400</td>\n",
       "      <td>2.05590</td>\n",
       "      <td>-0.53136</td>\n",
       "      <td>-0.188480</td>\n",
       "      <td>I</td>\n",
       "      <td>Infiltrating Ductal Carcinoma</td>\n",
       "      <td>Positive</td>\n",
       "      <td>Positive</td>\n",
       "      <td>Positive</td>\n",
       "      <td>Lumpectomy</td>\n",
       "      <td>21-Nov-19</td>\n",
       "      <td>19-Feb-21</td>\n",
       "      <td>Dead</td>\n",
       "    </tr>\n",
       "    <tr>\n",
       "      <th>333</th>\n",
       "      <td>TCGA-B6-A40B</td>\n",
       "      <td>76.0</td>\n",
       "      <td>FEMALE</td>\n",
       "      <td>-0.244270</td>\n",
       "      <td>0.92556</td>\n",
       "      <td>-0.41823</td>\n",
       "      <td>-0.067848</td>\n",
       "      <td>I</td>\n",
       "      <td>Infiltrating Ductal Carcinoma</td>\n",
       "      <td>Positive</td>\n",
       "      <td>Positive</td>\n",
       "      <td>Negative</td>\n",
       "      <td>Lumpectomy</td>\n",
       "      <td>11-Nov-19</td>\n",
       "      <td>05-Jan-21</td>\n",
       "      <td>Dead</td>\n",
       "    </tr>\n",
       "  </tbody>\n",
       "</table>\n",
       "<p>317 rows × 16 columns</p>\n",
       "</div>"
      ],
      "text/plain": [
       "       Patient_ID   Age  Gender  Protein1  Protein2  Protein3  Protein4  \\\n",
       "0    TCGA-D8-A1XD  36.0  FEMALE  0.080353   0.42638   0.54715  0.273680   \n",
       "1    TCGA-EW-A1OX  43.0  FEMALE -0.420320   0.57807   0.61447 -0.031505   \n",
       "2    TCGA-A8-A079  69.0  FEMALE  0.213980   1.31140  -0.32747 -0.234260   \n",
       "3    TCGA-D8-A1XR  56.0  FEMALE  0.345090  -0.21147  -0.19304  0.124270   \n",
       "4    TCGA-BH-A0BF  56.0  FEMALE  0.221550   1.90680   0.52045 -0.311990   \n",
       "..            ...   ...     ...       ...       ...       ...       ...   \n",
       "329  TCGA-AN-A04A  36.0  FEMALE  0.231800   0.61804  -0.55779 -0.517350   \n",
       "330  TCGA-A8-A085  44.0    MALE  0.732720   1.11170  -0.26952 -0.354920   \n",
       "331  TCGA-A1-A0SG  61.0  FEMALE -0.719470   2.54850  -0.15024  0.339680   \n",
       "332  TCGA-A2-A0EU  79.0  FEMALE  0.479400   2.05590  -0.53136 -0.188480   \n",
       "333  TCGA-B6-A40B  76.0  FEMALE -0.244270   0.92556  -0.41823 -0.067848   \n",
       "\n",
       "    Tumour_Stage                       Histology ER status PR status  \\\n",
       "0            III   Infiltrating Ductal Carcinoma  Positive  Positive   \n",
       "1             II              Mucinous Carcinoma  Positive  Positive   \n",
       "2            III   Infiltrating Ductal Carcinoma  Positive  Positive   \n",
       "3             II   Infiltrating Ductal Carcinoma  Positive  Positive   \n",
       "4             II   Infiltrating Ductal Carcinoma  Positive  Positive   \n",
       "..           ...                             ...       ...       ...   \n",
       "329          III   Infiltrating Ductal Carcinoma  Positive  Positive   \n",
       "330           II  Infiltrating Lobular Carcinoma  Positive  Positive   \n",
       "331           II   Infiltrating Ductal Carcinoma  Positive  Positive   \n",
       "332            I   Infiltrating Ductal Carcinoma  Positive  Positive   \n",
       "333            I   Infiltrating Ductal Carcinoma  Positive  Positive   \n",
       "\n",
       "    HER2 status                 Surgery_type Date_of_Surgery  \\\n",
       "0      Negative  Modified Radical Mastectomy       15-Jan-17   \n",
       "1      Negative                   Lumpectomy       26-Apr-17   \n",
       "2      Negative                        Other       08-Sep-17   \n",
       "3      Negative  Modified Radical Mastectomy       25-Jan-17   \n",
       "4      Negative                        Other       06-May-17   \n",
       "..          ...                          ...             ...   \n",
       "329    Positive            Simple Mastectomy       11-Nov-19   \n",
       "330    Negative                        Other       01-Nov-19   \n",
       "331    Negative                   Lumpectomy       11-Nov-19   \n",
       "332    Positive                   Lumpectomy       21-Nov-19   \n",
       "333    Negative                   Lumpectomy       11-Nov-19   \n",
       "\n",
       "    Date_of_Last_Visit Patient_Status  \n",
       "0            19-Jun-17          Alive  \n",
       "1            09-Nov-18           Dead  \n",
       "2            09-Jun-18          Alive  \n",
       "3            12-Jul-17          Alive  \n",
       "4            27-Jun-19           Dead  \n",
       "..                 ...            ...  \n",
       "329          09-Feb-20           Dead  \n",
       "330          04-Mar-20           Dead  \n",
       "331          18-Jan-21           Dead  \n",
       "332          19-Feb-21           Dead  \n",
       "333          05-Jan-21           Dead  \n",
       "\n",
       "[317 rows x 16 columns]"
      ]
     },
     "execution_count": 12,
     "metadata": {},
     "output_type": "execute_result"
    }
   ],
   "source": [
    "print(data.duplicated()) #To check for duplicates in the data\n",
    "data"
   ]
  },
  {
   "cell_type": "code",
   "execution_count": 13,
   "id": "4a76e739",
   "metadata": {
    "execution": {
     "iopub.execute_input": "2022-08-25T13:05:19.711410Z",
     "iopub.status.busy": "2022-08-25T13:05:19.711001Z",
     "iopub.status.idle": "2022-08-25T13:05:19.739565Z",
     "shell.execute_reply": "2022-08-25T13:05:19.738364Z"
    },
    "papermill": {
     "duration": 0.04714,
     "end_time": "2022-08-25T13:05:19.741954",
     "exception": false,
     "start_time": "2022-08-25T13:05:19.694814",
     "status": "completed"
    },
    "tags": []
   },
   "outputs": [
    {
     "data": {
      "text/html": [
       "<div>\n",
       "<style scoped>\n",
       "    .dataframe tbody tr th:only-of-type {\n",
       "        vertical-align: middle;\n",
       "    }\n",
       "\n",
       "    .dataframe tbody tr th {\n",
       "        vertical-align: top;\n",
       "    }\n",
       "\n",
       "    .dataframe thead th {\n",
       "        text-align: right;\n",
       "    }\n",
       "</style>\n",
       "<table border=\"1\" class=\"dataframe\">\n",
       "  <thead>\n",
       "    <tr style=\"text-align: right;\">\n",
       "      <th></th>\n",
       "      <th>Patient_ID</th>\n",
       "      <th>Age</th>\n",
       "      <th>Gender</th>\n",
       "      <th>Protein1</th>\n",
       "      <th>Protein2</th>\n",
       "      <th>Protein3</th>\n",
       "      <th>Protein4</th>\n",
       "      <th>Tumour_Stage</th>\n",
       "      <th>Histology</th>\n",
       "      <th>ER status</th>\n",
       "      <th>PR status</th>\n",
       "      <th>HER2 status</th>\n",
       "      <th>Surgery_type</th>\n",
       "      <th>Patient_Status</th>\n",
       "    </tr>\n",
       "  </thead>\n",
       "  <tbody>\n",
       "    <tr>\n",
       "      <th>0</th>\n",
       "      <td>TCGA-D8-A1XD</td>\n",
       "      <td>36.0</td>\n",
       "      <td>FEMALE</td>\n",
       "      <td>0.080353</td>\n",
       "      <td>0.42638</td>\n",
       "      <td>0.54715</td>\n",
       "      <td>0.273680</td>\n",
       "      <td>III</td>\n",
       "      <td>Infiltrating Ductal Carcinoma</td>\n",
       "      <td>Positive</td>\n",
       "      <td>Positive</td>\n",
       "      <td>Negative</td>\n",
       "      <td>Modified Radical Mastectomy</td>\n",
       "      <td>Alive</td>\n",
       "    </tr>\n",
       "    <tr>\n",
       "      <th>1</th>\n",
       "      <td>TCGA-EW-A1OX</td>\n",
       "      <td>43.0</td>\n",
       "      <td>FEMALE</td>\n",
       "      <td>-0.420320</td>\n",
       "      <td>0.57807</td>\n",
       "      <td>0.61447</td>\n",
       "      <td>-0.031505</td>\n",
       "      <td>II</td>\n",
       "      <td>Mucinous Carcinoma</td>\n",
       "      <td>Positive</td>\n",
       "      <td>Positive</td>\n",
       "      <td>Negative</td>\n",
       "      <td>Lumpectomy</td>\n",
       "      <td>Dead</td>\n",
       "    </tr>\n",
       "    <tr>\n",
       "      <th>2</th>\n",
       "      <td>TCGA-A8-A079</td>\n",
       "      <td>69.0</td>\n",
       "      <td>FEMALE</td>\n",
       "      <td>0.213980</td>\n",
       "      <td>1.31140</td>\n",
       "      <td>-0.32747</td>\n",
       "      <td>-0.234260</td>\n",
       "      <td>III</td>\n",
       "      <td>Infiltrating Ductal Carcinoma</td>\n",
       "      <td>Positive</td>\n",
       "      <td>Positive</td>\n",
       "      <td>Negative</td>\n",
       "      <td>Other</td>\n",
       "      <td>Alive</td>\n",
       "    </tr>\n",
       "    <tr>\n",
       "      <th>3</th>\n",
       "      <td>TCGA-D8-A1XR</td>\n",
       "      <td>56.0</td>\n",
       "      <td>FEMALE</td>\n",
       "      <td>0.345090</td>\n",
       "      <td>-0.21147</td>\n",
       "      <td>-0.19304</td>\n",
       "      <td>0.124270</td>\n",
       "      <td>II</td>\n",
       "      <td>Infiltrating Ductal Carcinoma</td>\n",
       "      <td>Positive</td>\n",
       "      <td>Positive</td>\n",
       "      <td>Negative</td>\n",
       "      <td>Modified Radical Mastectomy</td>\n",
       "      <td>Alive</td>\n",
       "    </tr>\n",
       "    <tr>\n",
       "      <th>4</th>\n",
       "      <td>TCGA-BH-A0BF</td>\n",
       "      <td>56.0</td>\n",
       "      <td>FEMALE</td>\n",
       "      <td>0.221550</td>\n",
       "      <td>1.90680</td>\n",
       "      <td>0.52045</td>\n",
       "      <td>-0.311990</td>\n",
       "      <td>II</td>\n",
       "      <td>Infiltrating Ductal Carcinoma</td>\n",
       "      <td>Positive</td>\n",
       "      <td>Positive</td>\n",
       "      <td>Negative</td>\n",
       "      <td>Other</td>\n",
       "      <td>Dead</td>\n",
       "    </tr>\n",
       "    <tr>\n",
       "      <th>...</th>\n",
       "      <td>...</td>\n",
       "      <td>...</td>\n",
       "      <td>...</td>\n",
       "      <td>...</td>\n",
       "      <td>...</td>\n",
       "      <td>...</td>\n",
       "      <td>...</td>\n",
       "      <td>...</td>\n",
       "      <td>...</td>\n",
       "      <td>...</td>\n",
       "      <td>...</td>\n",
       "      <td>...</td>\n",
       "      <td>...</td>\n",
       "      <td>...</td>\n",
       "    </tr>\n",
       "    <tr>\n",
       "      <th>329</th>\n",
       "      <td>TCGA-AN-A04A</td>\n",
       "      <td>36.0</td>\n",
       "      <td>FEMALE</td>\n",
       "      <td>0.231800</td>\n",
       "      <td>0.61804</td>\n",
       "      <td>-0.55779</td>\n",
       "      <td>-0.517350</td>\n",
       "      <td>III</td>\n",
       "      <td>Infiltrating Ductal Carcinoma</td>\n",
       "      <td>Positive</td>\n",
       "      <td>Positive</td>\n",
       "      <td>Positive</td>\n",
       "      <td>Simple Mastectomy</td>\n",
       "      <td>Dead</td>\n",
       "    </tr>\n",
       "    <tr>\n",
       "      <th>330</th>\n",
       "      <td>TCGA-A8-A085</td>\n",
       "      <td>44.0</td>\n",
       "      <td>MALE</td>\n",
       "      <td>0.732720</td>\n",
       "      <td>1.11170</td>\n",
       "      <td>-0.26952</td>\n",
       "      <td>-0.354920</td>\n",
       "      <td>II</td>\n",
       "      <td>Infiltrating Lobular Carcinoma</td>\n",
       "      <td>Positive</td>\n",
       "      <td>Positive</td>\n",
       "      <td>Negative</td>\n",
       "      <td>Other</td>\n",
       "      <td>Dead</td>\n",
       "    </tr>\n",
       "    <tr>\n",
       "      <th>331</th>\n",
       "      <td>TCGA-A1-A0SG</td>\n",
       "      <td>61.0</td>\n",
       "      <td>FEMALE</td>\n",
       "      <td>-0.719470</td>\n",
       "      <td>2.54850</td>\n",
       "      <td>-0.15024</td>\n",
       "      <td>0.339680</td>\n",
       "      <td>II</td>\n",
       "      <td>Infiltrating Ductal Carcinoma</td>\n",
       "      <td>Positive</td>\n",
       "      <td>Positive</td>\n",
       "      <td>Negative</td>\n",
       "      <td>Lumpectomy</td>\n",
       "      <td>Dead</td>\n",
       "    </tr>\n",
       "    <tr>\n",
       "      <th>332</th>\n",
       "      <td>TCGA-A2-A0EU</td>\n",
       "      <td>79.0</td>\n",
       "      <td>FEMALE</td>\n",
       "      <td>0.479400</td>\n",
       "      <td>2.05590</td>\n",
       "      <td>-0.53136</td>\n",
       "      <td>-0.188480</td>\n",
       "      <td>I</td>\n",
       "      <td>Infiltrating Ductal Carcinoma</td>\n",
       "      <td>Positive</td>\n",
       "      <td>Positive</td>\n",
       "      <td>Positive</td>\n",
       "      <td>Lumpectomy</td>\n",
       "      <td>Dead</td>\n",
       "    </tr>\n",
       "    <tr>\n",
       "      <th>333</th>\n",
       "      <td>TCGA-B6-A40B</td>\n",
       "      <td>76.0</td>\n",
       "      <td>FEMALE</td>\n",
       "      <td>-0.244270</td>\n",
       "      <td>0.92556</td>\n",
       "      <td>-0.41823</td>\n",
       "      <td>-0.067848</td>\n",
       "      <td>I</td>\n",
       "      <td>Infiltrating Ductal Carcinoma</td>\n",
       "      <td>Positive</td>\n",
       "      <td>Positive</td>\n",
       "      <td>Negative</td>\n",
       "      <td>Lumpectomy</td>\n",
       "      <td>Dead</td>\n",
       "    </tr>\n",
       "  </tbody>\n",
       "</table>\n",
       "<p>317 rows × 14 columns</p>\n",
       "</div>"
      ],
      "text/plain": [
       "       Patient_ID   Age  Gender  Protein1  Protein2  Protein3  Protein4  \\\n",
       "0    TCGA-D8-A1XD  36.0  FEMALE  0.080353   0.42638   0.54715  0.273680   \n",
       "1    TCGA-EW-A1OX  43.0  FEMALE -0.420320   0.57807   0.61447 -0.031505   \n",
       "2    TCGA-A8-A079  69.0  FEMALE  0.213980   1.31140  -0.32747 -0.234260   \n",
       "3    TCGA-D8-A1XR  56.0  FEMALE  0.345090  -0.21147  -0.19304  0.124270   \n",
       "4    TCGA-BH-A0BF  56.0  FEMALE  0.221550   1.90680   0.52045 -0.311990   \n",
       "..            ...   ...     ...       ...       ...       ...       ...   \n",
       "329  TCGA-AN-A04A  36.0  FEMALE  0.231800   0.61804  -0.55779 -0.517350   \n",
       "330  TCGA-A8-A085  44.0    MALE  0.732720   1.11170  -0.26952 -0.354920   \n",
       "331  TCGA-A1-A0SG  61.0  FEMALE -0.719470   2.54850  -0.15024  0.339680   \n",
       "332  TCGA-A2-A0EU  79.0  FEMALE  0.479400   2.05590  -0.53136 -0.188480   \n",
       "333  TCGA-B6-A40B  76.0  FEMALE -0.244270   0.92556  -0.41823 -0.067848   \n",
       "\n",
       "    Tumour_Stage                       Histology ER status PR status  \\\n",
       "0            III   Infiltrating Ductal Carcinoma  Positive  Positive   \n",
       "1             II              Mucinous Carcinoma  Positive  Positive   \n",
       "2            III   Infiltrating Ductal Carcinoma  Positive  Positive   \n",
       "3             II   Infiltrating Ductal Carcinoma  Positive  Positive   \n",
       "4             II   Infiltrating Ductal Carcinoma  Positive  Positive   \n",
       "..           ...                             ...       ...       ...   \n",
       "329          III   Infiltrating Ductal Carcinoma  Positive  Positive   \n",
       "330           II  Infiltrating Lobular Carcinoma  Positive  Positive   \n",
       "331           II   Infiltrating Ductal Carcinoma  Positive  Positive   \n",
       "332            I   Infiltrating Ductal Carcinoma  Positive  Positive   \n",
       "333            I   Infiltrating Ductal Carcinoma  Positive  Positive   \n",
       "\n",
       "    HER2 status                 Surgery_type Patient_Status  \n",
       "0      Negative  Modified Radical Mastectomy          Alive  \n",
       "1      Negative                   Lumpectomy           Dead  \n",
       "2      Negative                        Other          Alive  \n",
       "3      Negative  Modified Radical Mastectomy          Alive  \n",
       "4      Negative                        Other           Dead  \n",
       "..          ...                          ...            ...  \n",
       "329    Positive            Simple Mastectomy           Dead  \n",
       "330    Negative                        Other           Dead  \n",
       "331    Negative                   Lumpectomy           Dead  \n",
       "332    Positive                   Lumpectomy           Dead  \n",
       "333    Negative                   Lumpectomy           Dead  \n",
       "\n",
       "[317 rows x 14 columns]"
      ]
     },
     "execution_count": 13,
     "metadata": {},
     "output_type": "execute_result"
    }
   ],
   "source": [
    "data.drop(columns = [ \"Date_of_Surgery\",\"Date_of_Last_Visit\"], inplace = True)\n",
    "data #to drop the features that are not needed."
   ]
  },
  {
   "cell_type": "code",
   "execution_count": 14,
   "id": "b112588c",
   "metadata": {
    "execution": {
     "iopub.execute_input": "2022-08-25T13:05:19.775557Z",
     "iopub.status.busy": "2022-08-25T13:05:19.775182Z",
     "iopub.status.idle": "2022-08-25T13:05:19.782266Z",
     "shell.execute_reply": "2022-08-25T13:05:19.781114Z"
    },
    "papermill": {
     "duration": 0.026976,
     "end_time": "2022-08-25T13:05:19.784612",
     "exception": false,
     "start_time": "2022-08-25T13:05:19.757636",
     "status": "completed"
    },
    "tags": []
   },
   "outputs": [
    {
     "data": {
      "text/plain": [
       "(317, 14)"
      ]
     },
     "execution_count": 14,
     "metadata": {},
     "output_type": "execute_result"
    }
   ],
   "source": [
    "data.shape #to check the new shape after dropping na/null rows, null values and columns not needed"
   ]
  },
  {
   "cell_type": "markdown",
   "id": "678df325",
   "metadata": {
    "papermill": {
     "duration": 0.016882,
     "end_time": "2022-08-25T13:05:19.820948",
     "exception": false,
     "start_time": "2022-08-25T13:05:19.804066",
     "status": "completed"
    },
    "tags": []
   },
   "source": [
    "## Data Exploration"
   ]
  },
  {
   "cell_type": "code",
   "execution_count": 15,
   "id": "c3805930",
   "metadata": {
    "execution": {
     "iopub.execute_input": "2022-08-25T13:05:19.854130Z",
     "iopub.status.busy": "2022-08-25T13:05:19.853441Z",
     "iopub.status.idle": "2022-08-25T13:05:19.861279Z",
     "shell.execute_reply": "2022-08-25T13:05:19.860421Z"
    },
    "papermill": {
     "duration": 0.027004,
     "end_time": "2022-08-25T13:05:19.864120",
     "exception": false,
     "start_time": "2022-08-25T13:05:19.837116",
     "status": "completed"
    },
    "tags": []
   },
   "outputs": [
    {
     "data": {
      "text/plain": [
       "Patient_ID         object\n",
       "Age               float64\n",
       "Gender             object\n",
       "Protein1          float64\n",
       "Protein2          float64\n",
       "Protein3          float64\n",
       "Protein4          float64\n",
       "Tumour_Stage       object\n",
       "Histology          object\n",
       "ER status          object\n",
       "PR status          object\n",
       "HER2 status        object\n",
       "Surgery_type       object\n",
       "Patient_Status     object\n",
       "dtype: object"
      ]
     },
     "execution_count": 15,
     "metadata": {},
     "output_type": "execute_result"
    }
   ],
   "source": [
    "data.dtypes # to check the data types"
   ]
  },
  {
   "cell_type": "code",
   "execution_count": 16,
   "id": "0577ac18",
   "metadata": {
    "execution": {
     "iopub.execute_input": "2022-08-25T13:05:19.904855Z",
     "iopub.status.busy": "2022-08-25T13:05:19.904443Z",
     "iopub.status.idle": "2022-08-25T13:05:19.936310Z",
     "shell.execute_reply": "2022-08-25T13:05:19.935136Z"
    },
    "papermill": {
     "duration": 0.054996,
     "end_time": "2022-08-25T13:05:19.939532",
     "exception": false,
     "start_time": "2022-08-25T13:05:19.884536",
     "status": "completed"
    },
    "tags": []
   },
   "outputs": [
    {
     "data": {
      "text/html": [
       "<div>\n",
       "<style scoped>\n",
       "    .dataframe tbody tr th:only-of-type {\n",
       "        vertical-align: middle;\n",
       "    }\n",
       "\n",
       "    .dataframe tbody tr th {\n",
       "        vertical-align: top;\n",
       "    }\n",
       "\n",
       "    .dataframe thead th {\n",
       "        text-align: right;\n",
       "    }\n",
       "</style>\n",
       "<table border=\"1\" class=\"dataframe\">\n",
       "  <thead>\n",
       "    <tr style=\"text-align: right;\">\n",
       "      <th></th>\n",
       "      <th>count</th>\n",
       "      <th>mean</th>\n",
       "      <th>std</th>\n",
       "      <th>min</th>\n",
       "      <th>25%</th>\n",
       "      <th>50%</th>\n",
       "      <th>75%</th>\n",
       "      <th>max</th>\n",
       "    </tr>\n",
       "  </thead>\n",
       "  <tbody>\n",
       "    <tr>\n",
       "      <th>Age</th>\n",
       "      <td>317.0</td>\n",
       "      <td>58.725552</td>\n",
       "      <td>12.827374</td>\n",
       "      <td>29.00000</td>\n",
       "      <td>49.00000</td>\n",
       "      <td>58.000000</td>\n",
       "      <td>67.00000</td>\n",
       "      <td>90.0000</td>\n",
       "    </tr>\n",
       "    <tr>\n",
       "      <th>Protein1</th>\n",
       "      <td>317.0</td>\n",
       "      <td>-0.027232</td>\n",
       "      <td>0.543858</td>\n",
       "      <td>-2.14460</td>\n",
       "      <td>-0.35060</td>\n",
       "      <td>0.005649</td>\n",
       "      <td>0.33626</td>\n",
       "      <td>1.5936</td>\n",
       "    </tr>\n",
       "    <tr>\n",
       "      <th>Protein2</th>\n",
       "      <td>317.0</td>\n",
       "      <td>0.949557</td>\n",
       "      <td>0.906153</td>\n",
       "      <td>-0.97873</td>\n",
       "      <td>0.36884</td>\n",
       "      <td>0.997130</td>\n",
       "      <td>1.61200</td>\n",
       "      <td>3.4022</td>\n",
       "    </tr>\n",
       "    <tr>\n",
       "      <th>Protein3</th>\n",
       "      <td>317.0</td>\n",
       "      <td>-0.095104</td>\n",
       "      <td>0.589027</td>\n",
       "      <td>-1.62740</td>\n",
       "      <td>-0.53136</td>\n",
       "      <td>-0.193040</td>\n",
       "      <td>0.25121</td>\n",
       "      <td>2.1934</td>\n",
       "    </tr>\n",
       "    <tr>\n",
       "      <th>Protein4</th>\n",
       "      <td>317.0</td>\n",
       "      <td>0.006713</td>\n",
       "      <td>0.625965</td>\n",
       "      <td>-2.02550</td>\n",
       "      <td>-0.38224</td>\n",
       "      <td>0.038522</td>\n",
       "      <td>0.43625</td>\n",
       "      <td>1.6299</td>\n",
       "    </tr>\n",
       "  </tbody>\n",
       "</table>\n",
       "</div>"
      ],
      "text/plain": [
       "          count       mean        std       min       25%        50%  \\\n",
       "Age       317.0  58.725552  12.827374  29.00000  49.00000  58.000000   \n",
       "Protein1  317.0  -0.027232   0.543858  -2.14460  -0.35060   0.005649   \n",
       "Protein2  317.0   0.949557   0.906153  -0.97873   0.36884   0.997130   \n",
       "Protein3  317.0  -0.095104   0.589027  -1.62740  -0.53136  -0.193040   \n",
       "Protein4  317.0   0.006713   0.625965  -2.02550  -0.38224   0.038522   \n",
       "\n",
       "               75%      max  \n",
       "Age       67.00000  90.0000  \n",
       "Protein1   0.33626   1.5936  \n",
       "Protein2   1.61200   3.4022  \n",
       "Protein3   0.25121   2.1934  \n",
       "Protein4   0.43625   1.6299  "
      ]
     },
     "execution_count": 16,
     "metadata": {},
     "output_type": "execute_result"
    }
   ],
   "source": [
    "data.describe().T #for statistical description"
   ]
  },
  {
   "cell_type": "code",
   "execution_count": 17,
   "id": "a7777ca4",
   "metadata": {
    "execution": {
     "iopub.execute_input": "2022-08-25T13:05:19.973279Z",
     "iopub.status.busy": "2022-08-25T13:05:19.972824Z",
     "iopub.status.idle": "2022-08-25T13:05:19.981815Z",
     "shell.execute_reply": "2022-08-25T13:05:19.980959Z"
    },
    "papermill": {
     "duration": 0.028649,
     "end_time": "2022-08-25T13:05:19.984336",
     "exception": false,
     "start_time": "2022-08-25T13:05:19.955687",
     "status": "completed"
    },
    "tags": []
   },
   "outputs": [
    {
     "data": {
      "text/plain": [
       "count        317\n",
       "unique         2\n",
       "top       FEMALE\n",
       "freq         313\n",
       "Name: Gender, dtype: object"
      ]
     },
     "execution_count": 17,
     "metadata": {},
     "output_type": "execute_result"
    }
   ],
   "source": [
    "data.Gender.describe()"
   ]
  },
  {
   "cell_type": "code",
   "execution_count": 18,
   "id": "ab212672",
   "metadata": {
    "execution": {
     "iopub.execute_input": "2022-08-25T13:05:20.017779Z",
     "iopub.status.busy": "2022-08-25T13:05:20.017398Z",
     "iopub.status.idle": "2022-08-25T13:05:20.266738Z",
     "shell.execute_reply": "2022-08-25T13:05:20.265122Z"
    },
    "papermill": {
     "duration": 0.270517,
     "end_time": "2022-08-25T13:05:20.270666",
     "exception": false,
     "start_time": "2022-08-25T13:05:20.000149",
     "status": "completed"
    },
    "tags": []
   },
   "outputs": [
    {
     "data": {
      "image/png": "[encoded data removed]",
      "text/plain": [
       "<Figure size 432x288 with 1 Axes>"
      ]
     },
     "metadata": {},
     "output_type": "display_data"
    }
   ],
   "source": [
    "data.Gender.value_counts().plot(kind='pie',title='Gender',legend=True,autopct='%1.1f%%', explode=[0,0.5])\n",
    "plt.show()"
   ]
  },
  {
   "cell_type": "code",
   "execution_count": 19,
   "id": "e5924445",
   "metadata": {
    "execution": {
     "iopub.execute_input": "2022-08-25T13:05:20.318779Z",
     "iopub.status.busy": "2022-08-25T13:05:20.317610Z",
     "iopub.status.idle": "2022-08-25T13:05:20.326461Z",
     "shell.execute_reply": "2022-08-25T13:05:20.325648Z"
    },
    "papermill": {
     "duration": 0.03168,
     "end_time": "2022-08-25T13:05:20.328476",
     "exception": false,
     "start_time": "2022-08-25T13:05:20.296796",
     "status": "completed"
    },
    "tags": []
   },
   "outputs": [
    {
     "data": {
      "text/plain": [
       "count     317\n",
       "unique      3\n",
       "top        II\n",
       "freq      180\n",
       "Name: Tumour_Stage, dtype: object"
      ]
     },
     "execution_count": 19,
     "metadata": {},
     "output_type": "execute_result"
    }
   ],
   "source": [
    "data[\"Tumour_Stage\"].describe()"
   ]
  },
  {
   "cell_type": "code",
   "execution_count": 20,
   "id": "c56d27cd",
   "metadata": {
    "execution": {
     "iopub.execute_input": "2022-08-25T13:05:20.363311Z",
     "iopub.status.busy": "2022-08-25T13:05:20.362380Z",
     "iopub.status.idle": "2022-08-25T13:05:20.370739Z",
     "shell.execute_reply": "2022-08-25T13:05:20.369865Z"
    },
    "papermill": {
     "duration": 0.028129,
     "end_time": "2022-08-25T13:05:20.372803",
     "exception": false,
     "start_time": "2022-08-25T13:05:20.344674",
     "status": "completed"
    },
    "tags": []
   },
   "outputs": [
    {
     "data": {
      "text/plain": [
       "II     180\n",
       "III     77\n",
       "I       60\n",
       "Name: Tumour_Stage, dtype: int64"
      ]
     },
     "execution_count": 20,
     "metadata": {},
     "output_type": "execute_result"
    }
   ],
   "source": [
    "data[\"Tumour_Stage\"].value_counts()\n"
   ]
  },
  {
   "cell_type": "code",
   "execution_count": 21,
   "id": "93f2b757",
   "metadata": {
    "execution": {
     "iopub.execute_input": "2022-08-25T13:05:20.408139Z",
     "iopub.status.busy": "2022-08-25T13:05:20.407410Z",
     "iopub.status.idle": "2022-08-25T13:05:20.581479Z",
     "shell.execute_reply": "2022-08-25T13:05:20.579902Z"
    },
    "papermill": {
     "duration": 0.195556,
     "end_time": "2022-08-25T13:05:20.585028",
     "exception": false,
     "start_time": "2022-08-25T13:05:20.389472",
     "status": "completed"
    },
    "tags": []
   },
   "outputs": [
    {
     "data": {
      "image/png": "[encoded data removed]",
      "text/plain": [
       "<Figure size 432x288 with 1 Axes>"
      ]
     },
     "metadata": {},
     "output_type": "display_data"
    }
   ],
   "source": [
    "data['Tumour_Stage'].value_counts().plot(kind='pie',title='Tumour stages of Patients',legend=True,autopct='%1.1f%%')\n",
    "plt.show()"
   ]
  },
  {
   "cell_type": "code",
   "execution_count": 22,
   "id": "745d08f9",
   "metadata": {
    "execution": {
     "iopub.execute_input": "2022-08-25T13:05:20.639872Z",
     "iopub.status.busy": "2022-08-25T13:05:20.639156Z",
     "iopub.status.idle": "2022-08-25T13:05:20.648139Z",
     "shell.execute_reply": "2022-08-25T13:05:20.647203Z"
    },
    "papermill": {
     "duration": 0.037797,
     "end_time": "2022-08-25T13:05:20.650388",
     "exception": false,
     "start_time": "2022-08-25T13:05:20.612591",
     "status": "completed"
    },
    "tags": []
   },
   "outputs": [
    {
     "data": {
      "text/plain": [
       "count                               317\n",
       "unique                                3\n",
       "top       Infiltrating Ductal Carcinoma\n",
       "freq                                224\n",
       "Name: Histology, dtype: object"
      ]
     },
     "execution_count": 22,
     "metadata": {},
     "output_type": "execute_result"
    }
   ],
   "source": [
    "data[\"Histology\"].describe()"
   ]
  },
  {
   "cell_type": "code",
   "execution_count": 23,
   "id": "dc7191b0",
   "metadata": {
    "execution": {
     "iopub.execute_input": "2022-08-25T13:05:20.686754Z",
     "iopub.status.busy": "2022-08-25T13:05:20.686047Z",
     "iopub.status.idle": "2022-08-25T13:05:20.693565Z",
     "shell.execute_reply": "2022-08-25T13:05:20.692755Z"
    },
    "papermill": {
     "duration": 0.027883,
     "end_time": "2022-08-25T13:05:20.695657",
     "exception": false,
     "start_time": "2022-08-25T13:05:20.667774",
     "status": "completed"
    },
    "tags": []
   },
   "outputs": [
    {
     "data": {
      "text/plain": [
       "Infiltrating Ductal Carcinoma     224\n",
       "Infiltrating Lobular Carcinoma     81\n",
       "Mucinous Carcinoma                 12\n",
       "Name: Histology, dtype: int64"
      ]
     },
     "execution_count": 23,
     "metadata": {},
     "output_type": "execute_result"
    }
   ],
   "source": [
    "data['Histology'].value_counts()"
   ]
  },
  {
   "cell_type": "code",
   "execution_count": 24,
   "id": "e45ff230",
   "metadata": {
    "execution": {
     "iopub.execute_input": "2022-08-25T13:05:20.732828Z",
     "iopub.status.busy": "2022-08-25T13:05:20.732119Z",
     "iopub.status.idle": "2022-08-25T13:05:20.941782Z",
     "shell.execute_reply": "2022-08-25T13:05:20.940453Z"
    },
    "papermill": {
     "duration": 0.23379,
     "end_time": "2022-08-25T13:05:20.946918",
     "exception": false,
     "start_time": "2022-08-25T13:05:20.713128",
     "status": "completed"
    },
    "tags": []
   },
   "outputs": [
    {
     "data": {
      "image/png": "[encoded data removed]",
      "text/plain": [
       "<Figure size 432x288 with 1 Axes>"
      ]
     },
     "metadata": {},
     "output_type": "display_data"
    }
   ],
   "source": [
    "data['Histology'].value_counts().plot(kind='pie',title='Histology of Patients',legend=True,autopct='%1.1f%%');"
   ]
  },
  {
   "cell_type": "code",
   "execution_count": 25,
   "id": "566cdd9d",
   "metadata": {
    "execution": {
     "iopub.execute_input": "2022-08-25T13:05:20.998692Z",
     "iopub.status.busy": "2022-08-25T13:05:20.997935Z",
     "iopub.status.idle": "2022-08-25T13:05:21.014974Z",
     "shell.execute_reply": "2022-08-25T13:05:21.012255Z"
    },
    "papermill": {
     "duration": 0.041773,
     "end_time": "2022-08-25T13:05:21.018632",
     "exception": false,
     "start_time": "2022-08-25T13:05:20.976859",
     "status": "completed"
    },
    "tags": []
   },
   "outputs": [
    {
     "data": {
      "text/plain": [
       "count          317\n",
       "unique           1\n",
       "top       Positive\n",
       "freq           317\n",
       "Name: ER status, dtype: object"
      ]
     },
     "execution_count": 25,
     "metadata": {},
     "output_type": "execute_result"
    }
   ],
   "source": [
    "data['ER status'].describe()"
   ]
  },
  {
   "cell_type": "code",
   "execution_count": 26,
   "id": "bc2baccd",
   "metadata": {
    "execution": {
     "iopub.execute_input": "2022-08-25T13:05:21.057738Z",
     "iopub.status.busy": "2022-08-25T13:05:21.057306Z",
     "iopub.status.idle": "2022-08-25T13:05:21.066877Z",
     "shell.execute_reply": "2022-08-25T13:05:21.065859Z"
    },
    "papermill": {
     "duration": 0.032003,
     "end_time": "2022-08-25T13:05:21.069296",
     "exception": false,
     "start_time": "2022-08-25T13:05:21.037293",
     "status": "completed"
    },
    "tags": []
   },
   "outputs": [
    {
     "data": {
      "text/plain": [
       "count          317\n",
       "unique           1\n",
       "top       Positive\n",
       "freq           317\n",
       "Name: PR status, dtype: object"
      ]
     },
     "execution_count": 26,
     "metadata": {},
     "output_type": "execute_result"
    }
   ],
   "source": [
    "data['PR status'].describe()"
   ]
  },
  {
   "cell_type": "code",
   "execution_count": 27,
   "id": "0d092b7f",
   "metadata": {
    "execution": {
     "iopub.execute_input": "2022-08-25T13:05:21.109715Z",
     "iopub.status.busy": "2022-08-25T13:05:21.108646Z",
     "iopub.status.idle": "2022-08-25T13:05:21.119454Z",
     "shell.execute_reply": "2022-08-25T13:05:21.117894Z"
    },
    "papermill": {
     "duration": 0.033839,
     "end_time": "2022-08-25T13:05:21.121839",
     "exception": false,
     "start_time": "2022-08-25T13:05:21.088000",
     "status": "completed"
    },
    "tags": []
   },
   "outputs": [
    {
     "data": {
      "text/plain": [
       "count          317\n",
       "unique           2\n",
       "top       Negative\n",
       "freq           288\n",
       "Name: HER2 status, dtype: object"
      ]
     },
     "execution_count": 27,
     "metadata": {},
     "output_type": "execute_result"
    }
   ],
   "source": [
    "data['HER2 status'].describe()"
   ]
  },
  {
   "cell_type": "code",
   "execution_count": 28,
   "id": "ac73f2e5",
   "metadata": {
    "execution": {
     "iopub.execute_input": "2022-08-25T13:05:21.161907Z",
     "iopub.status.busy": "2022-08-25T13:05:21.161479Z",
     "iopub.status.idle": "2022-08-25T13:05:21.170502Z",
     "shell.execute_reply": "2022-08-25T13:05:21.169315Z"
    },
    "papermill": {
     "duration": 0.03169,
     "end_time": "2022-08-25T13:05:21.172897",
     "exception": false,
     "start_time": "2022-08-25T13:05:21.141207",
     "status": "completed"
    },
    "tags": []
   },
   "outputs": [
    {
     "data": {
      "text/plain": [
       "Negative    288\n",
       "Positive     29\n",
       "Name: HER2 status, dtype: int64"
      ]
     },
     "execution_count": 28,
     "metadata": {},
     "output_type": "execute_result"
    }
   ],
   "source": [
    "data['HER2 status'].value_counts()"
   ]
  },
  {
   "cell_type": "code",
   "execution_count": 29,
   "id": "c43ef494",
   "metadata": {
    "execution": {
     "iopub.execute_input": "2022-08-25T13:05:21.212663Z",
     "iopub.status.busy": "2022-08-25T13:05:21.211896Z",
     "iopub.status.idle": "2022-08-25T13:05:21.221664Z",
     "shell.execute_reply": "2022-08-25T13:05:21.220581Z"
    },
    "papermill": {
     "duration": 0.032071,
     "end_time": "2022-08-25T13:05:21.224026",
     "exception": false,
     "start_time": "2022-08-25T13:05:21.191955",
     "status": "completed"
    },
    "tags": []
   },
   "outputs": [
    {
     "data": {
      "text/plain": [
       "count       317\n",
       "unique        4\n",
       "top       Other\n",
       "freq         97\n",
       "Name: Surgery_type, dtype: object"
      ]
     },
     "execution_count": 29,
     "metadata": {},
     "output_type": "execute_result"
    }
   ],
   "source": [
    "data['Surgery_type'].describe()"
   ]
  },
  {
   "cell_type": "code",
   "execution_count": 30,
   "id": "c606a3cc",
   "metadata": {
    "execution": {
     "iopub.execute_input": "2022-08-25T13:05:21.263775Z",
     "iopub.status.busy": "2022-08-25T13:05:21.263377Z",
     "iopub.status.idle": "2022-08-25T13:05:21.271321Z",
     "shell.execute_reply": "2022-08-25T13:05:21.270456Z"
    },
    "papermill": {
     "duration": 0.030274,
     "end_time": "2022-08-25T13:05:21.273605",
     "exception": false,
     "start_time": "2022-08-25T13:05:21.243331",
     "status": "completed"
    },
    "tags": []
   },
   "outputs": [
    {
     "data": {
      "text/plain": [
       "Other                          97\n",
       "Modified Radical Mastectomy    89\n",
       "Lumpectomy                     66\n",
       "Simple Mastectomy              65\n",
       "Name: Surgery_type, dtype: int64"
      ]
     },
     "execution_count": 30,
     "metadata": {},
     "output_type": "execute_result"
    }
   ],
   "source": [
    "data['Surgery_type'].value_counts()"
   ]
  },
  {
   "cell_type": "code",
   "execution_count": 31,
   "id": "358ee027",
   "metadata": {
    "execution": {
     "iopub.execute_input": "2022-08-25T13:05:21.314068Z",
     "iopub.status.busy": "2022-08-25T13:05:21.312996Z",
     "iopub.status.idle": "2022-08-25T13:05:21.527347Z",
     "shell.execute_reply": "2022-08-25T13:05:21.526082Z"
    },
    "papermill": {
     "duration": 0.238248,
     "end_time": "2022-08-25T13:05:21.530787",
     "exception": false,
     "start_time": "2022-08-25T13:05:21.292539",
     "status": "completed"
    },
    "tags": []
   },
   "outputs": [
    {
     "data": {
      "image/png": "[encoded data removed]",
      "text/plain": [
       "<Figure size 432x288 with 1 Axes>"
      ]
     },
     "metadata": {},
     "output_type": "display_data"
    }
   ],
   "source": [
    "data['Surgery_type'].value_counts().plot(kind='pie',title='Type of Surgery of patients',legend=True,autopct='%1.1f%%');"
   ]
  },
  {
   "cell_type": "code",
   "execution_count": 32,
   "id": "48e35087",
   "metadata": {
    "execution": {
     "iopub.execute_input": "2022-08-25T13:05:21.581151Z",
     "iopub.status.busy": "2022-08-25T13:05:21.580391Z",
     "iopub.status.idle": "2022-08-25T13:05:21.589135Z",
     "shell.execute_reply": "2022-08-25T13:05:21.588232Z"
    },
    "papermill": {
     "duration": 0.032008,
     "end_time": "2022-08-25T13:05:21.591296",
     "exception": false,
     "start_time": "2022-08-25T13:05:21.559288",
     "status": "completed"
    },
    "tags": []
   },
   "outputs": [
    {
     "data": {
      "text/plain": [
       "count       317\n",
       "unique        2\n",
       "top       Alive\n",
       "freq        255\n",
       "Name: Patient_Status, dtype: object"
      ]
     },
     "execution_count": 32,
     "metadata": {},
     "output_type": "execute_result"
    }
   ],
   "source": [
    "data['Patient_Status'].describe()"
   ]
  },
  {
   "cell_type": "code",
   "execution_count": 33,
   "id": "3464025f",
   "metadata": {
    "execution": {
     "iopub.execute_input": "2022-08-25T13:05:21.633156Z",
     "iopub.status.busy": "2022-08-25T13:05:21.632709Z",
     "iopub.status.idle": "2022-08-25T13:05:21.640352Z",
     "shell.execute_reply": "2022-08-25T13:05:21.639470Z"
    },
    "papermill": {
     "duration": 0.031175,
     "end_time": "2022-08-25T13:05:21.642427",
     "exception": false,
     "start_time": "2022-08-25T13:05:21.611252",
     "status": "completed"
    },
    "tags": []
   },
   "outputs": [
    {
     "data": {
      "text/plain": [
       "Alive    255\n",
       "Dead      62\n",
       "Name: Patient_Status, dtype: int64"
      ]
     },
     "execution_count": 33,
     "metadata": {},
     "output_type": "execute_result"
    }
   ],
   "source": [
    "data['Patient_Status'].value_counts()"
   ]
  },
  {
   "cell_type": "code",
   "execution_count": 34,
   "id": "a072fab5",
   "metadata": {
    "execution": {
     "iopub.execute_input": "2022-08-25T13:05:21.684339Z",
     "iopub.status.busy": "2022-08-25T13:05:21.683602Z",
     "iopub.status.idle": "2022-08-25T13:05:21.710907Z",
     "shell.execute_reply": "2022-08-25T13:05:21.710002Z"
    },
    "papermill": {
     "duration": 0.050459,
     "end_time": "2022-08-25T13:05:21.713072",
     "exception": false,
     "start_time": "2022-08-25T13:05:21.662613",
     "status": "completed"
    },
    "tags": []
   },
   "outputs": [
    {
     "data": {
      "text/html": [
       "<div>\n",
       "<style scoped>\n",
       "    .dataframe tbody tr th:only-of-type {\n",
       "        vertical-align: middle;\n",
       "    }\n",
       "\n",
       "    .dataframe tbody tr th {\n",
       "        vertical-align: top;\n",
       "    }\n",
       "\n",
       "    .dataframe thead th {\n",
       "        text-align: right;\n",
       "    }\n",
       "</style>\n",
       "<table border=\"1\" class=\"dataframe\">\n",
       "  <thead>\n",
       "    <tr style=\"text-align: right;\">\n",
       "      <th>Gender</th>\n",
       "      <th>FEMALE</th>\n",
       "      <th>MALE</th>\n",
       "    </tr>\n",
       "    <tr>\n",
       "      <th>Tumour_Stage</th>\n",
       "      <th></th>\n",
       "      <th></th>\n",
       "    </tr>\n",
       "  </thead>\n",
       "  <tbody>\n",
       "    <tr>\n",
       "      <th>I</th>\n",
       "      <td>60</td>\n",
       "      <td>0</td>\n",
       "    </tr>\n",
       "    <tr>\n",
       "      <th>II</th>\n",
       "      <td>177</td>\n",
       "      <td>3</td>\n",
       "    </tr>\n",
       "    <tr>\n",
       "      <th>III</th>\n",
       "      <td>76</td>\n",
       "      <td>1</td>\n",
       "    </tr>\n",
       "  </tbody>\n",
       "</table>\n",
       "</div>"
      ],
      "text/plain": [
       "Gender        FEMALE  MALE\n",
       "Tumour_Stage              \n",
       "I                 60     0\n",
       "II               177     3\n",
       "III               76     1"
      ]
     },
     "execution_count": 34,
     "metadata": {},
     "output_type": "execute_result"
    }
   ],
   "source": [
    "table=pd.crosstab(data['Tumour_Stage'],data['Gender'])\n",
    "table"
   ]
  },
  {
   "cell_type": "code",
   "execution_count": 35,
   "id": "021d399b",
   "metadata": {
    "execution": {
     "iopub.execute_input": "2022-08-25T13:05:21.754898Z",
     "iopub.status.busy": "2022-08-25T13:05:21.754157Z",
     "iopub.status.idle": "2022-08-25T13:05:21.952137Z",
     "shell.execute_reply": "2022-08-25T13:05:21.950944Z"
    },
    "papermill": {
     "duration": 0.221596,
     "end_time": "2022-08-25T13:05:21.954528",
     "exception": false,
     "start_time": "2022-08-25T13:05:21.732932",
     "status": "completed"
    },
    "tags": []
   },
   "outputs": [
    {
     "data": {
      "text/plain": [
       "<AxesSubplot:xlabel='Tumour_Stage'>"
      ]
     },
     "execution_count": 35,
     "metadata": {},
     "output_type": "execute_result"
    },
    {
     "data": {
      "image/png": "[encoded data removed]",
      "text/plain": [
       "<Figure size 432x288 with 1 Axes>"
      ]
     },
     "metadata": {
      "needs_background": "light"
     },
     "output_type": "display_data"
    }
   ],
   "source": [
    "table.plot(kind='bar')"
   ]
  },
  {
   "cell_type": "code",
   "execution_count": 36,
   "id": "a2c06e0b",
   "metadata": {
    "execution": {
     "iopub.execute_input": "2022-08-25T13:05:21.999813Z",
     "iopub.status.busy": "2022-08-25T13:05:21.999029Z",
     "iopub.status.idle": "2022-08-25T13:05:22.020099Z",
     "shell.execute_reply": "2022-08-25T13:05:22.018971Z"
    },
    "papermill": {
     "duration": 0.046383,
     "end_time": "2022-08-25T13:05:22.022478",
     "exception": false,
     "start_time": "2022-08-25T13:05:21.976095",
     "status": "completed"
    },
    "tags": []
   },
   "outputs": [
    {
     "data": {
      "text/html": [
       "<div>\n",
       "<style scoped>\n",
       "    .dataframe tbody tr th:only-of-type {\n",
       "        vertical-align: middle;\n",
       "    }\n",
       "\n",
       "    .dataframe tbody tr th {\n",
       "        vertical-align: top;\n",
       "    }\n",
       "\n",
       "    .dataframe thead th {\n",
       "        text-align: right;\n",
       "    }\n",
       "</style>\n",
       "<table border=\"1\" class=\"dataframe\">\n",
       "  <thead>\n",
       "    <tr style=\"text-align: right;\">\n",
       "      <th>Gender</th>\n",
       "      <th>FEMALE</th>\n",
       "      <th>MALE</th>\n",
       "    </tr>\n",
       "    <tr>\n",
       "      <th>Surgery_type</th>\n",
       "      <th></th>\n",
       "      <th></th>\n",
       "    </tr>\n",
       "  </thead>\n",
       "  <tbody>\n",
       "    <tr>\n",
       "      <th>Lumpectomy</th>\n",
       "      <td>66</td>\n",
       "      <td>0</td>\n",
       "    </tr>\n",
       "    <tr>\n",
       "      <th>Modified Radical Mastectomy</th>\n",
       "      <td>87</td>\n",
       "      <td>2</td>\n",
       "    </tr>\n",
       "    <tr>\n",
       "      <th>Other</th>\n",
       "      <td>96</td>\n",
       "      <td>1</td>\n",
       "    </tr>\n",
       "    <tr>\n",
       "      <th>Simple Mastectomy</th>\n",
       "      <td>64</td>\n",
       "      <td>1</td>\n",
       "    </tr>\n",
       "  </tbody>\n",
       "</table>\n",
       "</div>"
      ],
      "text/plain": [
       "Gender                       FEMALE  MALE\n",
       "Surgery_type                             \n",
       "Lumpectomy                       66     0\n",
       "Modified Radical Mastectomy      87     2\n",
       "Other                            96     1\n",
       "Simple Mastectomy                64     1"
      ]
     },
     "execution_count": 36,
     "metadata": {},
     "output_type": "execute_result"
    }
   ],
   "source": [
    "table=pd.crosstab(data['Surgery_type'],data['Gender'])\n",
    "table"
   ]
  },
  {
   "cell_type": "code",
   "execution_count": 37,
   "id": "4239d7ef",
   "metadata": {
    "execution": {
     "iopub.execute_input": "2022-08-25T13:05:22.067190Z",
     "iopub.status.busy": "2022-08-25T13:05:22.066358Z",
     "iopub.status.idle": "2022-08-25T13:05:22.278813Z",
     "shell.execute_reply": "2022-08-25T13:05:22.277603Z"
    },
    "papermill": {
     "duration": 0.237449,
     "end_time": "2022-08-25T13:05:22.281406",
     "exception": false,
     "start_time": "2022-08-25T13:05:22.043957",
     "status": "completed"
    },
    "tags": []
   },
   "outputs": [
    {
     "data": {
      "image/png": "[encoded data removed]",
      "text/plain": [
       "<Figure size 432x288 with 1 Axes>"
      ]
     },
     "metadata": {
      "needs_background": "light"
     },
     "output_type": "display_data"
    }
   ],
   "source": [
    "sns.countplot(x=\"Surgery_type\", data=data, hue=\"Gender\")\n",
    "plt.xticks(rotation =90)\n",
    "plt.show()"
   ]
  },
  {
   "cell_type": "code",
   "execution_count": 38,
   "id": "f321bc5a",
   "metadata": {
    "execution": {
     "iopub.execute_input": "2022-08-25T13:05:22.325369Z",
     "iopub.status.busy": "2022-08-25T13:05:22.324946Z",
     "iopub.status.idle": "2022-08-25T13:05:22.585003Z",
     "shell.execute_reply": "2022-08-25T13:05:22.583739Z"
    },
    "papermill": {
     "duration": 0.285608,
     "end_time": "2022-08-25T13:05:22.588601",
     "exception": false,
     "start_time": "2022-08-25T13:05:22.302993",
     "status": "completed"
    },
    "tags": []
   },
   "outputs": [
    {
     "data": {
      "image/png": "[encoded data removed]",
      "text/plain": [
       "<Figure size 576x360 with 1 Axes>"
      ]
     },
     "metadata": {
      "needs_background": "light"
     },
     "output_type": "display_data"
    }
   ],
   "source": [
    "x = list(range(20,105,5))\n",
    "plt.figure(figsize=(8,5))\n",
    "plt.hist(data['Age'].astype(int),width=4, align='mid', bins = x, color='red', edgecolor = 'black')\n",
    "plt.xticks(x)\n",
    "plt.xlabel('Ages')\n",
    "plt.title('Age range')\n",
    "plt.yticks(np.arange(0,65,5))\n",
    "plt.show()"
   ]
  },
  {
   "cell_type": "code",
   "execution_count": 39,
   "id": "548da84d",
   "metadata": {
    "execution": {
     "iopub.execute_input": "2022-08-25T13:05:22.637609Z",
     "iopub.status.busy": "2022-08-25T13:05:22.637191Z",
     "iopub.status.idle": "2022-08-25T13:05:22.659736Z",
     "shell.execute_reply": "2022-08-25T13:05:22.658301Z"
    },
    "papermill": {
     "duration": 0.049375,
     "end_time": "2022-08-25T13:05:22.662909",
     "exception": false,
     "start_time": "2022-08-25T13:05:22.613534",
     "status": "completed"
    },
    "tags": []
   },
   "outputs": [
    {
     "data": {
      "text/html": [
       "<div>\n",
       "<style scoped>\n",
       "    .dataframe tbody tr th:only-of-type {\n",
       "        vertical-align: middle;\n",
       "    }\n",
       "\n",
       "    .dataframe tbody tr th {\n",
       "        vertical-align: top;\n",
       "    }\n",
       "\n",
       "    .dataframe thead th {\n",
       "        text-align: right;\n",
       "    }\n",
       "</style>\n",
       "<table border=\"1\" class=\"dataframe\">\n",
       "  <thead>\n",
       "    <tr style=\"text-align: right;\">\n",
       "      <th>Gender</th>\n",
       "      <th>FEMALE</th>\n",
       "      <th>MALE</th>\n",
       "    </tr>\n",
       "    <tr>\n",
       "      <th>Patient_Status</th>\n",
       "      <th></th>\n",
       "      <th></th>\n",
       "    </tr>\n",
       "  </thead>\n",
       "  <tbody>\n",
       "    <tr>\n",
       "      <th>Alive</th>\n",
       "      <td>252</td>\n",
       "      <td>3</td>\n",
       "    </tr>\n",
       "    <tr>\n",
       "      <th>Dead</th>\n",
       "      <td>61</td>\n",
       "      <td>1</td>\n",
       "    </tr>\n",
       "  </tbody>\n",
       "</table>\n",
       "</div>"
      ],
      "text/plain": [
       "Gender          FEMALE  MALE\n",
       "Patient_Status              \n",
       "Alive              252     3\n",
       "Dead                61     1"
      ]
     },
     "execution_count": 39,
     "metadata": {},
     "output_type": "execute_result"
    }
   ],
   "source": [
    "table=pd.crosstab(data['Patient_Status'],data['Gender'])\n",
    "table"
   ]
  },
  {
   "cell_type": "code",
   "execution_count": 40,
   "id": "c7d5f323",
   "metadata": {
    "execution": {
     "iopub.execute_input": "2022-08-25T13:05:22.707718Z",
     "iopub.status.busy": "2022-08-25T13:05:22.707307Z",
     "iopub.status.idle": "2022-08-25T13:05:22.886276Z",
     "shell.execute_reply": "2022-08-25T13:05:22.885216Z"
    },
    "papermill": {
     "duration": 0.204321,
     "end_time": "2022-08-25T13:05:22.889099",
     "exception": false,
     "start_time": "2022-08-25T13:05:22.684778",
     "status": "completed"
    },
    "tags": []
   },
   "outputs": [
    {
     "data": {
      "image/png": "[encoded data removed]",
      "text/plain": [
       "<Figure size 432x288 with 1 Axes>"
      ]
     },
     "metadata": {
      "needs_background": "light"
     },
     "output_type": "display_data"
    }
   ],
   "source": [
    "sns.countplot(x=\"Patient_Status\", data=data, hue=\"Gender\")\n",
    "plt.xticks(rotation =90)\n",
    "plt.show()"
   ]
  },
  {
   "cell_type": "code",
   "execution_count": 41,
   "id": "a2257f80",
   "metadata": {
    "execution": {
     "iopub.execute_input": "2022-08-25T13:05:22.935890Z",
     "iopub.status.busy": "2022-08-25T13:05:22.935459Z",
     "iopub.status.idle": "2022-08-25T13:05:22.957663Z",
     "shell.execute_reply": "2022-08-25T13:05:22.956821Z"
    },
    "papermill": {
     "duration": 0.049085,
     "end_time": "2022-08-25T13:05:22.960162",
     "exception": false,
     "start_time": "2022-08-25T13:05:22.911077",
     "status": "completed"
    },
    "tags": []
   },
   "outputs": [
    {
     "data": {
      "text/html": [
       "<div>\n",
       "<style scoped>\n",
       "    .dataframe tbody tr th:only-of-type {\n",
       "        vertical-align: middle;\n",
       "    }\n",
       "\n",
       "    .dataframe tbody tr th {\n",
       "        vertical-align: top;\n",
       "    }\n",
       "\n",
       "    .dataframe thead th {\n",
       "        text-align: right;\n",
       "    }\n",
       "</style>\n",
       "<table border=\"1\" class=\"dataframe\">\n",
       "  <thead>\n",
       "    <tr style=\"text-align: right;\">\n",
       "      <th>Surgery_type</th>\n",
       "      <th>Lumpectomy</th>\n",
       "      <th>Modified Radical Mastectomy</th>\n",
       "      <th>Other</th>\n",
       "      <th>Simple Mastectomy</th>\n",
       "    </tr>\n",
       "    <tr>\n",
       "      <th>Patient_Status</th>\n",
       "      <th></th>\n",
       "      <th></th>\n",
       "      <th></th>\n",
       "      <th></th>\n",
       "    </tr>\n",
       "  </thead>\n",
       "  <tbody>\n",
       "    <tr>\n",
       "      <th>Alive</th>\n",
       "      <td>57</td>\n",
       "      <td>72</td>\n",
       "      <td>73</td>\n",
       "      <td>53</td>\n",
       "    </tr>\n",
       "    <tr>\n",
       "      <th>Dead</th>\n",
       "      <td>9</td>\n",
       "      <td>17</td>\n",
       "      <td>24</td>\n",
       "      <td>12</td>\n",
       "    </tr>\n",
       "  </tbody>\n",
       "</table>\n",
       "</div>"
      ],
      "text/plain": [
       "Surgery_type    Lumpectomy  Modified Radical Mastectomy  Other  \\\n",
       "Patient_Status                                                   \n",
       "Alive                   57                           72     73   \n",
       "Dead                     9                           17     24   \n",
       "\n",
       "Surgery_type    Simple Mastectomy  \n",
       "Patient_Status                     \n",
       "Alive                          53  \n",
       "Dead                           12  "
      ]
     },
     "execution_count": 41,
     "metadata": {},
     "output_type": "execute_result"
    }
   ],
   "source": [
    "table=pd.crosstab(data['Patient_Status'],data['Surgery_type'])\n",
    "table"
   ]
  },
  {
   "cell_type": "code",
   "execution_count": 42,
   "id": "9f1591fa",
   "metadata": {
    "execution": {
     "iopub.execute_input": "2022-08-25T13:05:23.005691Z",
     "iopub.status.busy": "2022-08-25T13:05:23.004988Z",
     "iopub.status.idle": "2022-08-25T13:05:23.224625Z",
     "shell.execute_reply": "2022-08-25T13:05:23.223356Z"
    },
    "papermill": {
     "duration": 0.245567,
     "end_time": "2022-08-25T13:05:23.227159",
     "exception": false,
     "start_time": "2022-08-25T13:05:22.981592",
     "status": "completed"
    },
    "tags": []
   },
   "outputs": [
    {
     "data": {
      "image/png": "[encoded data removed]",
      "text/plain": [
       "<Figure size 432x288 with 1 Axes>"
      ]
     },
     "metadata": {
      "needs_background": "light"
     },
     "output_type": "display_data"
    }
   ],
   "source": [
    "sns.countplot(x=\"Patient_Status\", data=data, hue=\"Surgery_type\")\n",
    "plt.xticks(rotation =90)\n",
    "plt.show()"
   ]
  },
  {
   "cell_type": "code",
   "execution_count": 43,
   "id": "e9e2caf2",
   "metadata": {
    "execution": {
     "iopub.execute_input": "2022-08-25T13:05:23.274067Z",
     "iopub.status.busy": "2022-08-25T13:05:23.272783Z",
     "iopub.status.idle": "2022-08-25T13:05:23.292761Z",
     "shell.execute_reply": "2022-08-25T13:05:23.291912Z"
    },
    "papermill": {
     "duration": 0.045713,
     "end_time": "2022-08-25T13:05:23.295102",
     "exception": false,
     "start_time": "2022-08-25T13:05:23.249389",
     "status": "completed"
    },
    "tags": []
   },
   "outputs": [
    {
     "data": {
      "text/html": [
       "<div>\n",
       "<style scoped>\n",
       "    .dataframe tbody tr th:only-of-type {\n",
       "        vertical-align: middle;\n",
       "    }\n",
       "\n",
       "    .dataframe tbody tr th {\n",
       "        vertical-align: top;\n",
       "    }\n",
       "\n",
       "    .dataframe thead th {\n",
       "        text-align: right;\n",
       "    }\n",
       "</style>\n",
       "<table border=\"1\" class=\"dataframe\">\n",
       "  <thead>\n",
       "    <tr style=\"text-align: right;\">\n",
       "      <th>Tumour_Stage</th>\n",
       "      <th>I</th>\n",
       "      <th>II</th>\n",
       "      <th>III</th>\n",
       "    </tr>\n",
       "    <tr>\n",
       "      <th>Patient_Status</th>\n",
       "      <th></th>\n",
       "      <th></th>\n",
       "      <th></th>\n",
       "    </tr>\n",
       "  </thead>\n",
       "  <tbody>\n",
       "    <tr>\n",
       "      <th>Alive</th>\n",
       "      <td>51</td>\n",
       "      <td>144</td>\n",
       "      <td>60</td>\n",
       "    </tr>\n",
       "    <tr>\n",
       "      <th>Dead</th>\n",
       "      <td>9</td>\n",
       "      <td>36</td>\n",
       "      <td>17</td>\n",
       "    </tr>\n",
       "  </tbody>\n",
       "</table>\n",
       "</div>"
      ],
      "text/plain": [
       "Tumour_Stage     I   II  III\n",
       "Patient_Status              \n",
       "Alive           51  144   60\n",
       "Dead             9   36   17"
      ]
     },
     "execution_count": 43,
     "metadata": {},
     "output_type": "execute_result"
    }
   ],
   "source": [
    "table=pd.crosstab(data['Patient_Status'],data['Tumour_Stage'])\n",
    "table"
   ]
  },
  {
   "cell_type": "code",
   "execution_count": 44,
   "id": "79c01347",
   "metadata": {
    "execution": {
     "iopub.execute_input": "2022-08-25T13:05:23.342016Z",
     "iopub.status.busy": "2022-08-25T13:05:23.341307Z",
     "iopub.status.idle": "2022-08-25T13:05:23.542661Z",
     "shell.execute_reply": "2022-08-25T13:05:23.541763Z"
    },
    "papermill": {
     "duration": 0.227883,
     "end_time": "2022-08-25T13:05:23.545241",
     "exception": false,
     "start_time": "2022-08-25T13:05:23.317358",
     "status": "completed"
    },
    "tags": []
   },
   "outputs": [
    {
     "data": {
      "image/png": "[encoded data removed]",
      "text/plain": [
       "<Figure size 432x288 with 1 Axes>"
      ]
     },
     "metadata": {
      "needs_background": "light"
     },
     "output_type": "display_data"
    }
   ],
   "source": [
    "sns.countplot(x=\"Patient_Status\", data=data, hue=\"Tumour_Stage\")\n",
    "plt.xticks(rotation =90)\n",
    "plt.show()"
   ]
  },
  {
   "cell_type": "code",
   "execution_count": 45,
   "id": "eff2163a",
   "metadata": {
    "execution": {
     "iopub.execute_input": "2022-08-25T13:05:23.592775Z",
     "iopub.status.busy": "2022-08-25T13:05:23.591986Z",
     "iopub.status.idle": "2022-08-25T13:05:23.612660Z",
     "shell.execute_reply": "2022-08-25T13:05:23.611654Z"
    },
    "papermill": {
     "duration": 0.046756,
     "end_time": "2022-08-25T13:05:23.615065",
     "exception": false,
     "start_time": "2022-08-25T13:05:23.568309",
     "status": "completed"
    },
    "tags": []
   },
   "outputs": [
    {
     "data": {
      "text/html": [
       "<div>\n",
       "<style scoped>\n",
       "    .dataframe tbody tr th:only-of-type {\n",
       "        vertical-align: middle;\n",
       "    }\n",
       "\n",
       "    .dataframe tbody tr th {\n",
       "        vertical-align: top;\n",
       "    }\n",
       "\n",
       "    .dataframe thead th {\n",
       "        text-align: right;\n",
       "    }\n",
       "</style>\n",
       "<table border=\"1\" class=\"dataframe\">\n",
       "  <thead>\n",
       "    <tr style=\"text-align: right;\">\n",
       "      <th>Histology</th>\n",
       "      <th>Infiltrating Ductal Carcinoma</th>\n",
       "      <th>Infiltrating Lobular Carcinoma</th>\n",
       "      <th>Mucinous Carcinoma</th>\n",
       "    </tr>\n",
       "    <tr>\n",
       "      <th>Patient_Status</th>\n",
       "      <th></th>\n",
       "      <th></th>\n",
       "      <th></th>\n",
       "    </tr>\n",
       "  </thead>\n",
       "  <tbody>\n",
       "    <tr>\n",
       "      <th>Alive</th>\n",
       "      <td>179</td>\n",
       "      <td>67</td>\n",
       "      <td>9</td>\n",
       "    </tr>\n",
       "    <tr>\n",
       "      <th>Dead</th>\n",
       "      <td>45</td>\n",
       "      <td>14</td>\n",
       "      <td>3</td>\n",
       "    </tr>\n",
       "  </tbody>\n",
       "</table>\n",
       "</div>"
      ],
      "text/plain": [
       "Histology       Infiltrating Ductal Carcinoma  Infiltrating Lobular Carcinoma  \\\n",
       "Patient_Status                                                                  \n",
       "Alive                                     179                              67   \n",
       "Dead                                       45                              14   \n",
       "\n",
       "Histology       Mucinous Carcinoma  \n",
       "Patient_Status                      \n",
       "Alive                            9  \n",
       "Dead                             3  "
      ]
     },
     "execution_count": 45,
     "metadata": {},
     "output_type": "execute_result"
    }
   ],
   "source": [
    "table=pd.crosstab(data['Patient_Status'],data['Histology'])\n",
    "table"
   ]
  },
  {
   "cell_type": "code",
   "execution_count": 46,
   "id": "e98d3d38",
   "metadata": {
    "execution": {
     "iopub.execute_input": "2022-08-25T13:05:23.662433Z",
     "iopub.status.busy": "2022-08-25T13:05:23.661713Z",
     "iopub.status.idle": "2022-08-25T13:05:23.869238Z",
     "shell.execute_reply": "2022-08-25T13:05:23.868217Z"
    },
    "papermill": {
     "duration": 0.234008,
     "end_time": "2022-08-25T13:05:23.871758",
     "exception": false,
     "start_time": "2022-08-25T13:05:23.637750",
     "status": "completed"
    },
    "tags": []
   },
   "outputs": [
    {
     "data": {
      "image/png": "[encoded data removed]",
      "text/plain": [
       "<Figure size 432x288 with 1 Axes>"
      ]
     },
     "metadata": {
      "needs_background": "light"
     },
     "output_type": "display_data"
    }
   ],
   "source": [
    "sns.countplot(x=\"Patient_Status\", data=data, hue=\"Histology\")\n",
    "plt.xticks(rotation =90)\n",
    "plt.show()"
   ]
  },
  {
   "cell_type": "code",
   "execution_count": 47,
   "id": "c31d73fc",
   "metadata": {
    "execution": {
     "iopub.execute_input": "2022-08-25T13:05:23.920025Z",
     "iopub.status.busy": "2022-08-25T13:05:23.919601Z",
     "iopub.status.idle": "2022-08-25T13:05:23.951164Z",
     "shell.execute_reply": "2022-08-25T13:05:23.950079Z"
    },
    "papermill": {
     "duration": 0.058317,
     "end_time": "2022-08-25T13:05:23.953645",
     "exception": false,
     "start_time": "2022-08-25T13:05:23.895328",
     "status": "completed"
    },
    "tags": []
   },
   "outputs": [
    {
     "data": {
      "text/html": [
       "<div>\n",
       "<style scoped>\n",
       "    .dataframe tbody tr th:only-of-type {\n",
       "        vertical-align: middle;\n",
       "    }\n",
       "\n",
       "    .dataframe tbody tr th {\n",
       "        vertical-align: top;\n",
       "    }\n",
       "\n",
       "    .dataframe thead th {\n",
       "        text-align: right;\n",
       "    }\n",
       "</style>\n",
       "<table border=\"1\" class=\"dataframe\">\n",
       "  <thead>\n",
       "    <tr style=\"text-align: right;\">\n",
       "      <th></th>\n",
       "      <th>Patient_ID</th>\n",
       "      <th>Age</th>\n",
       "      <th>Gender</th>\n",
       "      <th>Protein1</th>\n",
       "      <th>Protein2</th>\n",
       "      <th>Protein3</th>\n",
       "      <th>Protein4</th>\n",
       "      <th>Tumour_Stage</th>\n",
       "      <th>Histology</th>\n",
       "      <th>ER status</th>\n",
       "      <th>PR status</th>\n",
       "      <th>HER2 status</th>\n",
       "      <th>Surgery_type</th>\n",
       "      <th>Patient_Status</th>\n",
       "    </tr>\n",
       "  </thead>\n",
       "  <tbody>\n",
       "    <tr>\n",
       "      <th>0</th>\n",
       "      <td>TCGA-D8-A1XD</td>\n",
       "      <td>36.0</td>\n",
       "      <td>2</td>\n",
       "      <td>0.080353</td>\n",
       "      <td>0.42638</td>\n",
       "      <td>0.54715</td>\n",
       "      <td>0.273680</td>\n",
       "      <td>3</td>\n",
       "      <td>1</td>\n",
       "      <td>1</td>\n",
       "      <td>1</td>\n",
       "      <td>2</td>\n",
       "      <td>2</td>\n",
       "      <td>Alive</td>\n",
       "    </tr>\n",
       "    <tr>\n",
       "      <th>1</th>\n",
       "      <td>TCGA-EW-A1OX</td>\n",
       "      <td>43.0</td>\n",
       "      <td>2</td>\n",
       "      <td>-0.420320</td>\n",
       "      <td>0.57807</td>\n",
       "      <td>0.61447</td>\n",
       "      <td>-0.031505</td>\n",
       "      <td>2</td>\n",
       "      <td>3</td>\n",
       "      <td>1</td>\n",
       "      <td>1</td>\n",
       "      <td>2</td>\n",
       "      <td>3</td>\n",
       "      <td>Dead</td>\n",
       "    </tr>\n",
       "    <tr>\n",
       "      <th>2</th>\n",
       "      <td>TCGA-A8-A079</td>\n",
       "      <td>69.0</td>\n",
       "      <td>2</td>\n",
       "      <td>0.213980</td>\n",
       "      <td>1.31140</td>\n",
       "      <td>-0.32747</td>\n",
       "      <td>-0.234260</td>\n",
       "      <td>3</td>\n",
       "      <td>1</td>\n",
       "      <td>1</td>\n",
       "      <td>1</td>\n",
       "      <td>2</td>\n",
       "      <td>1</td>\n",
       "      <td>Alive</td>\n",
       "    </tr>\n",
       "    <tr>\n",
       "      <th>3</th>\n",
       "      <td>TCGA-D8-A1XR</td>\n",
       "      <td>56.0</td>\n",
       "      <td>2</td>\n",
       "      <td>0.345090</td>\n",
       "      <td>-0.21147</td>\n",
       "      <td>-0.19304</td>\n",
       "      <td>0.124270</td>\n",
       "      <td>2</td>\n",
       "      <td>1</td>\n",
       "      <td>1</td>\n",
       "      <td>1</td>\n",
       "      <td>2</td>\n",
       "      <td>2</td>\n",
       "      <td>Alive</td>\n",
       "    </tr>\n",
       "    <tr>\n",
       "      <th>4</th>\n",
       "      <td>TCGA-BH-A0BF</td>\n",
       "      <td>56.0</td>\n",
       "      <td>2</td>\n",
       "      <td>0.221550</td>\n",
       "      <td>1.90680</td>\n",
       "      <td>0.52045</td>\n",
       "      <td>-0.311990</td>\n",
       "      <td>2</td>\n",
       "      <td>1</td>\n",
       "      <td>1</td>\n",
       "      <td>1</td>\n",
       "      <td>2</td>\n",
       "      <td>1</td>\n",
       "      <td>Dead</td>\n",
       "    </tr>\n",
       "  </tbody>\n",
       "</table>\n",
       "</div>"
      ],
      "text/plain": [
       "     Patient_ID   Age  Gender  Protein1  Protein2  Protein3  Protein4  \\\n",
       "0  TCGA-D8-A1XD  36.0       2  0.080353   0.42638   0.54715  0.273680   \n",
       "1  TCGA-EW-A1OX  43.0       2 -0.420320   0.57807   0.61447 -0.031505   \n",
       "2  TCGA-A8-A079  69.0       2  0.213980   1.31140  -0.32747 -0.234260   \n",
       "3  TCGA-D8-A1XR  56.0       2  0.345090  -0.21147  -0.19304  0.124270   \n",
       "4  TCGA-BH-A0BF  56.0       2  0.221550   1.90680   0.52045 -0.311990   \n",
       "\n",
       "   Tumour_Stage  Histology  ER status  PR status  HER2 status  Surgery_type  \\\n",
       "0             3          1          1          1            2             2   \n",
       "1             2          3          1          1            2             3   \n",
       "2             3          1          1          1            2             1   \n",
       "3             2          1          1          1            2             2   \n",
       "4             2          1          1          1            2             1   \n",
       "\n",
       "  Patient_Status  \n",
       "0          Alive  \n",
       "1           Dead  \n",
       "2          Alive  \n",
       "3          Alive  \n",
       "4           Dead  "
      ]
     },
     "execution_count": 47,
     "metadata": {},
     "output_type": "execute_result"
    }
   ],
   "source": [
    "data['Tumour_Stage']=data['Tumour_Stage'].map({'I':1,'II':2,'III':3})\n",
    "data['Histology']=data['Histology'].map({'Infiltrating Ductal Carcinoma':1,'Infiltrating Lobular Carcinoma':2,'Mucinous Carcinoma':3,})\n",
    "data['ER status']=data['ER status'].map({'Positive':1})\n",
    "data['PR status']=data['PR status'].map({'Positive':1})\n",
    "data['HER2 status']=data['HER2 status'].map({'Positive':1,'Negative':2})\n",
    "data['Gender']=data['Gender'].map({'MALE':1,'FEMALE':2})\n",
    "data['Surgery_type']=data['Surgery_type'].map({'Other':1,'Modified Radical Mastectomy':2,'Lumpectomy':3,'Simple Mastectomy':4})\n",
    "data.head()"
   ]
  },
  {
   "cell_type": "markdown",
   "id": "abf398b8",
   "metadata": {
    "papermill": {
     "duration": 0.024306,
     "end_time": "2022-08-25T13:05:24.002401",
     "exception": false,
     "start_time": "2022-08-25T13:05:23.978095",
     "status": "completed"
    },
    "tags": []
   },
   "source": [
    "## Machine learning\n"
   ]
  },
  {
   "cell_type": "code",
   "execution_count": 48,
   "id": "9fd6e206",
   "metadata": {
    "execution": {
     "iopub.execute_input": "2022-08-25T13:05:24.052942Z",
     "iopub.status.busy": "2022-08-25T13:05:24.052530Z",
     "iopub.status.idle": "2022-08-25T13:05:24.255710Z",
     "shell.execute_reply": "2022-08-25T13:05:24.254610Z"
    },
    "papermill": {
     "duration": 0.231206,
     "end_time": "2022-08-25T13:05:24.258756",
     "exception": false,
     "start_time": "2022-08-25T13:05:24.027550",
     "status": "completed"
    },
    "tags": []
   },
   "outputs": [],
   "source": [
    "x=data[[\"Age\",\"Gender\",\"Protein1\",\"Protein2\",\"Protein3\",\"Protein4\",\"Tumour_Stage\",\"Histology\",\"ER status\",\"PR status\",\"HER2 status\",\"Surgery_type\"]]\n",
    "#independent variable\n",
    "y=data[\"Patient_Status\"] #dependent Variable\n",
    "from sklearn.model_selection import train_test_split"
   ]
  },
  {
   "cell_type": "code",
   "execution_count": 49,
   "id": "cc252aa8",
   "metadata": {
    "execution": {
     "iopub.execute_input": "2022-08-25T13:05:24.307159Z",
     "iopub.status.busy": "2022-08-25T13:05:24.306736Z",
     "iopub.status.idle": "2022-08-25T13:05:24.314168Z",
     "shell.execute_reply": "2022-08-25T13:05:24.313300Z"
    },
    "papermill": {
     "duration": 0.034177,
     "end_time": "2022-08-25T13:05:24.316425",
     "exception": false,
     "start_time": "2022-08-25T13:05:24.282248",
     "status": "completed"
    },
    "tags": []
   },
   "outputs": [],
   "source": [
    "#Splitting data into train and test data\n",
    "X_train, X_test, y_train, y_test=train_test_split(x,y, test_size=0.2,random_state=42)"
   ]
  },
  {
   "cell_type": "code",
   "execution_count": 50,
   "id": "9701e3d6",
   "metadata": {
    "execution": {
     "iopub.execute_input": "2022-08-25T13:05:24.365755Z",
     "iopub.status.busy": "2022-08-25T13:05:24.364950Z",
     "iopub.status.idle": "2022-08-25T13:05:24.459069Z",
     "shell.execute_reply": "2022-08-25T13:05:24.457759Z"
    },
    "papermill": {
     "duration": 0.121916,
     "end_time": "2022-08-25T13:05:24.461673",
     "exception": false,
     "start_time": "2022-08-25T13:05:24.339757",
     "status": "completed"
    },
    "tags": []
   },
   "outputs": [
    {
     "data": {
      "text/plain": [
       "SVC()"
      ]
     },
     "execution_count": 50,
     "metadata": {},
     "output_type": "execute_result"
    }
   ],
   "source": [
    "from sklearn.svm import SVC\n",
    "model = SVC()\n",
    "model.fit(X_train,y_train)"
   ]
  },
  {
   "cell_type": "code",
   "execution_count": 51,
   "id": "65b45e51",
   "metadata": {
    "execution": {
     "iopub.execute_input": "2022-08-25T13:05:24.511439Z",
     "iopub.status.busy": "2022-08-25T13:05:24.511056Z",
     "iopub.status.idle": "2022-08-25T13:05:24.518456Z",
     "shell.execute_reply": "2022-08-25T13:05:24.517436Z"
    },
    "papermill": {
     "duration": 0.0356,
     "end_time": "2022-08-25T13:05:24.520830",
     "exception": false,
     "start_time": "2022-08-25T13:05:24.485230",
     "status": "completed"
    },
    "tags": []
   },
   "outputs": [],
   "source": [
    "y_predicted=model.predict(X_test)"
   ]
  },
  {
   "cell_type": "code",
   "execution_count": 52,
   "id": "b1c54171",
   "metadata": {
    "execution": {
     "iopub.execute_input": "2022-08-25T13:05:24.571102Z",
     "iopub.status.busy": "2022-08-25T13:05:24.570156Z",
     "iopub.status.idle": "2022-08-25T13:05:24.578447Z",
     "shell.execute_reply": "2022-08-25T13:05:24.577487Z"
    },
    "papermill": {
     "duration": 0.035782,
     "end_time": "2022-08-25T13:05:24.580765",
     "exception": false,
     "start_time": "2022-08-25T13:05:24.544983",
     "status": "completed"
    },
    "tags": []
   },
   "outputs": [
    {
     "data": {
      "text/plain": [
       "0.828125"
      ]
     },
     "execution_count": 52,
     "metadata": {},
     "output_type": "execute_result"
    }
   ],
   "source": [
    "from sklearn.metrics import accuracy_score\n",
    "accuracy_score(y_test,y_predicted)"
   ]
  },
  {
   "cell_type": "code",
   "execution_count": 53,
   "id": "0d4b59dd",
   "metadata": {
    "execution": {
     "iopub.execute_input": "2022-08-25T13:05:24.632234Z",
     "iopub.status.busy": "2022-08-25T13:05:24.631395Z",
     "iopub.status.idle": "2022-08-25T13:05:24.646205Z",
     "shell.execute_reply": "2022-08-25T13:05:24.644088Z"
    },
    "papermill": {
     "duration": 0.043433,
     "end_time": "2022-08-25T13:05:24.648858",
     "exception": false,
     "start_time": "2022-08-25T13:05:24.605425",
     "status": "completed"
    },
    "tags": []
   },
   "outputs": [
    {
     "name": "stdout",
     "output_type": "stream",
     "text": [
      "['Alive']\n"
     ]
    },
    {
     "name": "stderr",
     "output_type": "stream",
     "text": [
      "/opt/conda/lib/python3.7/site-packages/sklearn/base.py:451: UserWarning: X does not have valid feature names, but SVC was fitted with feature names\n",
      "  \"X does not have valid feature names, but\"\n"
     ]
    }
   ],
   "source": [
    "# Prediction\n",
    "# features = [['Age', 'Gender', 'Protein1', 'Protein2', 'Protein3','Protein4', 'Tumour_Stage', 'Histology', 'ER status', 'PR status', 'HER2 status', 'Surgery_type']]\n",
    "features = np.array([[36.0, 1, 0.080353, 0.42638, 0.54715, 0.273680, 3, 1, 1, 1, 2, 2,]])\n",
    "print(model.predict(features))"
   ]
  },
  {
   "cell_type": "code",
   "execution_count": null,
   "id": "7d9b0ec9",
   "metadata": {
    "papermill": {
     "duration": 0.023508,
     "end_time": "2022-08-25T13:05:24.696264",
     "exception": false,
     "start_time": "2022-08-25T13:05:24.672756",
     "status": "completed"
    },
    "tags": []
   },
   "outputs": [],
   "source": []
  }
 ],
 "metadata": {
  "kernelspec": {
   "display_name": "Python 3",
   "language": "python",
   "name": "python3"
  },
  "language_info": {
   "codemirror_mode": {
    "name": "ipython",
    "version": 3
   },
   "file_extension": ".py",
   "mimetype": "text/x-python",
   "name": "python",
   "nbconvert_exporter": "python",
   "pygments_lexer": "ipython3",
   "version": "3.7.12"
  },
  "papermill": {
   "default_parameters": {},
   "duration": 16.589279,
   "end_time": "2022-08-25T13:05:25.442605",
   "environment_variables": {},
   "exception": null,
   "input_path": "__notebook__.ipynb",
   "output_path": "__notebook__.ipynb",
   "parameters": {},
   "start_time": "2022-08-25T13:05:08.853326",
   "version": "2.3.4"
  }
 },
 "nbformat": 4,
 "nbformat_minor": 5
}
